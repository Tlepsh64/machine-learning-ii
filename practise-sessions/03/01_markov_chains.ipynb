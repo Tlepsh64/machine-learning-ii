{
 "cells": [
  {
   "cell_type": "markdown",
   "metadata": {},
   "source": [
    "# Basics of Markov chains\n",
    "\n",
    "In this notebook we review basic tasks related to Markov chains:\n",
    "* parameter estimation\n",
    "* finding marginal probabilities\n",
    "* finding the most probable outcome\n",
    "\n",
    "**Supporting materials:**\n",
    "*  [belief_propagation_in_a_chain.ipynb](belief_propagation_in_a_chain.ipynb) "
   ]
  },
  {
   "cell_type": "code",
   "execution_count": 1,
   "metadata": {},
   "outputs": [],
   "source": [
    "import numpy as np\n",
    "import pandas as pd\n",
    "import scipy.stats as stats\n",
    "import sklearn\n",
    "import string\n",
    "\n",
    "from pandas import Series\n",
    "from pandas import DataFrame\n",
    "from typing import List,Tuple\n",
    "\n",
    "from pandas import Categorical\n",
    "from pandas.api.types import CategoricalDtype\n",
    "\n",
    "from tqdm import tnrange#, tqdm_notebook\n",
    "from sklearn.linear_model import LogisticRegression\n",
    "from plotnine import *\n",
    "\n",
    "# Local imports\n",
    "from common import *\n",
    "from convenience import *"
   ]
  },
  {
   "cell_type": "markdown",
   "metadata": {},
   "source": [
    "## I.  Estimating parameters of homogeneous Markov chains\n",
    "\n",
    "<img src = 'illustrations/homogenous-markov-chain.pdf' width=100%>\n",
    "\n",
    "Recall that in order to estimate initial probabilities $\\boldsymbol{\\beta}[\\cdot]$ and transition probabilities $\\boldsymbol{\\alpha}[\\cdot,\\cdot]$, we need to count starting letters and bigrams.\n",
    "After that we can use maximum likelihood estimates\n",
    "\n",
    "\\begin{align*}\n",
    "\\beta[u_1]  &= \\frac{k(\\bullet,u_1)}{k(\\bullet,*)}\\\\\n",
    "\\alpha[u_1 u_2] &= \\frac{k(u_1,u_2)}{k(u_1,*)}\n",
    "\\end{align*}\n",
    "\n",
    "or Laplace smoothing estimates\n",
    "\n",
    "\\begin{align*}\n",
    "\\beta[u_1]  &= \\frac{k(\\bullet,u_1)+c}{k(\\bullet,*)+mc}\\\\\n",
    "\\alpha[u_1 u_2] &= \\frac{k(u_1,u_2)+c}{k(u_1,*)+mc}\n",
    "\\end{align*}\n",
    "\n",
    "where $\\bullet$ denotes the start of the string, $c\\geq 0$ is the Laplace smoothing constant and $m$ is the total number of characters. "
   ]
  },
  {
   "cell_type": "markdown",
   "metadata": {},
   "source": [
    "### Preprocessing\n",
    "\n",
    "As a practical engineering trick we convert all characters to lower case and map all values outside the range `0-9a-z` to the symbol `?`, which will represent all characters we do not want to treat. For obvious reasons, this approach is valid only for English tests."
   ]
  },
  {
   "cell_type": "code",
   "execution_count": 2,
   "metadata": {},
   "outputs": [
    {
     "data": {
      "text/html": [
       "<table style=\"display:inline\"><tr><td style=\"text-align:center\">Initial data</td><td style=\"text-align:center\">Processed data</td></tr><tr><td style=\"vertical-align:top\"> <table style=\"display:inline\" border=\"1\" class=\"dataframe\">\n",
       "  <thead>\n",
       "    <tr style=\"text-align: right;\">\n",
       "      <th>words</th>\n",
       "    </tr>\n",
       "  </thead>\n",
       "  <tbody>\n",
       "    <tr>\n",
       "      <td>friendship</td>\n",
       "    </tr>\n",
       "    <tr>\n",
       "      <td>guess</td>\n",
       "    </tr>\n",
       "    <tr>\n",
       "      <td>accounts</td>\n",
       "    </tr>\n",
       "    <tr>\n",
       "      <td>it?s</td>\n",
       "    </tr>\n",
       "    <tr>\n",
       "      <td>me</td>\n",
       "    </tr>\n",
       "  </tbody>\n",
       "</table style=\"display:inline\"></td><td style=\"vertical-align:top\"> <table style=\"display:inline\" border=\"1\" class=\"dataframe\">\n",
       "  <thead>\n",
       "    <tr style=\"text-align: right;\">\n",
       "      <th>words</th>\n",
       "    </tr>\n",
       "  </thead>\n",
       "  <tbody>\n",
       "    <tr>\n",
       "      <td>friendship</td>\n",
       "    </tr>\n",
       "    <tr>\n",
       "      <td>guess</td>\n",
       "    </tr>\n",
       "    <tr>\n",
       "      <td>accounts</td>\n",
       "    </tr>\n",
       "    <tr>\n",
       "      <td>it?s</td>\n",
       "    </tr>\n",
       "    <tr>\n",
       "      <td>me</td>\n",
       "    </tr>\n",
       "  </tbody>\n",
       "</table style=\"display:inline\"></td></tr></table style=\"display:inline\">"
      ]
     },
     "metadata": {},
     "output_type": "display_data"
    }
   ],
   "source": [
    "df = pd.read_csv('data/eng_training_set.csv', header=None, names=['words'])\n",
    "old = head(df)\n",
    "df['words'] = df['words'].str.lower().str.replace('[^0-9a-z]','?')\n",
    "mdisplay([old, head(df)],['Initial data', 'Processed data'])"
   ]
  },
  {
   "cell_type": "markdown",
   "metadata": {},
   "source": [
    "### Counts of starting letters"
   ]
  },
  {
   "cell_type": "code",
   "execution_count": 3,
   "metadata": {},
   "outputs": [
    {
     "data": {
      "text/html": [
       "<div>\n",
       "<style scoped>\n",
       "    .dataframe tbody tr th:only-of-type {\n",
       "        vertical-align: middle;\n",
       "    }\n",
       "\n",
       "    .dataframe tbody tr th {\n",
       "        vertical-align: top;\n",
       "    }\n",
       "\n",
       "    .dataframe thead th {\n",
       "        text-align: right;\n",
       "    }\n",
       "</style>\n",
       "<table border=\"1\" class=\"dataframe\">\n",
       "  <thead>\n",
       "    <tr style=\"text-align: right;\">\n",
       "      <th></th>\n",
       "      <th>count</th>\n",
       "    </tr>\n",
       "    <tr>\n",
       "      <th>u1</th>\n",
       "      <th></th>\n",
       "    </tr>\n",
       "  </thead>\n",
       "  <tbody>\n",
       "    <tr>\n",
       "      <th>t</th>\n",
       "      <td>164</td>\n",
       "    </tr>\n",
       "    <tr>\n",
       "      <th>a</th>\n",
       "      <td>101</td>\n",
       "    </tr>\n",
       "    <tr>\n",
       "      <th>i</th>\n",
       "      <td>92</td>\n",
       "    </tr>\n",
       "    <tr>\n",
       "      <th>w</th>\n",
       "      <td>72</td>\n",
       "    </tr>\n",
       "    <tr>\n",
       "      <th>s</th>\n",
       "      <td>63</td>\n",
       "    </tr>\n",
       "  </tbody>\n",
       "</table>\n",
       "</div>"
      ],
      "text/plain": [
       "    count\n",
       "u1       \n",
       "t     164\n",
       "a     101\n",
       "i      92\n",
       "w      72\n",
       "s      63"
      ]
     },
     "metadata": {},
     "output_type": "display_data"
    }
   ],
   "source": [
    "start_counts = (DataFrame(df['words'].str.lower()\n",
    "                          .str[0].value_counts())\n",
    "                .reset_index()\n",
    "                .rename(columns = {'index': 'u1', 'words': 'count'})\n",
    "                .set_index(['u1']))\n",
    "display(head(start_counts))"
   ]
  },
  {
   "cell_type": "code",
   "execution_count": 4,
   "metadata": {},
   "outputs": [
    {
     "data": {
      "image/png": "[encoded data removed]",
      "text/plain": [
       "<Figure size 640x480 with 1 Axes>"
      ]
     },
     "metadata": {},
     "output_type": "display_data"
    },
    {
     "data": {
      "text/plain": [
       "<ggplot: (-9223372029308747355)>"
      ]
     },
     "execution_count": 4,
     "metadata": {},
     "output_type": "execute_result"
    }
   ],
   "source": [
    "LetterType = CategoricalDtype(list(string.ascii_lowercase) + list(string.digits) + ['?'], ordered = True)\n",
    "\n",
    "p = ggplot(start_counts.reset_index().assign(u1 = lambda df: df['u1'].astype(LetterType)))\n",
    "p = p + geom_col(aes(x = 'u1', y = 'count'))\n",
    "p + scale_x_discrete(name = '', drop = False) + scale_y_continuous(name = '')"
   ]
  },
  {
   "cell_type": "markdown",
   "metadata": {},
   "source": [
    "### Count bigrams"
   ]
  },
  {
   "cell_type": "code",
   "execution_count": 6,
   "metadata": {},
   "outputs": [],
   "source": [
    "def ngrams(text:str, n:int=2) -> List[str]:\n",
    "    '''\n",
    "    Returns a list of ngrams for the text \n",
    "    \n",
    "    Inspired by http://locallyoptimal.com/blog/2013/01/20/elegant-n-gram-generation-in-python/\n",
    "    '''\n",
    "    \n",
    "    return [''.join(x) for x in zip(*[text[i:] for i in range(n)])]"
   ]
  },
  {
   "cell_type": "code",
   "execution_count": 7,
   "metadata": {},
   "outputs": [
    {
     "name": "stdout",
     "output_type": "stream",
     "text": [
      "['a', 'b', 'c', 'd', 'e', 'f']\n",
      "['ab', 'bc', 'cd', 'de', 'ef']\n",
      "['abc', 'bcd', 'cde', 'def']\n"
     ]
    }
   ],
   "source": [
    "print(ngrams('abcdef', 1))\n",
    "print(ngrams('abcdef', 2))\n",
    "print(ngrams('abcdef', 3))"
   ]
  },
  {
   "cell_type": "code",
   "execution_count": 8,
   "metadata": {},
   "outputs": [
    {
     "data": {
      "text/html": [
       "<div>\n",
       "<style scoped>\n",
       "    .dataframe tbody tr th:only-of-type {\n",
       "        vertical-align: middle;\n",
       "    }\n",
       "\n",
       "    .dataframe tbody tr th {\n",
       "        vertical-align: top;\n",
       "    }\n",
       "\n",
       "    .dataframe thead th {\n",
       "        text-align: right;\n",
       "    }\n",
       "</style>\n",
       "<table border=\"1\" class=\"dataframe\">\n",
       "  <thead>\n",
       "    <tr style=\"text-align: right;\">\n",
       "      <th></th>\n",
       "      <th></th>\n",
       "      <th>count</th>\n",
       "    </tr>\n",
       "    <tr>\n",
       "      <th>u1</th>\n",
       "      <th>u2</th>\n",
       "      <th></th>\n",
       "    </tr>\n",
       "  </thead>\n",
       "  <tbody>\n",
       "    <tr>\n",
       "      <th>t</th>\n",
       "      <th>h</th>\n",
       "      <td>126</td>\n",
       "    </tr>\n",
       "    <tr>\n",
       "      <th>h</th>\n",
       "      <th>e</th>\n",
       "      <td>86</td>\n",
       "    </tr>\n",
       "    <tr>\n",
       "      <th>i</th>\n",
       "      <th>n</th>\n",
       "      <td>75</td>\n",
       "    </tr>\n",
       "    <tr>\n",
       "      <th>a</th>\n",
       "      <th>n</th>\n",
       "      <td>63</td>\n",
       "    </tr>\n",
       "    <tr>\n",
       "      <th>r</th>\n",
       "      <th>e</th>\n",
       "      <td>61</td>\n",
       "    </tr>\n",
       "  </tbody>\n",
       "</table>\n",
       "</div>"
      ],
      "text/plain": [
       "       count\n",
       "u1 u2       \n",
       "t  h     126\n",
       "h  e      86\n",
       "i  n      75\n",
       "a  n      63\n",
       "r  e      61"
      ]
     },
     "metadata": {},
     "output_type": "display_data"
    }
   ],
   "source": [
    "bigram_counts = (DataFrame(\n",
    "                    Series(\n",
    "                        df['words'].str.lower()\n",
    "                        .apply(ngrams).sum())\n",
    "                    .value_counts())\n",
    "                 .rename(columns = {0: 'count'})\n",
    "                 .assign(u1 = lambda df: Series(df.index.values).str[0].to_list())\n",
    "                 .assign(u2 = lambda df: Series(df.index.values).str[1].to_list())\n",
    "                 .set_index(['u1', 'u2'])\n",
    "                 )\n",
    "display(head(bigram_counts))                "
   ]
  },
  {
   "cell_type": "code",
   "execution_count": 9,
   "metadata": {},
   "outputs": [
    {
     "data": {
      "image/png": "[encoded data removed]",
      "text/plain": [
       "<Figure size 640x561.993 with 1 Axes>"
      ]
     },
     "metadata": {},
     "output_type": "display_data"
    },
    {
     "data": {
      "text/plain": [
       "<ggplot: (7546241884)>"
      ]
     },
     "metadata": {},
     "output_type": "display_data"
    }
   ],
   "source": [
    "LetterType2 = CategoricalDtype([' ', '  '] + list(string.ascii_lowercase) + list(string.digits) + ['?'], ordered = True)\n",
    "\n",
    "p = ggplot(bigram_counts\n",
    "           .reset_index()\n",
    "           .assign(u1 = lambda df: df['u1'].astype(LetterType2))\n",
    "           .assign(u2 = lambda df: df['u2'].astype(LetterType2)))\n",
    "p = p + geom_point(aes(x = 'u2', y = 'u1', size = 'count',  alpha = 'count'), color =  'blue')\n",
    "\n",
    "# Rugplot does not look good here for showing initial counts. \n",
    "# Simple points placed to the first empty slot ' ' are better.   \n",
    "# p = p + geom_rug(aes(y='u1', size='count', alpha = 'count'), color = 'red', data = start_counts.reset_index())\n",
    "#\n",
    "# However, there is a catch. \n",
    "# - plotnine converts categories to integers if they are specified through aes mapping\n",
    "# - plotnine does not convert a categorie to integer if it is specied outside aes mapping\n",
    "# Thus we have to do the conversion by ourseleves\n",
    "\n",
    "p = p + geom_point(aes(y='u1', size='count', alpha = 'count'), x = 1, color = 'red', data = start_counts.reset_index())\n",
    "p = p + coord_fixed(ratio = 1)\n",
    "p = p + scale_x_discrete(drop=False)\n",
    "p = p + scale_alpha(range=(0.5, 1)) \n",
    "p = p + scale_size(range=(1, 5))\n",
    "display(p)"
   ]
  },
  {
   "cell_type": "markdown",
   "metadata": {},
   "source": [
    "### Parameter estimates with Laplace smoothing \n",
    "\n",
    "It is common to take $c=1$ in Laplace smoothing.\n",
    "Note that counts do not contain entries for missing symbols:\n",
    "* We must insert missing zeroes or we get $\\boldsymbol{\\alpha}$ and $\\boldsymbol{\\beta}$ with wrong shapes.\n",
    "* We must insert missing zeroes before Laplace smoothing or we get wrong values. "
   ]
  },
  {
   "cell_type": "code",
   "execution_count": 10,
   "metadata": {},
   "outputs": [
    {
     "data": {
      "text/html": [
       "<table style=\"display:inline\"><tr><td style=\"text-align:center\">beta</td><td style=\"text-align:center\">alpha</td></tr><tr><td style=\"vertical-align:top\"> <table style=\"display:inline\" border=\"1\" class=\"dataframe\">\n",
       "  <thead>\n",
       "    <tr style=\"text-align: right;\">\n",
       "      <th>index</th>\n",
       "      <th>pr</th>\n",
       "    </tr>\n",
       "  </thead>\n",
       "  <tbody>\n",
       "    <tr>\n",
       "      <td>a</td>\n",
       "      <td>0.098361</td>\n",
       "    </tr>\n",
       "    <tr>\n",
       "      <td>b</td>\n",
       "      <td>0.047252</td>\n",
       "    </tr>\n",
       "    <tr>\n",
       "      <td>c</td>\n",
       "      <td>0.040501</td>\n",
       "    </tr>\n",
       "    <tr>\n",
       "      <td>d</td>\n",
       "      <td>0.027001</td>\n",
       "    </tr>\n",
       "    <tr>\n",
       "      <td>e</td>\n",
       "      <td>0.025072</td>\n",
       "    </tr>\n",
       "  </tbody>\n",
       "</table style=\"display:inline\"></td><td style=\"vertical-align:top\"> <table style=\"display:inline\" border=\"1\" class=\"dataframe\">\n",
       "  <thead>\n",
       "    <tr style=\"text-align: right;\">\n",
       "      <th>u1</th>\n",
       "      <th>u2</th>\n",
       "      <th>pr</th>\n",
       "    </tr>\n",
       "  </thead>\n",
       "  <tbody>\n",
       "    <tr>\n",
       "      <td>a</td>\n",
       "      <td>a</td>\n",
       "      <td>0.002825</td>\n",
       "    </tr>\n",
       "    <tr>\n",
       "      <td>a</td>\n",
       "      <td>b</td>\n",
       "      <td>0.033898</td>\n",
       "    </tr>\n",
       "    <tr>\n",
       "      <td>a</td>\n",
       "      <td>c</td>\n",
       "      <td>0.036723</td>\n",
       "    </tr>\n",
       "    <tr>\n",
       "      <td>a</td>\n",
       "      <td>d</td>\n",
       "      <td>0.045198</td>\n",
       "    </tr>\n",
       "    <tr>\n",
       "      <td>a</td>\n",
       "      <td>e</td>\n",
       "      <td>0.002825</td>\n",
       "    </tr>\n",
       "  </tbody>\n",
       "</table style=\"display:inline\"></td></tr></table style=\"display:inline\">"
      ]
     },
     "metadata": {},
     "output_type": "display_data"
    }
   ],
   "source": [
    "beta = ((start_counts.reindex(LetterType.categories, fill_value=0) + 1)\n",
    "        .rename(columns = {'count': 'pr'})\n",
    "        .assign(pr = lambda df: df['pr']/df['pr'].sum())\n",
    "        )\n",
    "\n",
    "# Index without gaps\n",
    "midx = pd.MultiIndex.from_product([LetterType.categories.values]*2, names = ['u1', 'u2'])\n",
    "\n",
    "alpha = (bigram_counts.reindex(midx, fill_value=0).groupby(['u1'])\n",
    "         .apply(lambda df: df.assign(pr = lambda ddf: (ddf['count']+1)/(ddf['count']+1).sum()))\n",
    "         [['pr']]) \n",
    "\n",
    "mdisplay([head(beta.reset_index()), head(alpha.reset_index())], ['beta', 'alpha'])"
   ]
  },
  {
   "cell_type": "markdown",
   "metadata": {},
   "source": [
    "We must convert $\\boldsymbol{\\alpha}$ to matrix form for convenience and efficiency. "
   ]
  },
  {
   "cell_type": "code",
   "execution_count": 11,
   "metadata": {},
   "outputs": [
    {
     "name": "stdout",
     "output_type": "stream",
     "text": [
      "(37, 37)\n"
     ]
    },
    {
     "data": {
      "text/html": [
       "<div>\n",
       "<style scoped>\n",
       "    .dataframe tbody tr th:only-of-type {\n",
       "        vertical-align: middle;\n",
       "    }\n",
       "\n",
       "    .dataframe tbody tr th {\n",
       "        vertical-align: top;\n",
       "    }\n",
       "\n",
       "    .dataframe thead th {\n",
       "        text-align: right;\n",
       "    }\n",
       "</style>\n",
       "<table border=\"1\" class=\"dataframe\">\n",
       "  <thead>\n",
       "    <tr style=\"text-align: right;\">\n",
       "      <th>u2</th>\n",
       "      <th>0</th>\n",
       "      <th>1</th>\n",
       "      <th>2</th>\n",
       "      <th>3</th>\n",
       "      <th>4</th>\n",
       "      <th>5</th>\n",
       "      <th>6</th>\n",
       "      <th>7</th>\n",
       "      <th>8</th>\n",
       "      <th>9</th>\n",
       "      <th>...</th>\n",
       "      <th>q</th>\n",
       "      <th>r</th>\n",
       "      <th>s</th>\n",
       "      <th>t</th>\n",
       "      <th>u</th>\n",
       "      <th>v</th>\n",
       "      <th>w</th>\n",
       "      <th>x</th>\n",
       "      <th>y</th>\n",
       "      <th>z</th>\n",
       "    </tr>\n",
       "    <tr>\n",
       "      <th>u1</th>\n",
       "      <th></th>\n",
       "      <th></th>\n",
       "      <th></th>\n",
       "      <th></th>\n",
       "      <th></th>\n",
       "      <th></th>\n",
       "      <th></th>\n",
       "      <th></th>\n",
       "      <th></th>\n",
       "      <th></th>\n",
       "      <th></th>\n",
       "      <th></th>\n",
       "      <th></th>\n",
       "      <th></th>\n",
       "      <th></th>\n",
       "      <th></th>\n",
       "      <th></th>\n",
       "      <th></th>\n",
       "      <th></th>\n",
       "      <th></th>\n",
       "      <th></th>\n",
       "    </tr>\n",
       "  </thead>\n",
       "  <tbody>\n",
       "    <tr>\n",
       "      <th>0</th>\n",
       "      <td>0.026316</td>\n",
       "      <td>0.052632</td>\n",
       "      <td>0.026316</td>\n",
       "      <td>0.026316</td>\n",
       "      <td>0.026316</td>\n",
       "      <td>0.026316</td>\n",
       "      <td>0.026316</td>\n",
       "      <td>0.026316</td>\n",
       "      <td>0.026316</td>\n",
       "      <td>0.026316</td>\n",
       "      <td>...</td>\n",
       "      <td>0.026316</td>\n",
       "      <td>0.026316</td>\n",
       "      <td>0.026316</td>\n",
       "      <td>0.026316</td>\n",
       "      <td>0.026316</td>\n",
       "      <td>0.026316</td>\n",
       "      <td>0.026316</td>\n",
       "      <td>0.026316</td>\n",
       "      <td>0.026316</td>\n",
       "      <td>0.026316</td>\n",
       "    </tr>\n",
       "    <tr>\n",
       "      <th>1</th>\n",
       "      <td>0.025000</td>\n",
       "      <td>0.050000</td>\n",
       "      <td>0.025000</td>\n",
       "      <td>0.050000</td>\n",
       "      <td>0.025000</td>\n",
       "      <td>0.025000</td>\n",
       "      <td>0.025000</td>\n",
       "      <td>0.025000</td>\n",
       "      <td>0.025000</td>\n",
       "      <td>0.050000</td>\n",
       "      <td>...</td>\n",
       "      <td>0.025000</td>\n",
       "      <td>0.025000</td>\n",
       "      <td>0.025000</td>\n",
       "      <td>0.025000</td>\n",
       "      <td>0.025000</td>\n",
       "      <td>0.025000</td>\n",
       "      <td>0.025000</td>\n",
       "      <td>0.025000</td>\n",
       "      <td>0.025000</td>\n",
       "      <td>0.025000</td>\n",
       "    </tr>\n",
       "    <tr>\n",
       "      <th>2</th>\n",
       "      <td>0.052632</td>\n",
       "      <td>0.026316</td>\n",
       "      <td>0.026316</td>\n",
       "      <td>0.026316</td>\n",
       "      <td>0.026316</td>\n",
       "      <td>0.026316</td>\n",
       "      <td>0.026316</td>\n",
       "      <td>0.026316</td>\n",
       "      <td>0.026316</td>\n",
       "      <td>0.026316</td>\n",
       "      <td>...</td>\n",
       "      <td>0.026316</td>\n",
       "      <td>0.026316</td>\n",
       "      <td>0.026316</td>\n",
       "      <td>0.026316</td>\n",
       "      <td>0.026316</td>\n",
       "      <td>0.026316</td>\n",
       "      <td>0.026316</td>\n",
       "      <td>0.026316</td>\n",
       "      <td>0.026316</td>\n",
       "      <td>0.026316</td>\n",
       "    </tr>\n",
       "    <tr>\n",
       "      <th>3</th>\n",
       "      <td>0.026316</td>\n",
       "      <td>0.026316</td>\n",
       "      <td>0.026316</td>\n",
       "      <td>0.026316</td>\n",
       "      <td>0.026316</td>\n",
       "      <td>0.026316</td>\n",
       "      <td>0.026316</td>\n",
       "      <td>0.052632</td>\n",
       "      <td>0.026316</td>\n",
       "      <td>0.026316</td>\n",
       "      <td>...</td>\n",
       "      <td>0.026316</td>\n",
       "      <td>0.026316</td>\n",
       "      <td>0.026316</td>\n",
       "      <td>0.026316</td>\n",
       "      <td>0.026316</td>\n",
       "      <td>0.026316</td>\n",
       "      <td>0.026316</td>\n",
       "      <td>0.026316</td>\n",
       "      <td>0.026316</td>\n",
       "      <td>0.026316</td>\n",
       "    </tr>\n",
       "    <tr>\n",
       "      <th>4</th>\n",
       "      <td>0.026316</td>\n",
       "      <td>0.026316</td>\n",
       "      <td>0.026316</td>\n",
       "      <td>0.026316</td>\n",
       "      <td>0.052632</td>\n",
       "      <td>0.026316</td>\n",
       "      <td>0.026316</td>\n",
       "      <td>0.026316</td>\n",
       "      <td>0.026316</td>\n",
       "      <td>0.026316</td>\n",
       "      <td>...</td>\n",
       "      <td>0.026316</td>\n",
       "      <td>0.026316</td>\n",
       "      <td>0.026316</td>\n",
       "      <td>0.026316</td>\n",
       "      <td>0.026316</td>\n",
       "      <td>0.026316</td>\n",
       "      <td>0.026316</td>\n",
       "      <td>0.026316</td>\n",
       "      <td>0.026316</td>\n",
       "      <td>0.026316</td>\n",
       "    </tr>\n",
       "  </tbody>\n",
       "</table>\n",
       "<p>5 rows × 37 columns</p>\n",
       "</div>"
      ],
      "text/plain": [
       "u2         0         1         2         3         4         5         6  \\\n",
       "u1                                                                         \n",
       "0   0.026316  0.052632  0.026316  0.026316  0.026316  0.026316  0.026316   \n",
       "1   0.025000  0.050000  0.025000  0.050000  0.025000  0.025000  0.025000   \n",
       "2   0.052632  0.026316  0.026316  0.026316  0.026316  0.026316  0.026316   \n",
       "3   0.026316  0.026316  0.026316  0.026316  0.026316  0.026316  0.026316   \n",
       "4   0.026316  0.026316  0.026316  0.026316  0.052632  0.026316  0.026316   \n",
       "\n",
       "u2         7         8         9  ...         q         r         s         t  \\\n",
       "u1                                ...                                           \n",
       "0   0.026316  0.026316  0.026316  ...  0.026316  0.026316  0.026316  0.026316   \n",
       "1   0.025000  0.025000  0.050000  ...  0.025000  0.025000  0.025000  0.025000   \n",
       "2   0.026316  0.026316  0.026316  ...  0.026316  0.026316  0.026316  0.026316   \n",
       "3   0.052632  0.026316  0.026316  ...  0.026316  0.026316  0.026316  0.026316   \n",
       "4   0.026316  0.026316  0.026316  ...  0.026316  0.026316  0.026316  0.026316   \n",
       "\n",
       "u2         u         v         w         x         y         z  \n",
       "u1                                                              \n",
       "0   0.026316  0.026316  0.026316  0.026316  0.026316  0.026316  \n",
       "1   0.025000  0.025000  0.025000  0.025000  0.025000  0.025000  \n",
       "2   0.026316  0.026316  0.026316  0.026316  0.026316  0.026316  \n",
       "3   0.026316  0.026316  0.026316  0.026316  0.026316  0.026316  \n",
       "4   0.026316  0.026316  0.026316  0.026316  0.026316  0.026316  \n",
       "\n",
       "[5 rows x 37 columns]"
      ]
     },
     "metadata": {},
     "output_type": "display_data"
    }
   ],
   "source": [
    "alpha = alpha.unstack('u2').pipe(reset_column_index, level=0).fillna(0)\n",
    "print(alpha.shape)\n",
    "display(head(alpha))"
   ]
  },
  {
   "cell_type": "markdown",
   "metadata": {},
   "source": [
    "## II. Belief propagation in the chain\n",
    "\n",
    "Let us use belief propagation to compute marginal probabilities for each missing character in the following sequence:"
   ]
  },
  {
   "cell_type": "code",
   "execution_count": 12,
   "metadata": {},
   "outputs": [],
   "source": [
    "x = ['d', '-', 'm', '-', '-', '-', 'd', 'o', 'r', '-']"
   ]
  },
  {
   "cell_type": "markdown",
   "metadata": {},
   "source": [
    "### Initialising prior and likelihood values for the chain\n",
    "\n",
    "Note that this case differs form the problem we considered in the lecture as the evidence occurs also in the middle of the chain and not only in the ends as assumed in the lecture.\n",
    "\n",
    "\n",
    "<img src = 'illustrations/belief-propagation-in-chain-evidence-i.pdf' width=100%>\n",
    "\n",
    "Thus the initialisation and belief propagation rules are slightly different. These are derived in the file  [belief_propagation_in_a_chain.ipynb](belief_propagation_in_a_chain.ipynb) together with other belief propagation rules.\n",
    "\n",
    "\n",
    "According to more detailed analysis, we can assign  \n",
    "\n",
    "\\begin{align*}\n",
    "  \\pi_V(v)&=[v=v_*]\\\\\n",
    "  \\lambda_V(v)&= [v=v_*]\n",
    "  \\end{align*}\n",
    "\n",
    "for all nodes with direct evidence $V=v_*$.\n",
    "For the initial node $V$ without evidence, we can assign\n",
    "\n",
    "  \\begin{align*} \n",
    "  \\pi_V(v)&=\\beta[v]\\\\\n",
    "  \\end{align*}\n",
    "\n",
    "and for the last node $V$ without evidence, we can assign\n",
    "\n",
    "  \\begin{align*}\n",
    "  \\lambda_V(v)&=1\\enspace.\n",
    "  \\end{align*}"
   ]
  },
  {
   "cell_type": "code",
   "execution_count": 18,
   "metadata": {},
   "outputs": [],
   "source": [
    "n = len(x)\n",
    "Lambda = [None] * n\n",
    "Pi = [None] * n\n",
    "Pr = [None] * n\n",
    "\n",
    "# Processs all direct observations\n",
    "for i, xi in enumerate(x):\n",
    "    if xi != '-':\n",
    "        Pi[i] = Series(0, index = LetterType.categories)\n",
    "        Pi[i][xi] = 1\n",
    "        Lambda[i] = Series(0, index = LetterType.categories)\n",
    "        Lambda[i][xi] = 1\n",
    "\n",
    "        \n",
    "# Process the end without direct observation\n",
    "Lambda[n - 1] = Series(1, index = LetterType.categories)"
   ]
  },
  {
   "cell_type": "markdown",
   "metadata": {},
   "source": [
    "### Likelihood and prior propagation cycle\n",
    "\n",
    "During the belief propagation we must update likelihoods and priors that are not set previously: \n",
    "\n",
    "\n",
    "* Iterative update rule for prior goes along arrows to forward direction:\n",
    "\n",
    "\\begin{align*}\n",
    "\\pi_B&\\propto \\pi_A M_{A\\to B}\n",
    "\\end{align*}\n",
    "\n",
    "<img src = 'illustrations/belief-propagation-in-chain-prior-i.pdf' width=100%>\n",
    "\n",
    "\n",
    "* Iterative update rule for prior goes against arrows to backward direction:\n",
    "\n",
    "\\begin{align*}\n",
    "\\lambda_D&=M_{D\\to E}\\lambda_E\n",
    "\\end{align*}\n",
    "\n",
    "<img src = 'illustrations/belief-propagation-in-chain-likelihood-i.pdf' width=100%>\n"
   ]
  },
  {
   "cell_type": "code",
   "execution_count": 19,
   "metadata": {},
   "outputs": [],
   "source": [
    "for i in range(n-1):\n",
    "    if Pi[i + 1] is None:\n",
    "        Pi[i + 1] = Pi[i].dot(alpha).pipe(lambda x: x/x.sum())\n",
    "\n",
    "for i in reversed(range(1, n)):\n",
    "    if Lambda[i-1] is None:\n",
    "        Lambda[i-1] = alpha.dot(Lambda[i])"
   ]
  },
  {
   "cell_type": "markdown",
   "metadata": {},
   "source": [
    "### Posterior propagation cycle\n",
    "\n",
    "Finally, we can now compute marginal posterior probabilities for each location:\n",
    "\n",
    "\\begin{align*}\n",
    "p_C\\propto \\pi_C\\otimes\\lambda_C\n",
    "\\end{align*}\n",
    "\n",
    "<img src = 'illustrations/belief-propagation-in-chain-marginal-posterior-i.pdf' width=100%>\n"
   ]
  },
  {
   "cell_type": "code",
   "execution_count": 20,
   "metadata": {},
   "outputs": [],
   "source": [
    "for i in range(n):\n",
    "    Pr[i] = Pi[i] * Lambda[i]\n",
    "    Pr[i] = Pr[i]/Pr[i].sum()"
   ]
  },
  {
   "cell_type": "markdown",
   "metadata": {},
   "source": [
    "### Visualisation"
   ]
  },
  {
   "cell_type": "code",
   "execution_count": 21,
   "metadata": {},
   "outputs": [],
   "source": [
    "df = (DataFrame(DataFrame(Pr).T.stack())\n",
    "      .reset_index()\n",
    "      .rename(columns={'level_0': 'u', 'level_1': 'i', 0: 'pr'}))"
   ]
  },
  {
   "cell_type": "markdown",
   "metadata": {},
   "source": [
    "We visualize probabilities using circle areas but for clarity we do not show posterior points that have zero probability as they are impossible."
   ]
  },
  {
   "cell_type": "code",
   "execution_count": 71,
   "metadata": {},
   "outputs": [
    {
     "data": {
      "image/png": "[encoded data removed]",
      "text/plain": [
       "<Figure size 640x480 with 1 Axes>"
      ]
     },
     "metadata": {},
     "output_type": "display_data"
    },
    {
     "data": {
      "text/plain": [
       "<ggplot: (-9223372029308014185)>"
      ]
     },
     "metadata": {},
     "output_type": "display_data"
    }
   ],
   "source": [
    "pr_scale =((df['pr']*2).round(1)/2).sort_values().unique().tolist()\n",
    "p = ggplot(df.loc[df['pr']>0])\n",
    "p = p + geom_point(aes(x = 'i', y = 'u', size = 'pr', alpha = 'pr'), color = 'blue')\n",
    "p = p + scale_x_continuous(name='',breaks=list(range(n)))\n",
    "p = p + scale_y_discrete(name='', drop=False)\n",
    "p = p + scale_alpha(name='$\\Pr[x_i|evidence]$', breaks=pr_scale, range=(0.5, 1)) \n",
    "p = p + scale_size_area(name='$\\Pr[x_i|evidence]$', breaks=pr_scale, range=(1, 10))\n",
    "display(p)"
   ]
  },
  {
   "cell_type": "markdown",
   "metadata": {},
   "source": [
    "## III. Finding the most probable outcome \n",
    "\n",
    "The most naive way to compute the sequence that maximises the posterior probability is to compute the posterior probability\n",
    "\n",
    "\\begin{align*}\n",
    "p[\\boldsymbol{x}|\\color{red}{\\mathsf{evidence}}]\\propto\\Pr[\\color{red}{\\mathsf{evidence}}|\\boldsymbol{x}]\\cdot\\Pr[\\boldsymbol{x}]\n",
    "\\end{align*}\n",
    "\n",
    "where \n",
    "* the probability $\\Pr[\\color{red}{\\mathsf{evidence}}|\\boldsymbol{x}]$ is a zero-one indicator that shows whether $\\color{red}{\\mathsf{evidence}}$ is compatible with $\\boldsymbol{x}$ \n",
    "* the probability $\\Pr[\\boldsymbol{x}]$ is the probability assigned by Markov chain\n",
    "\n",
    "This is obviously infeasible. However, we can iteratively prolong candidate sequences:\n",
    "\n",
    "<img src = 'illustrations/chain-max-i.pdf' width=100%>\n",
    "\n",
    "\n",
    "\n",
    "* For each position we will find the most probable subsequence ending with all possible outcomes.\n",
    "* For the next position we must just prolong the set of candidate sequences found in the previous position. \n",
    "* We can always drop sequences that are incompatible with the evidence."
   ]
  },
  {
   "cell_type": "code",
   "execution_count": 72,
   "metadata": {},
   "outputs": [],
   "source": [
    "max_pr = [None] * n\n",
    "prev_letter = [None] * n"
   ]
  },
  {
   "cell_type": "markdown",
   "metadata": {},
   "source": [
    "### Initialisation\n",
    "\n",
    "As the first observation is known, there is only one compatible subsequence. "
   ]
  },
  {
   "cell_type": "code",
   "execution_count": 73,
   "metadata": {},
   "outputs": [],
   "source": [
    "max_pr[0] = Series(0, index = LetterType.categories)\n",
    "max_pr[0]['d'] = 1 "
   ]
  },
  {
   "cell_type": "markdown",
   "metadata": {},
   "source": [
    "### Iterative update rule\n",
    "\n",
    "As you can guess,\n",
    "\n",
    "\\begin{align*}\n",
    "\\pi_{i+1}^*(v)=\n",
    "\\begin{cases}\n",
    "\\max_u \\pi_{i}^*(u)\\cdot \\alpha[u,v] &\\text{if $x_{i+1}$ is unknown}\\\\\n",
    "\\max_u \\pi_{i}^*(u)\\cdot \\alpha[u,v]\\cdot [v=x_{i+1}] & \\text{if $x_{i+1}$ is known}\n",
    "\\end{cases}\\enspace.\n",
    "\\end{align*}\n",
    "\n",
    "Technically, we can always compute $\\max_u \\pi_{i}^*(u)\\cdot \\alpha[u,v]$ and do the correction $[v=x_{i+1}]$ later on.\n",
    "The fist update step can be done in parallel by defining a matrix\n",
    "\n",
    "\\begin{align*}\n",
    "(\\pi_{i}^*(u)\\cdot \\alpha[u,v])_{u\\in U, v\\in V}\\enspace.\n",
    "\\end{align*}\n",
    "\n",
    "This operation is supported by numpy and is thus much faster than simple for-loop assignment. "
   ]
  },
  {
   "cell_type": "code",
   "execution_count": 75,
   "metadata": {},
   "outputs": [],
   "source": [
    "for i in range(n-1):\n",
    "    \n",
    "    probs = max_pr[i] * alpha.T\n",
    "    prev_letter[i + 1] = probs.idxmax(axis=1)\n",
    "    max_pr[i + 1] = probs.max(axis=1)\n",
    "    if x[i+1] != '-':\n",
    "        max_pr[i + 1].loc[max_pr[i + 1].index != x[i+1]] = 0   "
   ]
  },
  {
   "cell_type": "markdown",
   "metadata": {},
   "source": [
    "Now that we have computed candidates for the entire sequence, we can choose the maximal and go backwards to recover the corresponding assignment."
   ]
  },
  {
   "cell_type": "code",
   "execution_count": 76,
   "metadata": {},
   "outputs": [],
   "source": [
    "xmax = [None] * n\n",
    "xmax[n - 1] = max_pr[9].idxmax()\n",
    "\n",
    "for i in reversed(range(1,n)):\n",
    "    xmax[i - 1] = prev_letter[i][xmax[i]]"
   ]
  },
  {
   "cell_type": "code",
   "execution_count": 77,
   "metadata": {},
   "outputs": [
    {
     "name": "stdout",
     "output_type": "stream",
     "text": [
      "['d', 'e', 'm', 'e', 'r', 'e', 'd', 'o', 'r', 'e']\n"
     ]
    }
   ],
   "source": [
    "print(xmax)"
   ]
  },
  {
   "cell_type": "markdown",
   "metadata": {},
   "source": [
    "### Visualisation"
   ]
  },
  {
   "cell_type": "markdown",
   "metadata": {},
   "source": [
    "Let's find the maximal values of marginal posterior probabilities for the maximal posterior solution."
   ]
  },
  {
   "cell_type": "code",
   "execution_count": 116,
   "metadata": {},
   "outputs": [
    {
     "data": {
      "text/html": [
       "<div>\n",
       "<style scoped>\n",
       "    .dataframe tbody tr th:only-of-type {\n",
       "        vertical-align: middle;\n",
       "    }\n",
       "\n",
       "    .dataframe tbody tr th {\n",
       "        vertical-align: top;\n",
       "    }\n",
       "\n",
       "    .dataframe thead th {\n",
       "        text-align: right;\n",
       "    }\n",
       "</style>\n",
       "<table border=\"1\" class=\"dataframe\">\n",
       "  <thead>\n",
       "    <tr style=\"text-align: right;\">\n",
       "      <th></th>\n",
       "      <th>i</th>\n",
       "      <th>umax</th>\n",
       "      <th>upr</th>\n",
       "    </tr>\n",
       "  </thead>\n",
       "  <tbody>\n",
       "    <tr>\n",
       "      <th>0</th>\n",
       "      <td>0</td>\n",
       "      <td>d</td>\n",
       "      <td>1.000000</td>\n",
       "    </tr>\n",
       "    <tr>\n",
       "      <th>1</th>\n",
       "      <td>1</td>\n",
       "      <td>e</td>\n",
       "      <td>0.226907</td>\n",
       "    </tr>\n",
       "    <tr>\n",
       "      <th>2</th>\n",
       "      <td>2</td>\n",
       "      <td>m</td>\n",
       "      <td>1.000000</td>\n",
       "    </tr>\n",
       "    <tr>\n",
       "      <th>3</th>\n",
       "      <td>3</td>\n",
       "      <td>e</td>\n",
       "      <td>0.193854</td>\n",
       "    </tr>\n",
       "    <tr>\n",
       "      <th>4</th>\n",
       "      <td>4</td>\n",
       "      <td>r</td>\n",
       "      <td>0.094400</td>\n",
       "    </tr>\n",
       "    <tr>\n",
       "      <th>5</th>\n",
       "      <td>5</td>\n",
       "      <td>n</td>\n",
       "      <td>0.234895</td>\n",
       "    </tr>\n",
       "    <tr>\n",
       "      <th>6</th>\n",
       "      <td>6</td>\n",
       "      <td>d</td>\n",
       "      <td>1.000000</td>\n",
       "    </tr>\n",
       "    <tr>\n",
       "      <th>7</th>\n",
       "      <td>7</td>\n",
       "      <td>o</td>\n",
       "      <td>1.000000</td>\n",
       "    </tr>\n",
       "    <tr>\n",
       "      <th>8</th>\n",
       "      <td>8</td>\n",
       "      <td>r</td>\n",
       "      <td>1.000000</td>\n",
       "    </tr>\n",
       "    <tr>\n",
       "      <th>9</th>\n",
       "      <td>9</td>\n",
       "      <td>e</td>\n",
       "      <td>0.329787</td>\n",
       "    </tr>\n",
       "  </tbody>\n",
       "</table>\n",
       "</div>"
      ],
      "text/plain": [
       "   i umax       upr\n",
       "0  0    d  1.000000\n",
       "1  1    e  0.226907\n",
       "2  2    m  1.000000\n",
       "3  3    e  0.193854\n",
       "4  4    r  0.094400\n",
       "5  5    n  0.234895\n",
       "6  6    d  1.000000\n",
       "7  7    o  1.000000\n",
       "8  8    r  1.000000\n",
       "9  9    e  0.329787"
      ]
     },
     "execution_count": 116,
     "metadata": {},
     "output_type": "execute_result"
    }
   ],
   "source": [
    "pdf = (df.groupby(['i']).apply(lambda df: df.loc[df['pr'].idxmax(), ['u', 'pr']])\n",
    "       .reset_index()\n",
    "       .rename(columns={'u': 'umax', 'pr': 'upr'})\n",
    "       .assign(umax = lambda df: df['umax'].astype(LetterType)))\n",
    "pdf"
   ]
  },
  {
   "cell_type": "markdown",
   "metadata": {},
   "source": [
    "Let's mark the maximal path separately."
   ]
  },
  {
   "cell_type": "code",
   "execution_count": 117,
   "metadata": {},
   "outputs": [
    {
     "data": {
      "text/html": [
       "<div>\n",
       "<style scoped>\n",
       "    .dataframe tbody tr th:only-of-type {\n",
       "        vertical-align: middle;\n",
       "    }\n",
       "\n",
       "    .dataframe tbody tr th {\n",
       "        vertical-align: top;\n",
       "    }\n",
       "\n",
       "    .dataframe thead th {\n",
       "        text-align: right;\n",
       "    }\n",
       "</style>\n",
       "<table border=\"1\" class=\"dataframe\">\n",
       "  <thead>\n",
       "    <tr style=\"text-align: right;\">\n",
       "      <th></th>\n",
       "      <th>i</th>\n",
       "      <th>umax</th>\n",
       "      <th>upr</th>\n",
       "      <th>xmax</th>\n",
       "    </tr>\n",
       "  </thead>\n",
       "  <tbody>\n",
       "    <tr>\n",
       "      <th>0</th>\n",
       "      <td>0</td>\n",
       "      <td>d</td>\n",
       "      <td>1.000000</td>\n",
       "      <td>d</td>\n",
       "    </tr>\n",
       "    <tr>\n",
       "      <th>1</th>\n",
       "      <td>1</td>\n",
       "      <td>e</td>\n",
       "      <td>0.226907</td>\n",
       "      <td>e</td>\n",
       "    </tr>\n",
       "    <tr>\n",
       "      <th>2</th>\n",
       "      <td>2</td>\n",
       "      <td>m</td>\n",
       "      <td>1.000000</td>\n",
       "      <td>m</td>\n",
       "    </tr>\n",
       "    <tr>\n",
       "      <th>3</th>\n",
       "      <td>3</td>\n",
       "      <td>e</td>\n",
       "      <td>0.193854</td>\n",
       "      <td>e</td>\n",
       "    </tr>\n",
       "    <tr>\n",
       "      <th>4</th>\n",
       "      <td>4</td>\n",
       "      <td>r</td>\n",
       "      <td>0.094400</td>\n",
       "      <td>r</td>\n",
       "    </tr>\n",
       "    <tr>\n",
       "      <th>5</th>\n",
       "      <td>5</td>\n",
       "      <td>n</td>\n",
       "      <td>0.234895</td>\n",
       "      <td>e</td>\n",
       "    </tr>\n",
       "    <tr>\n",
       "      <th>6</th>\n",
       "      <td>6</td>\n",
       "      <td>d</td>\n",
       "      <td>1.000000</td>\n",
       "      <td>d</td>\n",
       "    </tr>\n",
       "    <tr>\n",
       "      <th>7</th>\n",
       "      <td>7</td>\n",
       "      <td>o</td>\n",
       "      <td>1.000000</td>\n",
       "      <td>o</td>\n",
       "    </tr>\n",
       "    <tr>\n",
       "      <th>8</th>\n",
       "      <td>8</td>\n",
       "      <td>r</td>\n",
       "      <td>1.000000</td>\n",
       "      <td>r</td>\n",
       "    </tr>\n",
       "    <tr>\n",
       "      <th>9</th>\n",
       "      <td>9</td>\n",
       "      <td>e</td>\n",
       "      <td>0.329787</td>\n",
       "      <td>e</td>\n",
       "    </tr>\n",
       "  </tbody>\n",
       "</table>\n",
       "</div>"
      ],
      "text/plain": [
       "   i umax       upr xmax\n",
       "0  0    d  1.000000    d\n",
       "1  1    e  0.226907    e\n",
       "2  2    m  1.000000    m\n",
       "3  3    e  0.193854    e\n",
       "4  4    r  0.094400    r\n",
       "5  5    n  0.234895    e\n",
       "6  6    d  1.000000    d\n",
       "7  7    o  1.000000    o\n",
       "8  8    r  1.000000    r\n",
       "9  9    e  0.329787    e"
      ]
     },
     "execution_count": 117,
     "metadata": {},
     "output_type": "execute_result"
    }
   ],
   "source": [
    "mdf = DataFrame({'i': list(range(n)), 'xmax':xmax}).assign(xmax = lambda df: df['xmax'].astype(LetterType))\n",
    "mdf = pdf.merge(mdf, on='i')\n",
    "mdf"
   ]
  },
  {
   "cell_type": "code",
   "execution_count": 124,
   "metadata": {},
   "outputs": [
    {
     "name": "stderr",
     "output_type": "stream",
     "text": [
      "/anaconda3/envs/machine-learning/lib/python3.6/site-packages/plotnine/layer.py:517: MatplotlibDeprecationWarning: isinstance(..., numbers.Number)\n",
      "  return not cbook.iterable(value) and (cbook.is_numlike(value) or\n"
     ]
    },
    {
     "data": {
      "image/png": "[encoded data removed]",
      "text/plain": [
       "<Figure size 640x480 with 1 Axes>"
      ]
     },
     "metadata": {},
     "output_type": "display_data"
    },
    {
     "data": {
      "text/plain": [
       "<ggplot: (-9223372029306671672)>"
      ]
     },
     "metadata": {},
     "output_type": "display_data"
    }
   ],
   "source": [
    "pr_scale =((df['pr']*2).round(1)/2).sort_values().unique().tolist()\n",
    "p = ggplot(data = mdf)\n",
    "p = p + geom_point(aes(x = 'i', y = 'u', size = 'pr', alpha = 'pr'), color = 'blue', data = df.loc[df['pr']>0])\n",
    "p = p + geom_line(aes(x = 'i', y = 'xmax'), group=1, color=\"red\")\n",
    "p = p + geom_point(aes(x = 'i', y = 'umax', size = 'upr'), color = 'orange') \n",
    "p = p + scale_x_continuous(name='',breaks=list(range(n)))\n",
    "p = p + scale_y_discrete(name='', drop=False)\n",
    "p = p + scale_alpha(name='$\\Pr[x_i|evidence]$', breaks=pr_scale, range=(0.5, 1)) \n",
    "p = p + scale_size_area(name='$\\Pr[x_i|evidence]$', breaks=pr_scale, range=(1, 10))\n",
    "display(p)"
   ]
  },
  {
   "cell_type": "markdown",
   "metadata": {},
   "source": [
    "# Homework"
   ]
  },
  {
   "cell_type": "markdown",
   "metadata": {},
   "source": [
    "## 1.1 Function for imputing missing characters (<font color ='red'>1p</font>)\n",
    "\n",
    "Define a function `impute_characters_1(x:str)` that imputes missing characters in words using belief propagation and outputs the last figure showing marginal posterior distributions for each location together with the maximum aposteriori estimate.\n",
    "Test it on four different words with missing characters. "
   ]
  },
  {
   "cell_type": "code",
   "execution_count": null,
   "metadata": {},
   "outputs": [],
   "source": []
  },
  {
   "cell_type": "markdown",
   "metadata": {},
   "source": [
    "## 1.2 Position dependent imputation (<font color='red'>1p</font>)\n",
    "\n",
    "The example given above assumed that transition probabilities $\\Pr[x_{i+1}|x_i]$ are the same for all positions. The latter is not true as vowels and consonants are usually interleaved in the text.\n",
    "Download a reasonably large text collection, for instance you can use freely available books form \n",
    "[Project Gutenberg](http://www.gutenberg.org) or some news corpora. Split the text into words and train transition matrices for each location separately. Formulae for maximum likelihood and Laplace smoothing are analogous but now location specific.\n",
    "Define a function `impute_characters_2(x:str)` and compare its output with `impute_characters_2(x:str)`. To make fair comparison you must train both on the same data."
   ]
  },
  {
   "cell_type": "code",
   "execution_count": null,
   "metadata": {},
   "outputs": [],
   "source": []
  },
  {
   "cell_type": "markdown",
   "metadata": {},
   "source": [
    "## 1.3 Higher order Markov chain for imputing* (<font color='red'>2p</font>)\n",
    "\n",
    "In a higher order Markov chain, several positions in the past are needed to fix probabilities, i.e. the chain is defined through probabilities $\\Pr[x_{i+m}|x_{i+m-1},\\ldots,x_{i}]$.\n",
    "This can still be modelled as an ordinary Markov chain by increasing the state space.\n",
    "Let $\\boldsymbol{s}_i=(x_{i+m-1},\\ldots, x_{i})$ be the new state space. Then the update rule is as follows:\n",
    "\n",
    "\\begin{align*}\n",
    "\\Pr[\\boldsymbol{s}_{i+1}|\\boldsymbol{s}_i]=\n",
    "\\begin{cases}\n",
    "\\Pr[x_{i+m}|x_{i+m-1},\\ldots,x_{i}], & \\text{if } \\boldsymbol{s}_{i+1}[j+1]=\\boldsymbol{s}_{i}[j] \\text{ for } j\\in\\{0,\\ldots, m-2\\}\\\\\n",
    "0, &\\text{otherwise}\n",
    "\\end{cases}\\enspace.\n",
    "\\end{align*}\n",
    "\n",
    "As a result, you can reuse the belief propagation code from previous exercises. The only technical difference is that the beliefs and transition probabailities are shaped as multidimensional arrays and you need to flatten them back to vectors and matrices to quickly compute the effect of marginalisation.   \n",
    "\n",
    "Train a second order Markov model on the same dataset as in the previous exercise, define a function `impute_characters_3(x:str)` and compare its output with previous imputing functions."
   ]
  },
  {
   "cell_type": "markdown",
   "metadata": {},
   "source": [
    "**Hint:** The following code shows how to use numpy for doing necessary array operations."
   ]
  },
  {
   "cell_type": "code",
   "execution_count": 205,
   "metadata": {},
   "outputs": [
    {
     "data": {
      "text/html": [
       "<div>\n",
       "<style scoped>\n",
       "    .dataframe tbody tr th:only-of-type {\n",
       "        vertical-align: middle;\n",
       "    }\n",
       "\n",
       "    .dataframe tbody tr th {\n",
       "        vertical-align: top;\n",
       "    }\n",
       "\n",
       "    .dataframe thead th {\n",
       "        text-align: right;\n",
       "    }\n",
       "</style>\n",
       "<table border=\"1\" class=\"dataframe\">\n",
       "  <thead>\n",
       "    <tr style=\"text-align: right;\">\n",
       "      <th></th>\n",
       "      <th>u1</th>\n",
       "      <th>u2</th>\n",
       "      <th>pr</th>\n",
       "    </tr>\n",
       "  </thead>\n",
       "  <tbody>\n",
       "    <tr>\n",
       "      <th>0</th>\n",
       "      <td>a</td>\n",
       "      <td>a</td>\n",
       "      <td>0.1</td>\n",
       "    </tr>\n",
       "    <tr>\n",
       "      <th>1</th>\n",
       "      <td>a</td>\n",
       "      <td>b</td>\n",
       "      <td>0.2</td>\n",
       "    </tr>\n",
       "    <tr>\n",
       "      <th>2</th>\n",
       "      <td>b</td>\n",
       "      <td>a</td>\n",
       "      <td>0.3</td>\n",
       "    </tr>\n",
       "    <tr>\n",
       "      <th>3</th>\n",
       "      <td>b</td>\n",
       "      <td>b</td>\n",
       "      <td>0.4</td>\n",
       "    </tr>\n",
       "  </tbody>\n",
       "</table>\n",
       "</div>"
      ],
      "text/plain": [
       "  u1 u2   pr\n",
       "0  a  a  0.1\n",
       "1  a  b  0.2\n",
       "2  b  a  0.3\n",
       "3  b  b  0.4"
      ]
     },
     "metadata": {},
     "output_type": "display_data"
    },
    {
     "data": {
      "text/html": [
       "<div>\n",
       "<style scoped>\n",
       "    .dataframe tbody tr th:only-of-type {\n",
       "        vertical-align: middle;\n",
       "    }\n",
       "\n",
       "    .dataframe tbody tr th {\n",
       "        vertical-align: top;\n",
       "    }\n",
       "\n",
       "    .dataframe thead th {\n",
       "        text-align: right;\n",
       "    }\n",
       "</style>\n",
       "<table border=\"1\" class=\"dataframe\">\n",
       "  <thead>\n",
       "    <tr style=\"text-align: right;\">\n",
       "      <th></th>\n",
       "      <th>u1</th>\n",
       "      <th>u2</th>\n",
       "      <th>u3</th>\n",
       "      <th>pr</th>\n",
       "    </tr>\n",
       "  </thead>\n",
       "  <tbody>\n",
       "    <tr>\n",
       "      <th>0</th>\n",
       "      <td>a</td>\n",
       "      <td>a</td>\n",
       "      <td>a</td>\n",
       "      <td>0.1</td>\n",
       "    </tr>\n",
       "    <tr>\n",
       "      <th>1</th>\n",
       "      <td>a</td>\n",
       "      <td>a</td>\n",
       "      <td>b</td>\n",
       "      <td>0.9</td>\n",
       "    </tr>\n",
       "    <tr>\n",
       "      <th>2</th>\n",
       "      <td>a</td>\n",
       "      <td>b</td>\n",
       "      <td>a</td>\n",
       "      <td>0.3</td>\n",
       "    </tr>\n",
       "    <tr>\n",
       "      <th>3</th>\n",
       "      <td>a</td>\n",
       "      <td>b</td>\n",
       "      <td>b</td>\n",
       "      <td>0.7</td>\n",
       "    </tr>\n",
       "    <tr>\n",
       "      <th>4</th>\n",
       "      <td>b</td>\n",
       "      <td>a</td>\n",
       "      <td>a</td>\n",
       "      <td>0.5</td>\n",
       "    </tr>\n",
       "    <tr>\n",
       "      <th>5</th>\n",
       "      <td>b</td>\n",
       "      <td>a</td>\n",
       "      <td>b</td>\n",
       "      <td>0.5</td>\n",
       "    </tr>\n",
       "    <tr>\n",
       "      <th>6</th>\n",
       "      <td>b</td>\n",
       "      <td>b</td>\n",
       "      <td>a</td>\n",
       "      <td>0.8</td>\n",
       "    </tr>\n",
       "    <tr>\n",
       "      <th>7</th>\n",
       "      <td>b</td>\n",
       "      <td>b</td>\n",
       "      <td>b</td>\n",
       "      <td>0.2</td>\n",
       "    </tr>\n",
       "  </tbody>\n",
       "</table>\n",
       "</div>"
      ],
      "text/plain": [
       "  u1 u2 u3   pr\n",
       "0  a  a  a  0.1\n",
       "1  a  a  b  0.9\n",
       "2  a  b  a  0.3\n",
       "3  a  b  b  0.7\n",
       "4  b  a  a  0.5\n",
       "5  b  a  b  0.5\n",
       "6  b  b  a  0.8\n",
       "7  b  b  b  0.2"
      ]
     },
     "metadata": {},
     "output_type": "display_data"
    }
   ],
   "source": [
    "pi = DataFrame({'u1':['a','a','b','b'], 'u2': ['a', 'b', 'a','b'], 'pr':[0.1, 0.2, 0.3, 0.4]})\n",
    "display(pi)\n",
    "\n",
    "alpha = DataFrame({'u1': ['a','a','a','a','b','b','b','b'], \n",
    "           'u2': ['a','a','b','b','a','a','b','b'], \n",
    "           'u3': ['a','b','a','b','a','b','a','b'], \n",
    "           'pr': [.1, .9, .3, .7, .5, .5, .8, .2]})\n",
    "display(alpha)"
   ]
  },
  {
   "cell_type": "markdown",
   "metadata": {},
   "source": [
    "To apply the $\\alpha$ transformation to the vector $\\pi$ we need to reshape $\\alpha$ into a matrix with matching order of rows."
   ]
  },
  {
   "cell_type": "code",
   "execution_count": 206,
   "metadata": {},
   "outputs": [
    {
     "data": {
      "text/html": [
       "<table style=\"display:inline\"><tr><td style=\"text-align:center\">pi</td><td style=\"text-align:center\">alpha</td></tr><tr><td style=\"vertical-align:top\"> <table style=\"display:inline\" border=\"1\" class=\"dataframe\">\n",
       "  <thead>\n",
       "    <tr style=\"text-align: right;\">\n",
       "      <th>u1</th>\n",
       "      <th>u2</th>\n",
       "      <th>pr</th>\n",
       "    </tr>\n",
       "  </thead>\n",
       "  <tbody>\n",
       "    <tr>\n",
       "      <td>a</td>\n",
       "      <td>a</td>\n",
       "      <td>0.1</td>\n",
       "    </tr>\n",
       "    <tr>\n",
       "      <td>a</td>\n",
       "      <td>b</td>\n",
       "      <td>0.2</td>\n",
       "    </tr>\n",
       "    <tr>\n",
       "      <td>b</td>\n",
       "      <td>a</td>\n",
       "      <td>0.3</td>\n",
       "    </tr>\n",
       "    <tr>\n",
       "      <td>b</td>\n",
       "      <td>b</td>\n",
       "      <td>0.4</td>\n",
       "    </tr>\n",
       "  </tbody>\n",
       "</table style=\"display:inline\"></td><td style=\"vertical-align:top\"> <table style=\"display:inline\" border=\"1\" class=\"dataframe\">\n",
       "  <thead>\n",
       "    <tr style=\"text-align: right;\">\n",
       "      <th>u3</th>\n",
       "      <th>u1</th>\n",
       "      <th>u2</th>\n",
       "      <th>a</th>\n",
       "      <th>b</th>\n",
       "    </tr>\n",
       "  </thead>\n",
       "  <tbody>\n",
       "    <tr>\n",
       "      <th></th>\n",
       "      <td>a</td>\n",
       "      <td>a</td>\n",
       "      <td>0.1</td>\n",
       "      <td>0.9</td>\n",
       "    </tr>\n",
       "    <tr>\n",
       "      <th></th>\n",
       "      <td>a</td>\n",
       "      <td>b</td>\n",
       "      <td>0.3</td>\n",
       "      <td>0.7</td>\n",
       "    </tr>\n",
       "    <tr>\n",
       "      <th></th>\n",
       "      <td>b</td>\n",
       "      <td>a</td>\n",
       "      <td>0.5</td>\n",
       "      <td>0.5</td>\n",
       "    </tr>\n",
       "    <tr>\n",
       "      <th></th>\n",
       "      <td>b</td>\n",
       "      <td>b</td>\n",
       "      <td>0.8</td>\n",
       "      <td>0.2</td>\n",
       "    </tr>\n",
       "  </tbody>\n",
       "</table style=\"display:inline\"></td></tr></table style=\"display:inline\">"
      ]
     },
     "metadata": {},
     "output_type": "display_data"
    }
   ],
   "source": [
    "pi = (pi\n",
    "      .set_index(['u1','u2'])\n",
    "      .sort_index())\n",
    "\n",
    "alpham = (alpha\n",
    "         .set_index(['u1','u2','u3'])\n",
    "         .unstack(['u3'])\n",
    "         .pipe(reset_column_index, 0)\n",
    "         .sort_index())\n",
    "\n",
    "mdisplay([pi.reset_index(),alpham.reset_index()], ['pi', 'alpha'])"
   ]
  },
  {
   "cell_type": "markdown",
   "metadata": {},
   "source": [
    "The following three options give the desired result. The last result is type safe. "
   ]
  },
  {
   "cell_type": "code",
   "execution_count": 207,
   "metadata": {},
   "outputs": [
    {
     "data": {
      "text/plain": [
       "array([0.54, 0.46])"
      ]
     },
     "metadata": {},
     "output_type": "display_data"
    },
    {
     "data": {
      "text/plain": [
       "array([[0.54, 0.46]])"
      ]
     },
     "metadata": {},
     "output_type": "display_data"
    },
    {
     "data": {
      "text/html": [
       "<div>\n",
       "<style scoped>\n",
       "    .dataframe tbody tr th:only-of-type {\n",
       "        vertical-align: middle;\n",
       "    }\n",
       "\n",
       "    .dataframe tbody tr th {\n",
       "        vertical-align: top;\n",
       "    }\n",
       "\n",
       "    .dataframe thead th {\n",
       "        text-align: right;\n",
       "    }\n",
       "</style>\n",
       "<table border=\"1\" class=\"dataframe\">\n",
       "  <thead>\n",
       "    <tr style=\"text-align: right;\">\n",
       "      <th>u3</th>\n",
       "      <th>a</th>\n",
       "      <th>b</th>\n",
       "    </tr>\n",
       "  </thead>\n",
       "  <tbody>\n",
       "    <tr>\n",
       "      <th>pr</th>\n",
       "      <td>0.54</td>\n",
       "      <td>0.46</td>\n",
       "    </tr>\n",
       "  </tbody>\n",
       "</table>\n",
       "</div>"
      ],
      "text/plain": [
       "u3     a     b\n",
       "pr  0.54  0.46"
      ]
     },
     "execution_count": 207,
     "metadata": {},
     "output_type": "execute_result"
    }
   ],
   "source": [
    "display(np.dot(pi['pr'].values, alpham.values))\n",
    "display(np.dot(pi.T.values, alpham.values))\n",
    "pi.T.dot(alpham)"
   ]
  },
  {
   "cell_type": "markdown",
   "metadata": {},
   "source": [
    "Note that this operation provides probabilities for the next symbol $u_3$ while the previous symbol is forgotten.\n",
    "Thus this transformation is not enough to compute desired probabilities.\n",
    "We need to modify $\\alpha$ so that the previous symbol is not forgotten."
   ]
  },
  {
   "cell_type": "code",
   "execution_count": 219,
   "metadata": {},
   "outputs": [
    {
     "data": {
      "text/html": [
       "<div>\n",
       "<style scoped>\n",
       "    .dataframe tbody tr th:only-of-type {\n",
       "        vertical-align: middle;\n",
       "    }\n",
       "\n",
       "    .dataframe tbody tr th {\n",
       "        vertical-align: top;\n",
       "    }\n",
       "\n",
       "    .dataframe thead tr th {\n",
       "        text-align: left;\n",
       "    }\n",
       "\n",
       "    .dataframe thead tr:last-of-type th {\n",
       "        text-align: right;\n",
       "    }\n",
       "</style>\n",
       "<table border=\"1\" class=\"dataframe\">\n",
       "  <thead>\n",
       "    <tr>\n",
       "      <th></th>\n",
       "      <th>u1_new</th>\n",
       "      <th colspan=\"2\" halign=\"left\">a</th>\n",
       "      <th colspan=\"2\" halign=\"left\">b</th>\n",
       "    </tr>\n",
       "    <tr>\n",
       "      <th></th>\n",
       "      <th>u2_new</th>\n",
       "      <th>a</th>\n",
       "      <th>b</th>\n",
       "      <th>a</th>\n",
       "      <th>b</th>\n",
       "    </tr>\n",
       "    <tr>\n",
       "      <th>u1</th>\n",
       "      <th>u2</th>\n",
       "      <th></th>\n",
       "      <th></th>\n",
       "      <th></th>\n",
       "      <th></th>\n",
       "    </tr>\n",
       "  </thead>\n",
       "  <tbody>\n",
       "    <tr>\n",
       "      <th rowspan=\"2\" valign=\"top\">a</th>\n",
       "      <th>a</th>\n",
       "      <td>0.1</td>\n",
       "      <td>0.9</td>\n",
       "      <td>0.0</td>\n",
       "      <td>0.0</td>\n",
       "    </tr>\n",
       "    <tr>\n",
       "      <th>b</th>\n",
       "      <td>0.0</td>\n",
       "      <td>0.0</td>\n",
       "      <td>0.3</td>\n",
       "      <td>0.7</td>\n",
       "    </tr>\n",
       "    <tr>\n",
       "      <th rowspan=\"2\" valign=\"top\">b</th>\n",
       "      <th>a</th>\n",
       "      <td>0.5</td>\n",
       "      <td>0.5</td>\n",
       "      <td>0.0</td>\n",
       "      <td>0.0</td>\n",
       "    </tr>\n",
       "    <tr>\n",
       "      <th>b</th>\n",
       "      <td>0.0</td>\n",
       "      <td>0.0</td>\n",
       "      <td>0.8</td>\n",
       "      <td>0.2</td>\n",
       "    </tr>\n",
       "  </tbody>\n",
       "</table>\n",
       "</div>"
      ],
      "text/plain": [
       "u1_new    a         b     \n",
       "u2_new    a    b    a    b\n",
       "u1 u2                     \n",
       "a  a    0.1  0.9  0.0  0.0\n",
       "   b    0.0  0.0  0.3  0.7\n",
       "b  a    0.5  0.5  0.0  0.0\n",
       "   b    0.0  0.0  0.8  0.2"
      ]
     },
     "execution_count": 219,
     "metadata": {},
     "output_type": "execute_result"
    }
   ],
   "source": [
    "alpham = (alpha\n",
    "          .assign(u2_new = lambda df: df['u3'], u1_new = lambda df: df['u2'])\n",
    "          .set_index(['u1','u2', 'u1_new', 'u2_new'])\n",
    "          .sort_index()\n",
    "          [['pr']]\n",
    "          .unstack(['u1_new', 'u2_new'], fill_value=0)\n",
    "          .pipe(reset_column_index, 0)\n",
    "         )\n",
    "alpham"
   ]
  },
  {
   "cell_type": "code",
   "execution_count": 221,
   "metadata": {},
   "outputs": [
    {
     "data": {
      "text/plain": [
       "array([0.16, 0.24, 0.38, 0.22])"
      ]
     },
     "metadata": {},
     "output_type": "display_data"
    },
    {
     "data": {
      "text/plain": [
       "array([[0.16, 0.24, 0.38, 0.22]])"
      ]
     },
     "metadata": {},
     "output_type": "display_data"
    },
    {
     "data": {
      "text/html": [
       "<div>\n",
       "<style scoped>\n",
       "    .dataframe tbody tr th:only-of-type {\n",
       "        vertical-align: middle;\n",
       "    }\n",
       "\n",
       "    .dataframe tbody tr th {\n",
       "        vertical-align: top;\n",
       "    }\n",
       "\n",
       "    .dataframe thead th {\n",
       "        text-align: right;\n",
       "    }\n",
       "</style>\n",
       "<table border=\"1\" class=\"dataframe\">\n",
       "  <thead>\n",
       "    <tr style=\"text-align: right;\">\n",
       "      <th></th>\n",
       "      <th></th>\n",
       "      <th>pr</th>\n",
       "    </tr>\n",
       "    <tr>\n",
       "      <th>u1_new</th>\n",
       "      <th>u2_new</th>\n",
       "      <th></th>\n",
       "    </tr>\n",
       "  </thead>\n",
       "  <tbody>\n",
       "    <tr>\n",
       "      <th rowspan=\"2\" valign=\"top\">a</th>\n",
       "      <th>a</th>\n",
       "      <td>0.16</td>\n",
       "    </tr>\n",
       "    <tr>\n",
       "      <th>b</th>\n",
       "      <td>0.24</td>\n",
       "    </tr>\n",
       "    <tr>\n",
       "      <th rowspan=\"2\" valign=\"top\">b</th>\n",
       "      <th>a</th>\n",
       "      <td>0.38</td>\n",
       "    </tr>\n",
       "    <tr>\n",
       "      <th>b</th>\n",
       "      <td>0.22</td>\n",
       "    </tr>\n",
       "  </tbody>\n",
       "</table>\n",
       "</div>"
      ],
      "text/plain": [
       "                 pr\n",
       "u1_new u2_new      \n",
       "a      a       0.16\n",
       "       b       0.24\n",
       "b      a       0.38\n",
       "       b       0.22"
      ]
     },
     "execution_count": 221,
     "metadata": {},
     "output_type": "execute_result"
    }
   ],
   "source": [
    "display(np.dot(pi['pr'].values, alpham.values))\n",
    "display(np.dot(pi.T.values, alpham.values))\n",
    "pi.T.dot(alpham).T"
   ]
  },
  {
   "cell_type": "markdown",
   "metadata": {},
   "source": [
    "## 1.4 Language detection with Markov chains (<font color='red'>1p</font>)\n",
    "\n",
    "Use files `est_training_set.csv` and `eng_training_set.csv` in the directory `data` to learn model parameters $\\alpha$ and $\\beta$ for homogenous Markov chains. Visualise the parameter set as it was done above. Interpret results.\n",
    "\n",
    "Put these parameters into the formal model to compute probabilities\n",
    "\n",
    "\\begin{align*}\n",
    "      p_1 &=\\Pr[word|\\mathsf{Estonian}]\\\\\n",
    "      p_2 &=\\Pr[word|\\mathsf{English}]\n",
    "\\end{align*}\n",
    "\n",
    "and then use Bayes formula\n",
    "\n",
    "\\begin{align*}\n",
    " \\Pr[\\mathsf{Estonian}|word]\n",
    " =\\frac{\\Pr[word|\\mathsf{Estonian}]\\Pr[\\mathsf{Estonian}]}{\\Pr[word]}\n",
    "\\end{align*}\n",
    "to guess the language of a word on test samples `est_test_set.csv` and `eng_test_set.csv`.\n",
    "Why the procedure does not work if you use maximum likelihood estimates for the parameters? \n",
    "\n",
    "**Hint:** The number of samples is not the problem. You can assume that there are enough samples to estimate all parameters with high accuracy. The same problem could have manifested even if there were millions of word examples."
   ]
  },
  {
   "cell_type": "code",
   "execution_count": null,
   "metadata": {},
   "outputs": [],
   "source": []
  },
  {
   "cell_type": "code",
   "execution_count": 3,
   "metadata": {
    "collapsed": true
   },
   "outputs": [],
   "source": [
    "%config IPCompleter.greedy=True"
   ]
  }
 ],
 "metadata": {
  "kernelspec": {
   "display_name": "Python 3",
   "language": "python",
   "name": "python3"
  },
  "language_info": {
   "codemirror_mode": {
    "name": "ipython",
    "version": 3
   },
   "file_extension": ".py",
   "mimetype": "text/x-python",
   "name": "python",
   "nbconvert_exporter": "python",
   "pygments_lexer": "ipython3",
   "version": "3.6.8"
  }
 },
 "nbformat": 4,
 "nbformat_minor": 2
}
