{
 "cells": [
  {
   "cell_type": "markdown",
   "metadata": {},
   "source": [
    "# Feature selection with crossvalidation\n",
    "\n",
    "In the following we explain how 10-fold crossvalidation can be used to estimate the variance of model parameters:\n",
    "\n",
    "* During the training phase model parameters are fixed \n",
    "* Depending on the training data we can get very different parameter values\n",
    "* Training set size is appropriate if parameter values are roughly the same for most training sets\n",
    "* If a model parameter has large variablility over the training sets it cannot be trusted \n",
    "\n",
    "Note that for some models comparing parameters does not make sense, as the same prediction function can be achieved with many parameter values.\n",
    "For instance, neural networks have permutation symmetries -- predictions do not change if we change the order of neurons in hidden layers.\n",
    "Thus, estimators of parameter variance make sense only for models that have compact representation -- two different parameter sets determine two different predictors.  "
   ]
  },
  {
   "cell_type": "code",
   "execution_count": 1,
   "metadata": {},
   "outputs": [],
   "source": [
    "import numpy as np\n",
    "import pandas as pd\n",
    "import scipy.stats as stats\n",
    "import sklearn\n",
    "\n",
    "from pandas import Series\n",
    "from pandas import DataFrame\n",
    "from typing import Tuple\n",
    "\n",
    "from tqdm import tnrange#, tqdm_notebook\n",
    "from sklearn.linear_model import LogisticRegression\n",
    "from plotnine import *\n",
    "\n",
    "# Local imports\n",
    "from common import *\n",
    "from convenience import *"
   ]
  },
  {
   "cell_type": "markdown",
   "metadata": {},
   "source": [
    "## I. Experiment setup\n",
    "\n",
    "We again consider a relatively simple prediction task with a relatively small feature set and an impossible prediction task with the same feature set for comparison. \n",
    "We use majority voting and logistic regression as example classifiers as in the previous notebook. "
   ]
  },
  {
   "cell_type": "code",
   "execution_count": 2,
   "metadata": {},
   "outputs": [],
   "source": [
    "sampler_0 = lambda n: data_sampler(n, 8, lambda x: logit(x, Series([0, 0])))\n",
    "sampler_1 = lambda n: data_sampler(n, 8, lambda x: logit(x, Series([1, 1])))\n",
    "clf_1 = MajorityVoting()\n",
    "clf_2 = LogisticRegression(solver = 'lbfgs')"
   ]
  },
  {
   "cell_type": "markdown",
   "metadata": {},
   "source": [
    "## II. Modified crossvalidation algorithm\n",
    "\n",
    "We will use standard crossvalidation scheme but instead of measuring test and training errors we collect model paramaters:\n",
    "* For majority voting, the parameter set is the predictin table\n",
    "* For logistic regression, the parameter set are model coefficients "
   ]
  },
  {
   "cell_type": "code",
   "execution_count": 3,
   "metadata": {},
   "outputs": [],
   "source": [
    "k = 10\n",
    "m = 10\n",
    "n = k * m\n",
    "data = sampler_1(n)\n",
    "features = list(data.columns.values[:-1])"
   ]
  },
  {
   "cell_type": "markdown",
   "metadata": {},
   "source": [
    "### Function for computing crossvalidation splits"
   ]
  },
  {
   "cell_type": "code",
   "execution_count": 4,
   "metadata": {},
   "outputs": [],
   "source": [
    "def crossvalidation_splits(X: DataFrame, y: Series, k: int=10) -> Tuple[List[int], List[int]]:\n",
    "    assert len(X) == len(y), 'Data matrix and the target vector must match'\n",
    "    assert len(X) % k == 0,  'Crossvalidation is unimplemented for cases n != k * m'  \n",
    "    assert X.index.equals(y.index), 'Indices of the data matrix and target vector must match'\n",
    "\n",
    "    n = len(X)\n",
    "    m = int(n/k)\n",
    "    samples = np.random.permutation(X.index)\n",
    "    folds = [samples[start: start + m] for start in range(0, n, m)]\n",
    "    \n",
    "    for i in range(k):\n",
    "        training_index = [x for x in range(k) if x != i]\n",
    "        training_samples = np.concatenate([folds[i] for i in training_index])\n",
    "        test_samples = folds[i]\n",
    "        yield (i, training_samples, test_samples)"
   ]
  },
  {
   "cell_type": "markdown",
   "metadata": {},
   "source": [
    "### Way to extract coefficient of logistic regression model\n",
    "\n",
    "Logistic regression model has coefficients $\\boldsymbol{\\beta}=(\\beta_1,\\ldots,\\beta_m)$ and free term $\\beta_0$.\n",
    "The following code shows how one can extract them. "
   ]
  },
  {
   "cell_type": "code",
   "execution_count": 5,
   "metadata": {},
   "outputs": [
    {
     "name": "stdout",
     "output_type": "stream",
     "text": [
      "[-0.83468645]\n",
      "[[ 1.20429275  0.08225427  0.17357964  0.09219616  0.15071062 -0.32913553\n",
      "   0.34991782 -0.09709014]]\n"
     ]
    }
   ],
   "source": [
    "clf_2.fit(data[features], data['y'])\n",
    "print(clf_2.intercept_)\n",
    "print(clf_2.coef_)"
   ]
  },
  {
   "cell_type": "code",
   "execution_count": 6,
   "metadata": {},
   "outputs": [],
   "source": [
    "def coeff(clf)->Series:\n",
    "    assert isinstance(clf, sklearn.linear_model.logistic.LogisticRegression), \"Works only for logistic regression\"\n",
    "    return Series(clf.intercept_).append(Series(clf.coef_[0])).reset_index(drop = True)"
   ]
  },
  {
   "cell_type": "code",
   "execution_count": 7,
   "metadata": {},
   "outputs": [
    {
     "data": {
      "text/plain": [
       "0   -0.834686\n",
       "1    1.204293\n",
       "2    0.082254\n",
       "3    0.173580\n",
       "4    0.092196\n",
       "5    0.150711\n",
       "6   -0.329136\n",
       "7    0.349918\n",
       "8   -0.097090\n",
       "dtype: float64"
      ]
     },
     "execution_count": 7,
     "metadata": {},
     "output_type": "execute_result"
    }
   ],
   "source": [
    "coeff(clf_2)"
   ]
  },
  {
   "cell_type": "markdown",
   "metadata": {},
   "source": [
    "## Coefficient variance estimates"
   ]
  },
  {
   "cell_type": "markdown",
   "metadata": {},
   "source": [
    "\n",
    "Now we run crossvalidaton to get different $\\boldsymbol{\\beta}$ values."
   ]
  },
  {
   "cell_type": "code",
   "execution_count": 8,
   "metadata": {},
   "outputs": [
    {
     "data": {
      "text/html": [
       "<div>\n",
       "<style scoped>\n",
       "    .dataframe tbody tr th:only-of-type {\n",
       "        vertical-align: middle;\n",
       "    }\n",
       "\n",
       "    .dataframe tbody tr th {\n",
       "        vertical-align: top;\n",
       "    }\n",
       "\n",
       "    .dataframe thead th {\n",
       "        text-align: right;\n",
       "    }\n",
       "</style>\n",
       "<table border=\"1\" class=\"dataframe\">\n",
       "  <thead>\n",
       "    <tr style=\"text-align: right;\">\n",
       "      <th></th>\n",
       "      <th>beta_0</th>\n",
       "      <th>beta_1</th>\n",
       "      <th>beta_2</th>\n",
       "      <th>beta_3</th>\n",
       "      <th>beta_4</th>\n",
       "      <th>beta_5</th>\n",
       "      <th>beta_6</th>\n",
       "      <th>beta_7</th>\n",
       "      <th>beta_8</th>\n",
       "    </tr>\n",
       "  </thead>\n",
       "  <tbody>\n",
       "    <tr>\n",
       "      <th>0</th>\n",
       "      <td>-0.856691</td>\n",
       "      <td>1.207087</td>\n",
       "      <td>0.091872</td>\n",
       "      <td>0.059379</td>\n",
       "      <td>0.147427</td>\n",
       "      <td>0.236956</td>\n",
       "      <td>-0.616495</td>\n",
       "      <td>0.281108</td>\n",
       "      <td>0.129503</td>\n",
       "    </tr>\n",
       "    <tr>\n",
       "      <th>1</th>\n",
       "      <td>-1.120037</td>\n",
       "      <td>1.239479</td>\n",
       "      <td>0.110921</td>\n",
       "      <td>0.302168</td>\n",
       "      <td>0.096146</td>\n",
       "      <td>0.171504</td>\n",
       "      <td>-0.329141</td>\n",
       "      <td>0.306554</td>\n",
       "      <td>0.025916</td>\n",
       "    </tr>\n",
       "    <tr>\n",
       "      <th>2</th>\n",
       "      <td>-0.552030</td>\n",
       "      <td>1.249885</td>\n",
       "      <td>0.030376</td>\n",
       "      <td>0.103642</td>\n",
       "      <td>0.001009</td>\n",
       "      <td>-0.040041</td>\n",
       "      <td>-0.135922</td>\n",
       "      <td>0.419002</td>\n",
       "      <td>-0.230211</td>\n",
       "    </tr>\n",
       "    <tr>\n",
       "      <th>3</th>\n",
       "      <td>-0.602935</td>\n",
       "      <td>1.195531</td>\n",
       "      <td>0.175333</td>\n",
       "      <td>0.024148</td>\n",
       "      <td>-0.229161</td>\n",
       "      <td>0.079211</td>\n",
       "      <td>-0.091262</td>\n",
       "      <td>0.411465</td>\n",
       "      <td>-0.269236</td>\n",
       "    </tr>\n",
       "    <tr>\n",
       "      <th>4</th>\n",
       "      <td>-1.066226</td>\n",
       "      <td>1.076442</td>\n",
       "      <td>0.146648</td>\n",
       "      <td>0.383198</td>\n",
       "      <td>0.168949</td>\n",
       "      <td>0.212592</td>\n",
       "      <td>-0.307593</td>\n",
       "      <td>0.453442</td>\n",
       "      <td>0.071817</td>\n",
       "    </tr>\n",
       "    <tr>\n",
       "      <th>5</th>\n",
       "      <td>-0.892321</td>\n",
       "      <td>1.163067</td>\n",
       "      <td>0.055728</td>\n",
       "      <td>0.329111</td>\n",
       "      <td>0.031941</td>\n",
       "      <td>0.232097</td>\n",
       "      <td>-0.360400</td>\n",
       "      <td>0.480115</td>\n",
       "      <td>-0.156419</td>\n",
       "    </tr>\n",
       "    <tr>\n",
       "      <th>6</th>\n",
       "      <td>-0.708854</td>\n",
       "      <td>1.330191</td>\n",
       "      <td>0.091693</td>\n",
       "      <td>0.124163</td>\n",
       "      <td>0.190836</td>\n",
       "      <td>0.156026</td>\n",
       "      <td>-0.565161</td>\n",
       "      <td>0.213646</td>\n",
       "      <td>-0.161548</td>\n",
       "    </tr>\n",
       "    <tr>\n",
       "      <th>7</th>\n",
       "      <td>-0.885708</td>\n",
       "      <td>1.356483</td>\n",
       "      <td>-0.013148</td>\n",
       "      <td>-0.042741</td>\n",
       "      <td>0.119489</td>\n",
       "      <td>0.125388</td>\n",
       "      <td>-0.182244</td>\n",
       "      <td>0.347712</td>\n",
       "      <td>-0.199627</td>\n",
       "    </tr>\n",
       "    <tr>\n",
       "      <th>8</th>\n",
       "      <td>-0.779591</td>\n",
       "      <td>0.992383</td>\n",
       "      <td>0.105303</td>\n",
       "      <td>0.172973</td>\n",
       "      <td>0.079200</td>\n",
       "      <td>0.210199</td>\n",
       "      <td>-0.214643</td>\n",
       "      <td>0.332663</td>\n",
       "      <td>-0.143843</td>\n",
       "    </tr>\n",
       "    <tr>\n",
       "      <th>9</th>\n",
       "      <td>-0.690671</td>\n",
       "      <td>1.066703</td>\n",
       "      <td>0.022236</td>\n",
       "      <td>0.184264</td>\n",
       "      <td>0.250915</td>\n",
       "      <td>0.140143</td>\n",
       "      <td>-0.419003</td>\n",
       "      <td>0.203223</td>\n",
       "      <td>-0.082123</td>\n",
       "    </tr>\n",
       "  </tbody>\n",
       "</table>\n",
       "</div>"
      ],
      "text/plain": [
       "     beta_0    beta_1    beta_2    beta_3    beta_4    beta_5    beta_6  \\\n",
       "0 -0.856691  1.207087  0.091872  0.059379  0.147427  0.236956 -0.616495   \n",
       "1 -1.120037  1.239479  0.110921  0.302168  0.096146  0.171504 -0.329141   \n",
       "2 -0.552030  1.249885  0.030376  0.103642  0.001009 -0.040041 -0.135922   \n",
       "3 -0.602935  1.195531  0.175333  0.024148 -0.229161  0.079211 -0.091262   \n",
       "4 -1.066226  1.076442  0.146648  0.383198  0.168949  0.212592 -0.307593   \n",
       "5 -0.892321  1.163067  0.055728  0.329111  0.031941  0.232097 -0.360400   \n",
       "6 -0.708854  1.330191  0.091693  0.124163  0.190836  0.156026 -0.565161   \n",
       "7 -0.885708  1.356483 -0.013148 -0.042741  0.119489  0.125388 -0.182244   \n",
       "8 -0.779591  0.992383  0.105303  0.172973  0.079200  0.210199 -0.214643   \n",
       "9 -0.690671  1.066703  0.022236  0.184264  0.250915  0.140143 -0.419003   \n",
       "\n",
       "     beta_7    beta_8  \n",
       "0  0.281108  0.129503  \n",
       "1  0.306554  0.025916  \n",
       "2  0.419002 -0.230211  \n",
       "3  0.411465 -0.269236  \n",
       "4  0.453442  0.071817  \n",
       "5  0.480115 -0.156419  \n",
       "6  0.213646 -0.161548  \n",
       "7  0.347712 -0.199627  \n",
       "8  0.332663 -0.143843  \n",
       "9  0.203223 -0.082123  "
      ]
     },
     "metadata": {},
     "output_type": "display_data"
    }
   ],
   "source": [
    "result = (DataFrame(index =list(range(10)))\n",
    "    .reindex(columns = ['beta_{}'.format(i) for i in range(9)]))\n",
    "\n",
    "for i, training_samples, test_samples in crossvalidation_splits(data, data['y']):\n",
    "    train = data.iloc[training_samples]\n",
    "    clf_2.fit(train[features], train['y'])\n",
    "    result.loc[i, :] = coeff(clf_2).values\n",
    "display(result)"
   ]
  },
  {
   "cell_type": "markdown",
   "metadata": {},
   "source": [
    "### Visualisation\n",
    "\n",
    "Let melt the data and compute $95\\%$ confidence intervals "
   ]
  },
  {
   "cell_type": "code",
   "execution_count": 18,
   "metadata": {},
   "outputs": [
    {
     "data": {
      "text/html": [
       "<div>\n",
       "<style scoped>\n",
       "    .dataframe tbody tr th:only-of-type {\n",
       "        vertical-align: middle;\n",
       "    }\n",
       "\n",
       "    .dataframe tbody tr th {\n",
       "        vertical-align: top;\n",
       "    }\n",
       "\n",
       "    .dataframe thead th {\n",
       "        text-align: right;\n",
       "    }\n",
       "</style>\n",
       "<table border=\"1\" class=\"dataframe\">\n",
       "  <thead>\n",
       "    <tr style=\"text-align: right;\">\n",
       "      <th></th>\n",
       "      <th>fold</th>\n",
       "      <th>coefficient</th>\n",
       "      <th>value</th>\n",
       "    </tr>\n",
       "  </thead>\n",
       "  <tbody>\n",
       "    <tr>\n",
       "      <th>0</th>\n",
       "      <td>0</td>\n",
       "      <td>beta_0</td>\n",
       "      <td>-0.856691</td>\n",
       "    </tr>\n",
       "    <tr>\n",
       "      <th>1</th>\n",
       "      <td>0</td>\n",
       "      <td>beta_1</td>\n",
       "      <td>1.207087</td>\n",
       "    </tr>\n",
       "    <tr>\n",
       "      <th>2</th>\n",
       "      <td>0</td>\n",
       "      <td>beta_2</td>\n",
       "      <td>0.091872</td>\n",
       "    </tr>\n",
       "    <tr>\n",
       "      <th>3</th>\n",
       "      <td>0</td>\n",
       "      <td>beta_3</td>\n",
       "      <td>0.059379</td>\n",
       "    </tr>\n",
       "    <tr>\n",
       "      <th>4</th>\n",
       "      <td>0</td>\n",
       "      <td>beta_4</td>\n",
       "      <td>0.147427</td>\n",
       "    </tr>\n",
       "  </tbody>\n",
       "</table>\n",
       "</div>"
      ],
      "text/plain": [
       "   fold coefficient     value\n",
       "0     0      beta_0 -0.856691\n",
       "1     0      beta_1  1.207087\n",
       "2     0      beta_2  0.091872\n",
       "3     0      beta_3  0.059379\n",
       "4     0      beta_4  0.147427"
      ]
     },
     "metadata": {},
     "output_type": "display_data"
    },
    {
     "data": {
      "text/html": [
       "<div>\n",
       "<style scoped>\n",
       "    .dataframe tbody tr th:only-of-type {\n",
       "        vertical-align: middle;\n",
       "    }\n",
       "\n",
       "    .dataframe tbody tr th {\n",
       "        vertical-align: top;\n",
       "    }\n",
       "\n",
       "    .dataframe thead th {\n",
       "        text-align: right;\n",
       "    }\n",
       "</style>\n",
       "<table border=\"1\" class=\"dataframe\">\n",
       "  <thead>\n",
       "    <tr style=\"text-align: right;\">\n",
       "      <th></th>\n",
       "      <th>coefficient</th>\n",
       "      <th>mean</th>\n",
       "      <th>std</th>\n",
       "      <th>lower_ci</th>\n",
       "      <th>upper_ci</th>\n",
       "      <th>significant</th>\n",
       "    </tr>\n",
       "  </thead>\n",
       "  <tbody>\n",
       "    <tr>\n",
       "      <th>0</th>\n",
       "      <td>beta_0</td>\n",
       "      <td>-0.815506</td>\n",
       "      <td>0.185885</td>\n",
       "      <td>-0.991852</td>\n",
       "      <td>-0.639161</td>\n",
       "      <td>True</td>\n",
       "    </tr>\n",
       "    <tr>\n",
       "      <th>1</th>\n",
       "      <td>beta_1</td>\n",
       "      <td>1.187725</td>\n",
       "      <td>0.116214</td>\n",
       "      <td>1.077475</td>\n",
       "      <td>1.297975</td>\n",
       "      <td>True</td>\n",
       "    </tr>\n",
       "    <tr>\n",
       "      <th>2</th>\n",
       "      <td>beta_2</td>\n",
       "      <td>0.081696</td>\n",
       "      <td>0.058157</td>\n",
       "      <td>0.026523</td>\n",
       "      <td>0.136869</td>\n",
       "      <td>True</td>\n",
       "    </tr>\n",
       "    <tr>\n",
       "      <th>3</th>\n",
       "      <td>beta_3</td>\n",
       "      <td>0.164030</td>\n",
       "      <td>0.138791</td>\n",
       "      <td>0.032362</td>\n",
       "      <td>0.295699</td>\n",
       "      <td>True</td>\n",
       "    </tr>\n",
       "    <tr>\n",
       "      <th>4</th>\n",
       "      <td>beta_4</td>\n",
       "      <td>0.085675</td>\n",
       "      <td>0.133160</td>\n",
       "      <td>-0.040651</td>\n",
       "      <td>0.212001</td>\n",
       "      <td>False</td>\n",
       "    </tr>\n",
       "    <tr>\n",
       "      <th>5</th>\n",
       "      <td>beta_5</td>\n",
       "      <td>0.152408</td>\n",
       "      <td>0.084402</td>\n",
       "      <td>0.072337</td>\n",
       "      <td>0.232478</td>\n",
       "      <td>True</td>\n",
       "    </tr>\n",
       "    <tr>\n",
       "      <th>6</th>\n",
       "      <td>beta_6</td>\n",
       "      <td>-0.322187</td>\n",
       "      <td>0.175093</td>\n",
       "      <td>-0.488295</td>\n",
       "      <td>-0.156078</td>\n",
       "      <td>True</td>\n",
       "    </tr>\n",
       "    <tr>\n",
       "      <th>7</th>\n",
       "      <td>beta_7</td>\n",
       "      <td>0.344893</td>\n",
       "      <td>0.096023</td>\n",
       "      <td>0.253797</td>\n",
       "      <td>0.435988</td>\n",
       "      <td>True</td>\n",
       "    </tr>\n",
       "    <tr>\n",
       "      <th>8</th>\n",
       "      <td>beta_8</td>\n",
       "      <td>-0.101577</td>\n",
       "      <td>0.134477</td>\n",
       "      <td>-0.229154</td>\n",
       "      <td>0.025999</td>\n",
       "      <td>False</td>\n",
       "    </tr>\n",
       "  </tbody>\n",
       "</table>\n",
       "</div>"
      ],
      "text/plain": [
       "  coefficient      mean       std  lower_ci  upper_ci  significant\n",
       "0      beta_0 -0.815506  0.185885 -0.991852 -0.639161         True\n",
       "1      beta_1  1.187725  0.116214  1.077475  1.297975         True\n",
       "2      beta_2  0.081696  0.058157  0.026523  0.136869         True\n",
       "3      beta_3  0.164030  0.138791  0.032362  0.295699         True\n",
       "4      beta_4  0.085675  0.133160 -0.040651  0.212001        False\n",
       "5      beta_5  0.152408  0.084402  0.072337  0.232478         True\n",
       "6      beta_6 -0.322187  0.175093 -0.488295 -0.156078         True\n",
       "7      beta_7  0.344893  0.096023  0.253797  0.435988         True\n",
       "8      beta_8 -0.101577  0.134477 -0.229154  0.025999        False"
      ]
     },
     "metadata": {},
     "output_type": "display_data"
    }
   ],
   "source": [
    "df = (DataFrame(result.stack(), columns = ['value'])\n",
    "      .reset_index()\n",
    "      .rename(columns = {'level_0':'fold', 'level_1':'coefficient'}))\n",
    "display(head(df))\n",
    "\n",
    "sdf = (df.groupby(['coefficient'])\n",
    "       .aggregate({'value': ['mean', 'std']})\n",
    "       .pipe(reset_column_index, 0)\n",
    "       .assign(lower_ci = lambda df: df['mean'] - 3 * df['std']/np.sqrt(10))\n",
    "       .assign(upper_ci = lambda df: df['mean'] + 3 * df['std']/np.sqrt(10))\n",
    "       .assign(significant = lambda df: np.sign(df['lower_ci'] * df['upper_ci']) == 1)\n",
    "       .reset_index())\n",
    "display(sdf)"
   ]
  },
  {
   "cell_type": "code",
   "execution_count": 16,
   "metadata": {},
   "outputs": [
    {
     "data": {
      "image/png": "[encoded data removed]",
      "text/plain": [
       "<Figure size 640x480 with 1 Axes>"
      ]
     },
     "metadata": {},
     "output_type": "display_data"
    },
    {
     "data": {
      "text/plain": [
       "<ggplot: (-9223372029298441514)>"
      ]
     },
     "metadata": {},
     "output_type": "display_data"
    }
   ],
   "source": [
    "p = ggplot(df)\n",
    "p = p + geom_hline(yintercept = 0, color = 'red', linetype ='--')\n",
    "p = p + geom_boxplot(aes(x = 'coefficient', y = 'value'), fill = 'oldlace')\n",
    "p = p + scale_x_discrete(name = '', labels=[r'$\\beta_{}$'.format(i) for i in range(9)])\n",
    "p = p + scale_y_continuous(name = \"\", limits = (-1.5, 1.5))\n",
    "p.save('crossvalidation_parameter_variance_i.pdf', path='results', height=6, width=6, verbose=False)\n",
    "display(p)"
   ]
  },
  {
   "cell_type": "code",
   "execution_count": 19,
   "metadata": {},
   "outputs": [
    {
     "data": {
      "image/png": "[encoded data removed]",
      "text/plain": [
       "<Figure size 640x480 with 1 Axes>"
      ]
     },
     "metadata": {},
     "output_type": "display_data"
    },
    {
     "data": {
      "text/plain": [
       "<ggplot: (-9223372029298847691)>"
      ]
     },
     "metadata": {},
     "output_type": "display_data"
    }
   ],
   "source": [
    "p = ggplot(sdf)\n",
    "p = p + geom_hline(yintercept = 0, color = 'red', linetype ='--', size = 1)\n",
    "p = p + geom_pointrange(aes(x = 'coefficient', ymin = 'lower_ci', y='mean', ymax = 'upper_ci', color = 'significant'), size=0.75)\n",
    "p = p + scale_x_discrete(name = '', labels=[r'$\\beta_{}$'.format(i) for i in range(9)])\n",
    "p = p + scale_y_continuous(name = \"\", limits = (-1.5, 1.5))\n",
    "p = p + scale_color_discrete(guide = False)\n",
    "p.save('crossvalidation_parameter_variance_ii.pdf', path='results', height=6, width=6, verbose=False)\n",
    "display(p)"
   ]
  },
  {
   "cell_type": "markdown",
   "metadata": {},
   "source": [
    "# Homeworks"
   ]
  },
  {
   "cell_type": "markdown",
   "metadata": {},
   "source": [
    "## 5.1 Analysis of prediction stability (<font color='red'>3p</font>)\n",
    "\n",
    "Crossvalidation can be used to study the stability of a learning algorithm:\n",
    "\n",
    "* You can study how much do coefficients of you model vary.\n",
    "* You can study how fragile is your learning algorithm to noise.\n",
    "\n",
    "Lets explore these concepts by studing the stability of polynomial regression models $y\\sim x^2+x+1$ and $y\\sim x^8 + x^7 + \\cdots + x + 1$.\n",
    "\n",
    "* Stability of coefficients (<font color='red'>1p</font>) \n",
    "  * Fit these models on crossvalidation folds and observe regression coefficients by drawing corresponding boxplots. \n",
    "  * Study the mean and variance of individual model coefficients. Declare that a coefficient is insignificant and set it to zero when its mean is not more than 3 standard deviations away from the zero. \n",
    "  * Interpret the results. Are both models similar?\n",
    "  \n",
    "  \n",
    "* Stability of predictions (<font color='red'>1p</font>) \n",
    "  * Fit these models on crossvalidation folds.\n",
    "  * For each learned model compute prediction line in the interval $[-2,1]$.\n",
    "  * Draw a faceted plot with facets for models $y\\sim x^2+x+1$ and $y\\sim x^8 + x^7 + \\cdots + x + 1$.\n",
    "  * On each subplot plot individual prediction lines. Use `alpha=0.5` to make lines semi-transparent.\n",
    "  * Draw also average prediction line in red on the plot.\n",
    "\n",
    "\n",
    "* Stability against noise (<font color='red'>1p</font>) \n",
    "  * To study robustness against noise, you can add additional Gaussian noise to $y_i$ values of bootstrapped samples     and later estimate how much did mean square error increase as a consequence. \n",
    "  * The latter should estimate how sensitive is your method to random noise.\n",
    "  * Experiment with different scale values $\\sigma=0.001, 0.01, 0.1, 1$ and visualise results.\n",
    " \n",
    "  \n",
    "\n",
    "### Remarks\n",
    "* Use the following sampler `regr_sampler` as the data source. \n",
    "* Use [sklearn.linear_model.LinearRegression](\n",
    "https://scikit-learn.org/stable/modules/generated/sklearn.linear_model.LinearRegression.html) together with \n",
    "[sklearn.preprocessing.PolynomialFeatures](https://scikit-learn.org/stable/modules/generated/sklearn.preprocessing.PolynomialFeatures.html) to implement polynomial regression:\n",
    "  * First define additional columns $x_2=x^2, \\ldots, x_8=x^8$.\n",
    "  * Then use linear regression for find corresponding coefficients $\\beta_0,\\beta_1,\\ldots, \\beta_8$.\n",
    "* Use [numpy.random.normal](https://docs.scipy.org/doc/numpy/reference/generated/numpy.random.normal.html) to sample the additional Gaussian noise needed in the last part of the exercise."
   ]
  },
  {
   "cell_type": "code",
   "execution_count": 12,
   "metadata": {},
   "outputs": [],
   "source": [
    "%config IPCompleter.greedy=True"
   ]
  }
 ],
 "metadata": {
  "kernelspec": {
   "display_name": "Python 3",
   "language": "python",
   "name": "python3"
  },
  "language_info": {
   "codemirror_mode": {
    "name": "ipython",
    "version": 3
   },
   "file_extension": ".py",
   "mimetype": "text/x-python",
   "name": "python",
   "nbconvert_exporter": "python",
   "pygments_lexer": "ipython3",
   "version": "3.6.8"
  }
 },
 "nbformat": 4,
 "nbformat_minor": 2
}
