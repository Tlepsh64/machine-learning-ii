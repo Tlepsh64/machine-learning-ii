{
 "cells": [
  {
   "cell_type": "markdown",
   "metadata": {},
   "source": [
    "# Feature selection with cross-validation\n",
    "\n",
    "In the following, we explain how 10-fold cross-validation can be used to estimate the variance of model parameters:\n",
    "\n",
    "* During the training phase, model parameters are fixed.\n",
    "* Depending on the training data, we can get very different parameter values.\n",
    "* Training set size is appropriate if parameter values are roughly the same for most training sets.\n",
    "* If a model parameter has large variablility over the training sets, it cannot be trusted.\n",
    "\n",
    "Note that for some models, comparing parameters does not make sense as the same prediction function can be achieved with many parameter values.\n",
    "For instance, neural networks have permutation symmetries – predictions do not change if we change the order of neurons in hidden layers.\n",
    "Thus, estimators of parameter variance make sense only for models that have compact representations – two different parameter sets determine two different predictors."
   ]
  },
  {
   "cell_type": "code",
   "execution_count": 1,
   "metadata": {},
   "outputs": [],
   "source": [
    "import numpy as np\n",
    "import pandas as pd\n",
    "import scipy.stats as stats\n",
    "import sklearn\n",
    "\n",
    "from pandas import Series\n",
    "from pandas import DataFrame\n",
    "from typing import Tuple\n",
    "\n",
    "from tqdm import tnrange#, tqdm_notebook\n",
    "from sklearn.linear_model import LogisticRegression\n",
    "from plotnine import *\n",
    "\n",
    "# Local imports\n",
    "from common import *\n",
    "from convenience import *"
   ]
  },
  {
   "cell_type": "markdown",
   "metadata": {},
   "source": [
    "## I. Experiment setup\n",
    "\n",
    "We again consider a relatively simple prediction task with a relatively small feature set and an impossible prediction task with the same feature set for comparison. \n",
    "We use majority voting and logistic regression as example classifiers as in the previous notebook. "
   ]
  },
  {
   "cell_type": "code",
   "execution_count": 2,
   "metadata": {},
   "outputs": [],
   "source": [
    "sampler_0 = lambda n: data_sampler(n, 8, lambda x: logit(x, Series([0, 0])))\n",
    "sampler_1 = lambda n: data_sampler(n, 8, lambda x: logit(x, Series([1, 1])))\n",
    "clf_1 = MajorityVoting()\n",
    "clf_2 = LogisticRegression(solver = 'lbfgs')"
   ]
  },
  {
   "cell_type": "markdown",
   "metadata": {},
   "source": [
    "## II. Modified cross-validation algorithm\n",
    "\n",
    "We will use the standard cross-validation scheme but instead of measuring test and training errors, we collect model parameters:\n",
    "* For majority voting, the parameter set is the prediction table.\n",
    "* For logistic regression, the parameter set comprises model coefficients."
   ]
  },
  {
   "cell_type": "code",
   "execution_count": 3,
   "metadata": {},
   "outputs": [],
   "source": [
    "k = 10\n",
    "m = 10\n",
    "n = k * m\n",
    "data = sampler_1(n)\n",
    "features = list(data.columns.values[:-1])"
   ]
  },
  {
   "cell_type": "markdown",
   "metadata": {},
   "source": [
    "### Function for computing cross-validation splits"
   ]
  },
  {
   "cell_type": "code",
   "execution_count": 4,
   "metadata": {},
   "outputs": [],
   "source": [
    "def crossvalidation_splits(X: DataFrame, y: Series, k: int=10) -> Tuple[List[int], List[int]]:\n",
    "    assert len(X) == len(y), 'Data matrix and the target vector must match'\n",
    "    assert len(X) % k == 0,  'Crossvalidation is unimplemented for cases n != k * m'  \n",
    "    assert X.index.equals(y.index), 'Indices of the data matrix and target vector must match'\n",
    "\n",
    "    n = len(X)\n",
    "    m = int(n/k)\n",
    "    samples = np.random.permutation(X.index)\n",
    "    folds = [samples[start: start + m] for start in range(0, n, m)]\n",
    "    \n",
    "    for i in range(k):\n",
    "        training_index = [x for x in range(k) if x != i]\n",
    "        training_samples = np.concatenate([folds[i] for i in training_index])\n",
    "        test_samples = folds[i]\n",
    "        yield (i, training_samples, test_samples)"
   ]
  },
  {
   "cell_type": "markdown",
   "metadata": {},
   "source": [
    "### Way to extract coefficients of logistic regression model\n",
    "\n",
    "Logistic regression model has coefficients $\\boldsymbol{\\beta}=(\\beta_1,\\ldots,\\beta_m)$ and a free term $\\beta_0$.\n",
    "The following code shows how to extract them. "
   ]
  },
  {
   "cell_type": "code",
   "execution_count": 5,
   "metadata": {},
   "outputs": [
    {
     "name": "stdout",
     "output_type": "stream",
     "text": [
      "[0.06385959]\n",
      "[[ 0.86000517  0.36505967  0.00729999 -0.08438129  0.37976109 -0.88904146\n",
      "   0.18992377 -0.24981471]]\n"
     ]
    }
   ],
   "source": [
    "clf_2.fit(data[features], data['y'])\n",
    "print(clf_2.intercept_)\n",
    "print(clf_2.coef_)"
   ]
  },
  {
   "cell_type": "code",
   "execution_count": 6,
   "metadata": {},
   "outputs": [],
   "source": [
    "def coeff(clf)->Series:\n",
    "    assert isinstance(clf, sklearn.linear_model._logistic.LogisticRegression), \"Works only for logistic regression\"\n",
    "    return Series(clf.intercept_).append(Series(clf.coef_[0])).reset_index(drop = True)"
   ]
  },
  {
   "cell_type": "code",
   "execution_count": 7,
   "metadata": {},
   "outputs": [
    {
     "data": {
      "text/plain": [
       "0    0.063860\n",
       "1    0.860005\n",
       "2    0.365060\n",
       "3    0.007300\n",
       "4   -0.084381\n",
       "5    0.379761\n",
       "6   -0.889041\n",
       "7    0.189924\n",
       "8   -0.249815\n",
       "dtype: float64"
      ]
     },
     "execution_count": 7,
     "metadata": {},
     "output_type": "execute_result"
    }
   ],
   "source": [
    "coeff(clf_2)"
   ]
  },
  {
   "cell_type": "markdown",
   "metadata": {},
   "source": [
    "## Coefficient variance estimates"
   ]
  },
  {
   "cell_type": "markdown",
   "metadata": {},
   "source": [
    "Now we run cross-validaton to get different $\\boldsymbol{\\beta}$ values."
   ]
  },
  {
   "cell_type": "code",
   "execution_count": 8,
   "metadata": {},
   "outputs": [
    {
     "data": {
      "text/html": [
       "<div>\n",
       "<style scoped>\n",
       "    .dataframe tbody tr th:only-of-type {\n",
       "        vertical-align: middle;\n",
       "    }\n",
       "\n",
       "    .dataframe tbody tr th {\n",
       "        vertical-align: top;\n",
       "    }\n",
       "\n",
       "    .dataframe thead th {\n",
       "        text-align: right;\n",
       "    }\n",
       "</style>\n",
       "<table border=\"1\" class=\"dataframe\">\n",
       "  <thead>\n",
       "    <tr style=\"text-align: right;\">\n",
       "      <th></th>\n",
       "      <th>beta_0</th>\n",
       "      <th>beta_1</th>\n",
       "      <th>beta_2</th>\n",
       "      <th>beta_3</th>\n",
       "      <th>beta_4</th>\n",
       "      <th>beta_5</th>\n",
       "      <th>beta_6</th>\n",
       "      <th>beta_7</th>\n",
       "      <th>beta_8</th>\n",
       "    </tr>\n",
       "  </thead>\n",
       "  <tbody>\n",
       "    <tr>\n",
       "      <th>0</th>\n",
       "      <td>0.087558</td>\n",
       "      <td>0.865362</td>\n",
       "      <td>0.350025</td>\n",
       "      <td>0.015814</td>\n",
       "      <td>-0.102663</td>\n",
       "      <td>0.409723</td>\n",
       "      <td>-0.943250</td>\n",
       "      <td>0.197847</td>\n",
       "      <td>-0.263948</td>\n",
       "    </tr>\n",
       "    <tr>\n",
       "      <th>1</th>\n",
       "      <td>-0.015910</td>\n",
       "      <td>0.885803</td>\n",
       "      <td>0.270360</td>\n",
       "      <td>0.048607</td>\n",
       "      <td>0.184120</td>\n",
       "      <td>0.513116</td>\n",
       "      <td>-0.913799</td>\n",
       "      <td>0.113338</td>\n",
       "      <td>-0.246498</td>\n",
       "    </tr>\n",
       "    <tr>\n",
       "      <th>2</th>\n",
       "      <td>-0.167907</td>\n",
       "      <td>0.940724</td>\n",
       "      <td>0.430404</td>\n",
       "      <td>-0.004691</td>\n",
       "      <td>-0.016823</td>\n",
       "      <td>0.311113</td>\n",
       "      <td>-0.968877</td>\n",
       "      <td>0.483920</td>\n",
       "      <td>-0.261836</td>\n",
       "    </tr>\n",
       "    <tr>\n",
       "      <th>3</th>\n",
       "      <td>0.069937</td>\n",
       "      <td>1.038675</td>\n",
       "      <td>0.157110</td>\n",
       "      <td>-0.089304</td>\n",
       "      <td>0.010429</td>\n",
       "      <td>0.440259</td>\n",
       "      <td>-0.821025</td>\n",
       "      <td>-0.003229</td>\n",
       "      <td>-0.149791</td>\n",
       "    </tr>\n",
       "    <tr>\n",
       "      <th>4</th>\n",
       "      <td>0.056186</td>\n",
       "      <td>0.771515</td>\n",
       "      <td>0.635581</td>\n",
       "      <td>-0.217343</td>\n",
       "      <td>-0.261234</td>\n",
       "      <td>0.396966</td>\n",
       "      <td>-0.670439</td>\n",
       "      <td>0.315970</td>\n",
       "      <td>-0.253160</td>\n",
       "    </tr>\n",
       "    <tr>\n",
       "      <th>5</th>\n",
       "      <td>0.211065</td>\n",
       "      <td>0.687686</td>\n",
       "      <td>0.322424</td>\n",
       "      <td>-0.040505</td>\n",
       "      <td>-0.179011</td>\n",
       "      <td>0.388660</td>\n",
       "      <td>-0.849718</td>\n",
       "      <td>0.345064</td>\n",
       "      <td>-0.246101</td>\n",
       "    </tr>\n",
       "    <tr>\n",
       "      <th>6</th>\n",
       "      <td>0.020348</td>\n",
       "      <td>0.660140</td>\n",
       "      <td>0.254506</td>\n",
       "      <td>-0.055107</td>\n",
       "      <td>-0.054048</td>\n",
       "      <td>0.551038</td>\n",
       "      <td>-0.961608</td>\n",
       "      <td>0.247381</td>\n",
       "      <td>-0.128757</td>\n",
       "    </tr>\n",
       "    <tr>\n",
       "      <th>7</th>\n",
       "      <td>0.023645</td>\n",
       "      <td>0.942801</td>\n",
       "      <td>0.420047</td>\n",
       "      <td>-0.027273</td>\n",
       "      <td>-0.118719</td>\n",
       "      <td>0.302890</td>\n",
       "      <td>-0.901800</td>\n",
       "      <td>0.060431</td>\n",
       "      <td>-0.124359</td>\n",
       "    </tr>\n",
       "    <tr>\n",
       "      <th>8</th>\n",
       "      <td>0.085552</td>\n",
       "      <td>0.812338</td>\n",
       "      <td>0.361997</td>\n",
       "      <td>0.193310</td>\n",
       "      <td>-0.052911</td>\n",
       "      <td>0.179063</td>\n",
       "      <td>-0.837607</td>\n",
       "      <td>0.074312</td>\n",
       "      <td>-0.359197</td>\n",
       "    </tr>\n",
       "    <tr>\n",
       "      <th>9</th>\n",
       "      <td>0.373626</td>\n",
       "      <td>0.892671</td>\n",
       "      <td>0.410701</td>\n",
       "      <td>0.210038</td>\n",
       "      <td>-0.245644</td>\n",
       "      <td>0.245549</td>\n",
       "      <td>-0.902717</td>\n",
       "      <td>0.034586</td>\n",
       "      <td>-0.493874</td>\n",
       "    </tr>\n",
       "  </tbody>\n",
       "</table>\n",
       "</div>"
      ],
      "text/plain": [
       "     beta_0    beta_1    beta_2    beta_3    beta_4    beta_5    beta_6  \\\n",
       "0  0.087558  0.865362  0.350025  0.015814 -0.102663  0.409723 -0.943250   \n",
       "1 -0.015910  0.885803  0.270360  0.048607  0.184120  0.513116 -0.913799   \n",
       "2 -0.167907  0.940724  0.430404 -0.004691 -0.016823  0.311113 -0.968877   \n",
       "3  0.069937  1.038675  0.157110 -0.089304  0.010429  0.440259 -0.821025   \n",
       "4  0.056186  0.771515  0.635581 -0.217343 -0.261234  0.396966 -0.670439   \n",
       "5  0.211065  0.687686  0.322424 -0.040505 -0.179011  0.388660 -0.849718   \n",
       "6  0.020348  0.660140  0.254506 -0.055107 -0.054048  0.551038 -0.961608   \n",
       "7  0.023645  0.942801  0.420047 -0.027273 -0.118719  0.302890 -0.901800   \n",
       "8  0.085552  0.812338  0.361997  0.193310 -0.052911  0.179063 -0.837607   \n",
       "9  0.373626  0.892671  0.410701  0.210038 -0.245644  0.245549 -0.902717   \n",
       "\n",
       "     beta_7    beta_8  \n",
       "0  0.197847 -0.263948  \n",
       "1  0.113338 -0.246498  \n",
       "2  0.483920 -0.261836  \n",
       "3 -0.003229 -0.149791  \n",
       "4  0.315970 -0.253160  \n",
       "5  0.345064 -0.246101  \n",
       "6  0.247381 -0.128757  \n",
       "7  0.060431 -0.124359  \n",
       "8  0.074312 -0.359197  \n",
       "9  0.034586 -0.493874  "
      ]
     },
     "metadata": {},
     "output_type": "display_data"
    }
   ],
   "source": [
    "result = (DataFrame(index =list(range(10)))\n",
    "    .reindex(columns = ['beta_{}'.format(i) for i in range(9)]))\n",
    "\n",
    "for i, training_samples, test_samples in crossvalidation_splits(data, data['y']):\n",
    "    train = data.iloc[training_samples]\n",
    "    clf_2.fit(train[features], train['y'])\n",
    "    result.loc[i, :] = coeff(clf_2).values\n",
    "display(result)"
   ]
  },
  {
   "cell_type": "markdown",
   "metadata": {},
   "source": [
    "### Visualisation\n",
    "\n",
    "Let's melt the data and compute $95\\%$ confidence intervals."
   ]
  },
  {
   "cell_type": "code",
   "execution_count": 9,
   "metadata": {},
   "outputs": [
    {
     "data": {
      "text/html": [
       "<div>\n",
       "<style scoped>\n",
       "    .dataframe tbody tr th:only-of-type {\n",
       "        vertical-align: middle;\n",
       "    }\n",
       "\n",
       "    .dataframe tbody tr th {\n",
       "        vertical-align: top;\n",
       "    }\n",
       "\n",
       "    .dataframe thead th {\n",
       "        text-align: right;\n",
       "    }\n",
       "</style>\n",
       "<table border=\"1\" class=\"dataframe\">\n",
       "  <thead>\n",
       "    <tr style=\"text-align: right;\">\n",
       "      <th></th>\n",
       "      <th>fold</th>\n",
       "      <th>coefficient</th>\n",
       "      <th>value</th>\n",
       "    </tr>\n",
       "  </thead>\n",
       "  <tbody>\n",
       "    <tr>\n",
       "      <th>0</th>\n",
       "      <td>0</td>\n",
       "      <td>beta_0</td>\n",
       "      <td>0.087558</td>\n",
       "    </tr>\n",
       "    <tr>\n",
       "      <th>1</th>\n",
       "      <td>0</td>\n",
       "      <td>beta_1</td>\n",
       "      <td>0.865362</td>\n",
       "    </tr>\n",
       "    <tr>\n",
       "      <th>2</th>\n",
       "      <td>0</td>\n",
       "      <td>beta_2</td>\n",
       "      <td>0.350025</td>\n",
       "    </tr>\n",
       "    <tr>\n",
       "      <th>3</th>\n",
       "      <td>0</td>\n",
       "      <td>beta_3</td>\n",
       "      <td>0.015814</td>\n",
       "    </tr>\n",
       "    <tr>\n",
       "      <th>4</th>\n",
       "      <td>0</td>\n",
       "      <td>beta_4</td>\n",
       "      <td>-0.102663</td>\n",
       "    </tr>\n",
       "  </tbody>\n",
       "</table>\n",
       "</div>"
      ],
      "text/plain": [
       "   fold coefficient     value\n",
       "0     0      beta_0  0.087558\n",
       "1     0      beta_1  0.865362\n",
       "2     0      beta_2  0.350025\n",
       "3     0      beta_3  0.015814\n",
       "4     0      beta_4 -0.102663"
      ]
     },
     "metadata": {},
     "output_type": "display_data"
    },
    {
     "data": {
      "text/html": [
       "<div>\n",
       "<style scoped>\n",
       "    .dataframe tbody tr th:only-of-type {\n",
       "        vertical-align: middle;\n",
       "    }\n",
       "\n",
       "    .dataframe tbody tr th {\n",
       "        vertical-align: top;\n",
       "    }\n",
       "\n",
       "    .dataframe thead th {\n",
       "        text-align: right;\n",
       "    }\n",
       "</style>\n",
       "<table border=\"1\" class=\"dataframe\">\n",
       "  <thead>\n",
       "    <tr style=\"text-align: right;\">\n",
       "      <th></th>\n",
       "      <th>coefficient</th>\n",
       "      <th>mean</th>\n",
       "      <th>std</th>\n",
       "      <th>lower_ci</th>\n",
       "      <th>upper_ci</th>\n",
       "      <th>significant</th>\n",
       "    </tr>\n",
       "  </thead>\n",
       "  <tbody>\n",
       "    <tr>\n",
       "      <th>0</th>\n",
       "      <td>beta_0</td>\n",
       "      <td>0.074410</td>\n",
       "      <td>0.141903</td>\n",
       "      <td>-0.060211</td>\n",
       "      <td>0.209031</td>\n",
       "      <td>False</td>\n",
       "    </tr>\n",
       "    <tr>\n",
       "      <th>1</th>\n",
       "      <td>beta_1</td>\n",
       "      <td>0.849771</td>\n",
       "      <td>0.118204</td>\n",
       "      <td>0.737633</td>\n",
       "      <td>0.961910</td>\n",
       "      <td>True</td>\n",
       "    </tr>\n",
       "    <tr>\n",
       "      <th>2</th>\n",
       "      <td>beta_2</td>\n",
       "      <td>0.361315</td>\n",
       "      <td>0.128627</td>\n",
       "      <td>0.239289</td>\n",
       "      <td>0.483342</td>\n",
       "      <td>True</td>\n",
       "    </tr>\n",
       "    <tr>\n",
       "      <th>3</th>\n",
       "      <td>beta_3</td>\n",
       "      <td>0.003355</td>\n",
       "      <td>0.126772</td>\n",
       "      <td>-0.116912</td>\n",
       "      <td>0.123622</td>\n",
       "      <td>False</td>\n",
       "    </tr>\n",
       "    <tr>\n",
       "      <th>4</th>\n",
       "      <td>beta_4</td>\n",
       "      <td>-0.083650</td>\n",
       "      <td>0.131361</td>\n",
       "      <td>-0.208271</td>\n",
       "      <td>0.040970</td>\n",
       "      <td>False</td>\n",
       "    </tr>\n",
       "    <tr>\n",
       "      <th>5</th>\n",
       "      <td>beta_5</td>\n",
       "      <td>0.373838</td>\n",
       "      <td>0.115766</td>\n",
       "      <td>0.264013</td>\n",
       "      <td>0.483663</td>\n",
       "      <td>True</td>\n",
       "    </tr>\n",
       "    <tr>\n",
       "      <th>6</th>\n",
       "      <td>beta_6</td>\n",
       "      <td>-0.877084</td>\n",
       "      <td>0.088642</td>\n",
       "      <td>-0.961177</td>\n",
       "      <td>-0.792991</td>\n",
       "      <td>True</td>\n",
       "    </tr>\n",
       "    <tr>\n",
       "      <th>7</th>\n",
       "      <td>beta_7</td>\n",
       "      <td>0.186962</td>\n",
       "      <td>0.158851</td>\n",
       "      <td>0.036262</td>\n",
       "      <td>0.337662</td>\n",
       "      <td>True</td>\n",
       "    </tr>\n",
       "    <tr>\n",
       "      <th>8</th>\n",
       "      <td>beta_8</td>\n",
       "      <td>-0.252752</td>\n",
       "      <td>0.111665</td>\n",
       "      <td>-0.358687</td>\n",
       "      <td>-0.146817</td>\n",
       "      <td>True</td>\n",
       "    </tr>\n",
       "  </tbody>\n",
       "</table>\n",
       "</div>"
      ],
      "text/plain": [
       "  coefficient      mean       std  lower_ci  upper_ci  significant\n",
       "0      beta_0  0.074410  0.141903 -0.060211  0.209031        False\n",
       "1      beta_1  0.849771  0.118204  0.737633  0.961910         True\n",
       "2      beta_2  0.361315  0.128627  0.239289  0.483342         True\n",
       "3      beta_3  0.003355  0.126772 -0.116912  0.123622        False\n",
       "4      beta_4 -0.083650  0.131361 -0.208271  0.040970        False\n",
       "5      beta_5  0.373838  0.115766  0.264013  0.483663         True\n",
       "6      beta_6 -0.877084  0.088642 -0.961177 -0.792991         True\n",
       "7      beta_7  0.186962  0.158851  0.036262  0.337662         True\n",
       "8      beta_8 -0.252752  0.111665 -0.358687 -0.146817         True"
      ]
     },
     "metadata": {},
     "output_type": "display_data"
    }
   ],
   "source": [
    "df = (DataFrame(result.stack(), columns = ['value'])\n",
    "      .reset_index()\n",
    "      .rename(columns = {'level_0':'fold', 'level_1':'coefficient'}))\n",
    "display(head(df))\n",
    "\n",
    "sdf = (df.groupby(['coefficient'])\n",
    "       .aggregate({'value': ['mean', 'std']})\n",
    "       .pipe(reset_column_index, 0)\n",
    "       .assign(lower_ci = lambda df: df['mean'] - 3 * df['std']/np.sqrt(10))\n",
    "       .assign(upper_ci = lambda df: df['mean'] + 3 * df['std']/np.sqrt(10))\n",
    "       .assign(significant = lambda df: np.sign(df['lower_ci'] * df['upper_ci']) == 1)\n",
    "       .reset_index())\n",
    "display(sdf)"
   ]
  },
  {
   "cell_type": "code",
   "execution_count": 10,
   "metadata": {},
   "outputs": [
    {
     "data": {
      "image/png": "[encoded data removed]",
      "text/plain": [
       "<Figure size 640x480 with 1 Axes>"
      ]
     },
     "metadata": {},
     "output_type": "display_data"
    },
    {
     "data": {
      "text/plain": [
       "<ggplot: (8763546814314)>"
      ]
     },
     "metadata": {},
     "output_type": "display_data"
    }
   ],
   "source": [
    "p = ggplot(df)\n",
    "p = p + geom_hline(yintercept = 0, color = 'red', linetype ='--')\n",
    "p = p + geom_boxplot(aes(x = 'coefficient', y = 'value'), fill = 'oldlace')\n",
    "p = p + scale_x_discrete(name = '', labels=[r'$\\beta_{}$'.format(i) for i in range(9)])\n",
    "p = p + scale_y_continuous(name = \"\", limits = (-1.5, 1.5))\n",
    "p.save('crossvalidation_parameter_variance_i.pdf', path='results', height=6, width=6, verbose=False)\n",
    "display(p)"
   ]
  },
  {
   "cell_type": "code",
   "execution_count": 11,
   "metadata": {},
   "outputs": [
    {
     "data": {
      "image/png": "[encoded data removed]",
      "text/plain": [
       "<Figure size 640x480 with 1 Axes>"
      ]
     },
     "metadata": {},
     "output_type": "display_data"
    },
    {
     "data": {
      "text/plain": [
       "<ggplot: (-9223363273307709475)>"
      ]
     },
     "metadata": {},
     "output_type": "display_data"
    }
   ],
   "source": [
    "p = ggplot(sdf)\n",
    "p = p + geom_hline(yintercept = 0, color = 'red', linetype ='--', size = 1)\n",
    "p = p + geom_pointrange(aes(x = 'coefficient', ymin = 'lower_ci', y='mean', ymax = 'upper_ci', color = 'significant'), size=0.75)\n",
    "p = p + scale_x_discrete(name = '', labels=[r'$\\beta_{}$'.format(i) for i in range(9)])\n",
    "p = p + scale_y_continuous(name = \"\", limits = (-1.5, 1.5))\n",
    "p = p + scale_color_discrete(guide = False)\n",
    "p.save('crossvalidation_parameter_variance_ii.pdf', path='results', height=6, width=6, verbose=False)\n",
    "display(p)"
   ]
  },
  {
   "cell_type": "markdown",
   "metadata": {},
   "source": [
    "# Homeworks"
   ]
  },
  {
   "cell_type": "markdown",
   "metadata": {},
   "source": [
    "## 5.1 Analysis of prediction stability (<font color='red'>3p</font>)\n",
    "\n",
    "Cross-validation can be used to study the stability of a learning algorithm:\n",
    "\n",
    "* You can study how much the coefficients of your model vary.\n",
    "* You can study how fragile is your learning algorithm to noise.\n",
    "\n",
    "Let's explore these concepts by studying the stability of polynomial regression models $y\\sim x^2+x+1$ and $y\\sim x^8 + x^7 + \\cdots + x + 1$.\n",
    "\n",
    "* Stability of coefficients (<font color='red'>1p</font>) \n",
    "  * Fit these models on cross-validation folds and observe regression coefficients by drawing corresponding boxplots. \n",
    "  * Study the mean and variance of individual model coefficients. Declare that a coefficient is insignificant and set it to zero when its mean is not more than 3 standard deviations away from zero. \n",
    "  * Interpret the results. Are both models similar?\n",
    "  \n",
    "  \n",
    "* Stability of predictions (<font color='red'>1p</font>) \n",
    "  * Fit these models on cross-validation folds.\n",
    "  * For each learned model, compute a prediction line in the interval $[-2,1]$.\n",
    "  * Draw a faceted plot with facets for models $y\\sim x^2+x+1$ and $y\\sim x^8 + x^7 + \\cdots + x + 1$.\n",
    "  * On each subplot, plot individual prediction lines. Use `alpha=0.5` to make lines semi-transparent.\n",
    "  * Draw also the average prediction line in red on the plot.\n",
    "\n",
    "\n",
    "* Stability against noise (<font color='red'>1p</font>) \n",
    "  * To study robustness against noise, you can add additional Gaussian noise to $y_i$ values of training samples  and later estimate how much the mean squared error increased as a consequence. \n",
    "  * The latter should estimate how sensitive is your method to random noise.\n",
    "  * Experiment with different scale values $\\sigma=0.001, 0.01, 0.1, 1$, and visualise the results.\n",
    " \n",
    "  \n",
    "\n",
    "### Remarks\n",
    "* Use the sampler `regr_sampler` as the data source. \n",
    "* Use [sklearn.linear_model.LinearRegression](\n",
    "https://scikit-learn.org/stable/modules/generated/sklearn.linear_model.LinearRegression.html) together with \n",
    "[sklearn.preprocessing.PolynomialFeatures](https://scikit-learn.org/stable/modules/generated/sklearn.preprocessing.PolynomialFeatures.html) to implement polynomial regression:\n",
    "  * First define additional columns $x_2=x^2, \\ldots, x_8=x^8$.\n",
    "  * Then use linear regression to find corresponding coefficients $\\beta_0,\\beta_1,\\ldots, \\beta_8$.\n",
    "* Use [numpy.random.normal](https://docs.scipy.org/doc/numpy/reference/generated/numpy.random.normal.html) to sample the additional Gaussian noise needed in the last part of the exercise."
   ]
  },
  {
   "cell_type": "code",
   "execution_count": 12,
   "metadata": {},
   "outputs": [],
   "source": [
    "%config IPCompleter.greedy=True"
   ]
  }
 ],
 "metadata": {
  "kernelspec": {
   "display_name": "Python 3",
   "language": "python",
   "name": "python3"
  },
  "language_info": {
   "codemirror_mode": {
    "name": "ipython",
    "version": 3
   },
   "file_extension": ".py",
   "mimetype": "text/x-python",
   "name": "python",
   "nbconvert_exporter": "python",
   "pygments_lexer": "ipython3",
   "version": "3.6.10"
  }
 },
 "nbformat": 4,
 "nbformat_minor": 2
}
