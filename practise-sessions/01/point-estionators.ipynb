{
 "cells": [
  {
   "cell_type": "markdown",
   "metadata": {},
   "source": [
    "# Point estimators\n",
    "\n",
    "* A point estimator is an algorithm or function that given a set of data points $\\boldsymbol{x}_1,\\ldots,\\boldsymbol{x}_n$ outputs a real value.\n",
    "* A good point estimator tries to approximate some characteristic of the data set and its value converges to the true value in the process $n\\to \\infty$\n",
    "\n",
    "## I. Theoretical formalisation\n",
    "* Let $\\mathcal{D}_{\\alpha_1,\\alpha_2,\\ldots,\\alpha_k}$ be a parametrised distribution that generates samples $\\boldsymbol{x}_i$. \n",
    "* Then we might want to infer what are the values of $\\alpha_1,\\alpha_2,\\ldots,\\alpha_k$ form obsereved data.\n",
    "* We can use point estimator $f$ for estimating the value of $\\alpha_i$.\n",
    "* As data generation is random process point estimator outcomes $y=f(\\boldsymbol{x}_1,\\ldots,\\boldsymbol{x}_n)$ are also random."
   ]
  },
  {
   "cell_type": "code",
   "execution_count": 30,
   "metadata": {},
   "outputs": [],
   "source": [
    "import numpy as np\n",
    "import pandas as pd\n",
    "\n",
    "from pandas import Series\n",
    "from pandas import DataFrame\n",
    "\n",
    "from plotnine import *\n",
    "\n",
    "# Local imports\n",
    "from convenience import *"
   ]
  },
  {
   "cell_type": "code",
   "execution_count": 10,
   "metadata": {},
   "outputs": [],
   "source": [
    "def data_sampler(n:int, mu:float=0,  sigma: float=1) -> Series:\n",
    "    \"\"\"\n",
    "    Data generator that generates n values form the normal distribution N(mu, sigma)\n",
    "    \"\"\"\n",
    "    \n",
    "    return Series(np.random.normal(loc=mu, scale=sigma, size = n))"
   ]
  },
  {
   "cell_type": "code",
   "execution_count": 11,
   "metadata": {},
   "outputs": [
    {
     "data": {
      "text/plain": [
       "0   -0.378772\n",
       "1   -1.045941\n",
       "2   -0.576092\n",
       "3    1.344149\n",
       "4   -2.265135\n",
       "5    0.074638\n",
       "6    0.089495\n",
       "7   -0.121285\n",
       "8    1.121380\n",
       "9    0.791103\n",
       "dtype: float64"
      ]
     },
     "execution_count": 11,
     "metadata": {},
     "output_type": "execute_result"
    }
   ],
   "source": [
    "data_sampler(10)"
   ]
  },
  {
   "cell_type": "markdown",
   "metadata": {},
   "source": [
    "For this particular data distribution there are parameters we can estimate $\\mu$ and $\\sigma$. \n",
    "Let us consider three point estimators for the $\\mu$ value"
   ]
  },
  {
   "cell_type": "code",
   "execution_count": 45,
   "metadata": {},
   "outputs": [],
   "source": [
    "def f0(x):\n",
    "    return 0\n",
    "\n",
    "def f1(x):\n",
    "    return np.mean(x)\n",
    "\n",
    "def f2(x):\n",
    "    return np.random.uniform(-1,1,1)"
   ]
  },
  {
   "cell_type": "markdown",
   "metadata": {},
   "source": [
    "Then the corresponding distributions of the point estimator values can be empirically measured."
   ]
  },
  {
   "cell_type": "code",
   "execution_count": 46,
   "metadata": {},
   "outputs": [
    {
     "data": {
      "text/html": [
       "<div>\n",
       "<style scoped>\n",
       "    .dataframe tbody tr th:only-of-type {\n",
       "        vertical-align: middle;\n",
       "    }\n",
       "\n",
       "    .dataframe tbody tr th {\n",
       "        vertical-align: top;\n",
       "    }\n",
       "\n",
       "    .dataframe thead th {\n",
       "        text-align: right;\n",
       "    }\n",
       "</style>\n",
       "<table border=\"1\" class=\"dataframe\">\n",
       "  <thead>\n",
       "    <tr style=\"text-align: right;\">\n",
       "      <th></th>\n",
       "      <th></th>\n",
       "      <th></th>\n",
       "      <th>value</th>\n",
       "    </tr>\n",
       "    <tr>\n",
       "      <th>sample_size</th>\n",
       "      <th>method</th>\n",
       "      <th>experiment</th>\n",
       "      <th></th>\n",
       "    </tr>\n",
       "  </thead>\n",
       "  <tbody>\n",
       "    <tr>\n",
       "      <th rowspan=\"5\" valign=\"top\">1</th>\n",
       "      <th rowspan=\"5\" valign=\"top\">f0</th>\n",
       "      <th>0</th>\n",
       "      <td>NaN</td>\n",
       "    </tr>\n",
       "    <tr>\n",
       "      <th>1</th>\n",
       "      <td>NaN</td>\n",
       "    </tr>\n",
       "    <tr>\n",
       "      <th>2</th>\n",
       "      <td>NaN</td>\n",
       "    </tr>\n",
       "    <tr>\n",
       "      <th>3</th>\n",
       "      <td>NaN</td>\n",
       "    </tr>\n",
       "    <tr>\n",
       "      <th>4</th>\n",
       "      <td>NaN</td>\n",
       "    </tr>\n",
       "  </tbody>\n",
       "</table>\n",
       "</div>"
      ],
      "text/plain": [
       "                               value\n",
       "sample_size method experiment       \n",
       "1           f0     0             NaN\n",
       "                   1             NaN\n",
       "                   2             NaN\n",
       "                   3             NaN\n",
       "                   4             NaN"
      ]
     },
     "execution_count": 46,
     "metadata": {},
     "output_type": "execute_result"
    }
   ],
   "source": [
    "k = 100\n",
    "sample_size = [1, 10, 100, 1000] \n",
    "\n",
    "result = (combine_categories({'sample_size': sample_size, 'method': ['f0', 'f1', 'f2'], 'experiment': list(range(k))})\n",
    "         .assign(value = np.nan)\n",
    "         .set_index(['sample_size', 'method', 'experiment'])\n",
    "         .sort_index())\n",
    "head(result)"
   ]
  },
  {
   "cell_type": "code",
   "execution_count": 47,
   "metadata": {},
   "outputs": [
    {
     "data": {
      "application/vnd.jupyter.widget-view+json": {
       "model_id": "df866c0d9b4d4ba48790e6b81f35b06b",
       "version_major": 2,
       "version_minor": 0
      },
      "text/plain": [
       "HBox(children=(FloatProgress(value=0.0, description='Size: ___1', style=ProgressStyle(description_width='initi…"
      ]
     },
     "metadata": {},
     "output_type": "display_data"
    },
    {
     "name": "stdout",
     "output_type": "stream",
     "text": [
      "\n"
     ]
    },
    {
     "data": {
      "application/vnd.jupyter.widget-view+json": {
       "model_id": "374ad6c3a2b8427193fa4e02f30519d8",
       "version_major": 2,
       "version_minor": 0
      },
      "text/plain": [
       "HBox(children=(FloatProgress(value=0.0, description='Size: __10', style=ProgressStyle(description_width='initi…"
      ]
     },
     "metadata": {},
     "output_type": "display_data"
    },
    {
     "name": "stdout",
     "output_type": "stream",
     "text": [
      "\n"
     ]
    },
    {
     "data": {
      "application/vnd.jupyter.widget-view+json": {
       "model_id": "616336f39bd044a6b7462dd6c55b978f",
       "version_major": 2,
       "version_minor": 0
      },
      "text/plain": [
       "HBox(children=(FloatProgress(value=0.0, description='Size: _100', style=ProgressStyle(description_width='initi…"
      ]
     },
     "metadata": {},
     "output_type": "display_data"
    },
    {
     "name": "stdout",
     "output_type": "stream",
     "text": [
      "\n"
     ]
    },
    {
     "data": {
      "application/vnd.jupyter.widget-view+json": {
       "model_id": "04d1093c2b3343bc87473c8b592a3460",
       "version_major": 2,
       "version_minor": 0
      },
      "text/plain": [
       "HBox(children=(FloatProgress(value=0.0, description='Size: 1000', style=ProgressStyle(description_width='initi…"
      ]
     },
     "metadata": {},
     "output_type": "display_data"
    },
    {
     "name": "stdout",
     "output_type": "stream",
     "text": [
      "\n"
     ]
    },
    {
     "data": {
      "text/html": [
       "<div>\n",
       "<style scoped>\n",
       "    .dataframe tbody tr th:only-of-type {\n",
       "        vertical-align: middle;\n",
       "    }\n",
       "\n",
       "    .dataframe tbody tr th {\n",
       "        vertical-align: top;\n",
       "    }\n",
       "\n",
       "    .dataframe thead th {\n",
       "        text-align: right;\n",
       "    }\n",
       "</style>\n",
       "<table border=\"1\" class=\"dataframe\">\n",
       "  <thead>\n",
       "    <tr style=\"text-align: right;\">\n",
       "      <th></th>\n",
       "      <th></th>\n",
       "      <th></th>\n",
       "      <th>value</th>\n",
       "    </tr>\n",
       "    <tr>\n",
       "      <th>sample_size</th>\n",
       "      <th>method</th>\n",
       "      <th>experiment</th>\n",
       "      <th></th>\n",
       "    </tr>\n",
       "  </thead>\n",
       "  <tbody>\n",
       "    <tr>\n",
       "      <th rowspan=\"5\" valign=\"top\">1000</th>\n",
       "      <th rowspan=\"5\" valign=\"top\">f2</th>\n",
       "      <th>95</th>\n",
       "      <td>0.716356</td>\n",
       "    </tr>\n",
       "    <tr>\n",
       "      <th>96</th>\n",
       "      <td>-0.766925</td>\n",
       "    </tr>\n",
       "    <tr>\n",
       "      <th>97</th>\n",
       "      <td>-0.937299</td>\n",
       "    </tr>\n",
       "    <tr>\n",
       "      <th>98</th>\n",
       "      <td>0.228817</td>\n",
       "    </tr>\n",
       "    <tr>\n",
       "      <th>99</th>\n",
       "      <td>-0.617085</td>\n",
       "    </tr>\n",
       "  </tbody>\n",
       "</table>\n",
       "</div>"
      ],
      "text/plain": [
       "                                  value\n",
       "sample_size method experiment          \n",
       "1000        f2     95          0.716356\n",
       "                   96         -0.766925\n",
       "                   97         -0.937299\n",
       "                   98          0.228817\n",
       "                   99         -0.617085"
      ]
     },
     "execution_count": 47,
     "metadata": {},
     "output_type": "execute_result"
    }
   ],
   "source": [
    "from tqdm.notebook import trange\n",
    "\n",
    "for size in sample_size:\n",
    "    for experiment in trange(k, desc = 'Size: {:_>4}'.format(size)):\n",
    "        data = data_sampler(size)\n",
    "        result.loc[(size, 'f0', experiment), 'value'] = f0(data)\n",
    "        result.loc[(size, 'f1', experiment), 'value'] = f1(data)\n",
    "        result.loc[(size, 'f2', experiment), 'value'] = f2(data)\n",
    "tail(result)"
   ]
  },
  {
   "cell_type": "markdown",
   "metadata": {},
   "source": [
    "Let us explore the resulting distributions"
   ]
  },
  {
   "cell_type": "code",
   "execution_count": 50,
   "metadata": {},
   "outputs": [
    {
     "name": "stderr",
     "output_type": "stream",
     "text": [
      "/opt/anaconda3/envs/machine-learning/lib/python3.6/site-packages/plotnine/layer.py:360: PlotnineWarning: stat_bin : Removed 4 rows containing non-finite values.\n",
      "  data = self.stat.compute_layer(data, params, layout)\n",
      "/opt/anaconda3/envs/machine-learning/lib/python3.6/site-packages/plotnine/layer.py:452: PlotnineWarning: geom_histogram : Removed 36 rows containing missing values.\n",
      "  self.data = self.geom.handle_na(self.data)\n"
     ]
    },
    {
     "data": {
      "image/png": "[encoded data removed]",
      "text/plain": [
       "<Figure size 640x480 with 12 Axes>"
      ]
     },
     "metadata": {},
     "output_type": "display_data"
    },
    {
     "data": {
      "text/plain": [
       "<ggplot: (7018484586)>"
      ]
     },
     "execution_count": 50,
     "metadata": {},
     "output_type": "execute_result"
    }
   ],
   "source": [
    "p = ggplot(result.reset_index())\n",
    "p = p + geom_histogram(aes(x='value'), bins=50)\n",
    "p = p + facet_grid(['method', 'sample_size']) + xlim(-2, 2)\n",
    "p"
   ]
  },
  {
   "cell_type": "markdown",
   "metadata": {},
   "source": [
    "## II. Bias and variance \n",
    "\n",
    "* A point estimator does not have to provide the correct answer.\n",
    "* A point estimator is unbiased if its expected value coincides with the true parameter value.\n",
    "* A statistical variance of the point estimator shows how much a point estimate fluctuates.\n",
    "* A point estimator is reasonable if its variance decreases as $n\\to\\infty$.\n",
    "* A point estimator is asymptotocally consistent if the estimator converges in probabilty to the true value.\n",
    "* A biased estimator can be also asymptotocally consistent and more effective."
   ]
  },
  {
   "cell_type": "code",
   "execution_count": 56,
   "metadata": {},
   "outputs": [
    {
     "data": {
      "text/html": [
       "<div>\n",
       "<style scoped>\n",
       "    .dataframe tbody tr th:only-of-type {\n",
       "        vertical-align: middle;\n",
       "    }\n",
       "\n",
       "    .dataframe tbody tr th {\n",
       "        vertical-align: top;\n",
       "    }\n",
       "\n",
       "    .dataframe thead th {\n",
       "        text-align: right;\n",
       "    }\n",
       "</style>\n",
       "<table border=\"1\" class=\"dataframe\">\n",
       "  <thead>\n",
       "    <tr style=\"text-align: right;\">\n",
       "      <th></th>\n",
       "      <th></th>\n",
       "      <th>mean</th>\n",
       "      <th>std</th>\n",
       "    </tr>\n",
       "    <tr>\n",
       "      <th>method</th>\n",
       "      <th>sample_size</th>\n",
       "      <th></th>\n",
       "      <th></th>\n",
       "    </tr>\n",
       "  </thead>\n",
       "  <tbody>\n",
       "    <tr>\n",
       "      <th rowspan=\"4\" valign=\"top\">f0</th>\n",
       "      <th>1</th>\n",
       "      <td>0.000000</td>\n",
       "      <td>0.000000</td>\n",
       "    </tr>\n",
       "    <tr>\n",
       "      <th>10</th>\n",
       "      <td>0.000000</td>\n",
       "      <td>0.000000</td>\n",
       "    </tr>\n",
       "    <tr>\n",
       "      <th>100</th>\n",
       "      <td>0.000000</td>\n",
       "      <td>0.000000</td>\n",
       "    </tr>\n",
       "    <tr>\n",
       "      <th>1000</th>\n",
       "      <td>0.000000</td>\n",
       "      <td>0.000000</td>\n",
       "    </tr>\n",
       "    <tr>\n",
       "      <th rowspan=\"4\" valign=\"top\">f1</th>\n",
       "      <th>1</th>\n",
       "      <td>0.080431</td>\n",
       "      <td>1.090166</td>\n",
       "    </tr>\n",
       "    <tr>\n",
       "      <th>10</th>\n",
       "      <td>-0.012206</td>\n",
       "      <td>0.292961</td>\n",
       "    </tr>\n",
       "    <tr>\n",
       "      <th>100</th>\n",
       "      <td>0.001481</td>\n",
       "      <td>0.094442</td>\n",
       "    </tr>\n",
       "    <tr>\n",
       "      <th>1000</th>\n",
       "      <td>0.003518</td>\n",
       "      <td>0.027485</td>\n",
       "    </tr>\n",
       "    <tr>\n",
       "      <th rowspan=\"4\" valign=\"top\">f2</th>\n",
       "      <th>1</th>\n",
       "      <td>0.082865</td>\n",
       "      <td>0.566240</td>\n",
       "    </tr>\n",
       "    <tr>\n",
       "      <th>10</th>\n",
       "      <td>-0.056674</td>\n",
       "      <td>0.602973</td>\n",
       "    </tr>\n",
       "    <tr>\n",
       "      <th>100</th>\n",
       "      <td>0.002385</td>\n",
       "      <td>0.571213</td>\n",
       "    </tr>\n",
       "    <tr>\n",
       "      <th>1000</th>\n",
       "      <td>0.006149</td>\n",
       "      <td>0.586626</td>\n",
       "    </tr>\n",
       "  </tbody>\n",
       "</table>\n",
       "</div>"
      ],
      "text/plain": [
       "                        mean       std\n",
       "method sample_size                    \n",
       "f0     1            0.000000  0.000000\n",
       "       10           0.000000  0.000000\n",
       "       100          0.000000  0.000000\n",
       "       1000         0.000000  0.000000\n",
       "f1     1            0.080431  1.090166\n",
       "       10          -0.012206  0.292961\n",
       "       100          0.001481  0.094442\n",
       "       1000         0.003518  0.027485\n",
       "f2     1            0.082865  0.566240\n",
       "       10          -0.056674  0.602973\n",
       "       100          0.002385  0.571213\n",
       "       1000         0.006149  0.586626"
      ]
     },
     "execution_count": 56,
     "metadata": {},
     "output_type": "execute_result"
    }
   ],
   "source": [
    "sdf = (result\n",
    "       .groupby(['method', 'sample_size'])\n",
    "       .aggregate(\n",
    "           mean = ('value', np.mean), \n",
    "           std  = ('value', np.std)),\n",
    "           q05  = ('value', lambda x: np.quantile(x, q=0.05)),\n",
    "           q95  = ('value', lambda x: np.quantile(x, q=0.95))\n",
    "      )\n",
    "\n",
    "sdf\n"
   ]
  }
 ],
 "metadata": {
  "kernelspec": {
   "display_name": "Python 3",
   "language": "python",
   "name": "python3"
  },
  "language_info": {
   "codemirror_mode": {
    "name": "ipython",
    "version": 3
   },
   "file_extension": ".py",
   "mimetype": "text/x-python",
   "name": "python",
   "nbconvert_exporter": "python",
   "pygments_lexer": "ipython3",
   "version": "3.6.10"
  }
 },
 "nbformat": 4,
 "nbformat_minor": 4
}
