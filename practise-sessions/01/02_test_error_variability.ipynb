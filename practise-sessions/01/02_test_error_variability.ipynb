{
 "cells": [
  {
   "cell_type": "markdown",
   "metadata": {},
   "source": [
    "# Variability of test error\n"
   ]
  },
  {
   "cell_type": "code",
   "execution_count": 1,
   "metadata": {},
   "outputs": [],
   "source": [
    "import numpy as np\n",
    "import numpy.random as random\n",
    "import pandas as pd\n",
    "\n",
    "from pandas import Series\n",
    "from pandas import DataFrame\n",
    "from typing import List\n",
    "\n",
    "from sklearn.linear_model import LogisticRegression\n",
    "\n",
    "from plotnine import *\n",
    "\n",
    "# Local imports\n",
    "from common import *\n",
    "from convenience import *"
   ]
  },
  {
   "cell_type": "markdown",
   "metadata": {},
   "source": [
    "## I. Train two classifiers on relatively large dataset \n",
    "\n",
    "We consider here a relatively simple prediction task where the target function is nearly deterministic and the feature space is relatively small."
   ]
  },
  {
   "cell_type": "code",
   "execution_count": 2,
   "metadata": {},
   "outputs": [],
   "source": [
    "sampler = lambda n: data_sampler(n, 8, lambda x: logit(x, Series([10, 10])))"
   ]
  },
  {
   "cell_type": "code",
   "execution_count": 3,
   "metadata": {},
   "outputs": [
    {
     "data": {
      "text/plain": [
       "LogisticRegression(C=1.0, class_weight=None, dual=False, fit_intercept=True,\n",
       "                   intercept_scaling=1, l1_ratio=None, max_iter=100,\n",
       "                   multi_class='auto', n_jobs=None, penalty='l2',\n",
       "                   random_state=None, solver='lbfgs', tol=0.0001, verbose=0,\n",
       "                   warm_start=False)"
      ]
     },
     "execution_count": 3,
     "metadata": {},
     "output_type": "execute_result"
    }
   ],
   "source": [
    "train = sampler(10000)\n",
    "features = list(train.columns.values[:-1])\n",
    "clf_1 = MajorityVoting(features)\n",
    "clf_1.fit(train, train['y'])\n",
    "clf_2 = LogisticRegression(solver = 'lbfgs')\n",
    "clf_2.fit(train[features], train['y'])"
   ]
  },
  {
   "cell_type": "markdown",
   "metadata": {},
   "source": [
    "## II. Measuring test error on different dataset sizes"
   ]
  },
  {
   "cell_type": "markdown",
   "metadata": {},
   "source": [
    "### Empirical risk aka test error"
   ]
  },
  {
   "cell_type": "code",
   "execution_count": 4,
   "metadata": {},
   "outputs": [],
   "source": [
    "def empirical_risk(clf, X: DataFrame, y: Series) -> float:\n",
    "    return sum(clf.predict(X) != y) / len(X) * 100"
   ]
  },
  {
   "cell_type": "code",
   "execution_count": 5,
   "metadata": {},
   "outputs": [
    {
     "data": {
      "text/plain": [
       "25.0"
      ]
     },
     "metadata": {},
     "output_type": "display_data"
    },
    {
     "data": {
      "text/plain": [
       "25.0"
      ]
     },
     "metadata": {},
     "output_type": "display_data"
    }
   ],
   "source": [
    "test = sampler(100)\n",
    "display(empirical_risk(clf_1, test[features], test['y']))\n",
    "display(empirical_risk(clf_2, test[features], test['y']))"
   ]
  },
  {
   "cell_type": "markdown",
   "metadata": {},
   "source": [
    "### Configuration and template for data collection"
   ]
  },
  {
   "cell_type": "code",
   "execution_count": 6,
   "metadata": {},
   "outputs": [
    {
     "data": {
      "text/html": [
       "<div>\n",
       "<style scoped>\n",
       "    .dataframe tbody tr th:only-of-type {\n",
       "        vertical-align: middle;\n",
       "    }\n",
       "\n",
       "    .dataframe tbody tr th {\n",
       "        vertical-align: top;\n",
       "    }\n",
       "\n",
       "    .dataframe thead th {\n",
       "        text-align: right;\n",
       "    }\n",
       "</style>\n",
       "<table border=\"1\" class=\"dataframe\">\n",
       "  <thead>\n",
       "    <tr style=\"text-align: right;\">\n",
       "      <th></th>\n",
       "      <th></th>\n",
       "      <th></th>\n",
       "      <th>test_error</th>\n",
       "    </tr>\n",
       "    <tr>\n",
       "      <th>size</th>\n",
       "      <th>method</th>\n",
       "      <th>experiment</th>\n",
       "      <th></th>\n",
       "    </tr>\n",
       "  </thead>\n",
       "  <tbody>\n",
       "    <tr>\n",
       "      <th rowspan=\"5\" valign=\"top\">1</th>\n",
       "      <th rowspan=\"5\" valign=\"top\">LR</th>\n",
       "      <th>0</th>\n",
       "      <td>NaN</td>\n",
       "    </tr>\n",
       "    <tr>\n",
       "      <th>1</th>\n",
       "      <td>NaN</td>\n",
       "    </tr>\n",
       "    <tr>\n",
       "      <th>2</th>\n",
       "      <td>NaN</td>\n",
       "    </tr>\n",
       "    <tr>\n",
       "      <th>3</th>\n",
       "      <td>NaN</td>\n",
       "    </tr>\n",
       "    <tr>\n",
       "      <th>4</th>\n",
       "      <td>NaN</td>\n",
       "    </tr>\n",
       "  </tbody>\n",
       "</table>\n",
       "</div>"
      ],
      "text/plain": [
       "                        test_error\n",
       "size method experiment            \n",
       "1    LR     0                  NaN\n",
       "            1                  NaN\n",
       "            2                  NaN\n",
       "            3                  NaN\n",
       "            4                  NaN"
      ]
     },
     "execution_count": 6,
     "metadata": {},
     "output_type": "execute_result"
    }
   ],
   "source": [
    "k = 1000\n",
    "sizes = [1, 10, 100, 1000]\n",
    "\n",
    "result = (combine_categories({'size': sizes, 'method': ['MV', 'LR'], 'experiment': list(range(k))})\n",
    "         .assign(test_error = np.nan)\n",
    "         .set_index(['size', 'method', 'experiment'])\n",
    "         .sort_index())\n",
    "head(result)"
   ]
  },
  {
   "cell_type": "markdown",
   "metadata": {},
   "source": [
    "### Experiment"
   ]
  },
  {
   "cell_type": "code",
   "execution_count": 7,
   "metadata": {},
   "outputs": [
    {
     "data": {
      "application/vnd.jupyter.widget-view+json": {
       "model_id": "80a168c5780f48bf8ce02a2d4ac8f3d0",
       "version_major": 2,
       "version_minor": 0
      },
      "text/plain": [
       "HBox(children=(FloatProgress(value=0.0, description='Size: ___1', max=1000.0, style=ProgressStyle(description_…"
      ]
     },
     "metadata": {},
     "output_type": "display_data"
    },
    {
     "name": "stdout",
     "output_type": "stream",
     "text": [
      "\n"
     ]
    },
    {
     "data": {
      "application/vnd.jupyter.widget-view+json": {
       "model_id": "7e55fdcbb4424fc6a9123bfeb586fe05",
       "version_major": 2,
       "version_minor": 0
      },
      "text/plain": [
       "HBox(children=(FloatProgress(value=0.0, description='Size: __10', max=1000.0, style=ProgressStyle(description_…"
      ]
     },
     "metadata": {},
     "output_type": "display_data"
    },
    {
     "name": "stdout",
     "output_type": "stream",
     "text": [
      "\n"
     ]
    },
    {
     "data": {
      "application/vnd.jupyter.widget-view+json": {
       "model_id": "655107193364491fa2737ad47c43a073",
       "version_major": 2,
       "version_minor": 0
      },
      "text/plain": [
       "HBox(children=(FloatProgress(value=0.0, description='Size: _100', max=1000.0, style=ProgressStyle(description_…"
      ]
     },
     "metadata": {},
     "output_type": "display_data"
    },
    {
     "name": "stdout",
     "output_type": "stream",
     "text": [
      "\n"
     ]
    },
    {
     "data": {
      "application/vnd.jupyter.widget-view+json": {
       "model_id": "0456657c01de400f9fc7de3a9d4bd3ea",
       "version_major": 2,
       "version_minor": 0
      },
      "text/plain": [
       "HBox(children=(FloatProgress(value=0.0, description='Size: 1000', max=1000.0, style=ProgressStyle(description_…"
      ]
     },
     "metadata": {},
     "output_type": "display_data"
    },
    {
     "name": "stdout",
     "output_type": "stream",
     "text": [
      "\n"
     ]
    },
    {
     "data": {
      "text/html": [
       "<div>\n",
       "<style scoped>\n",
       "    .dataframe tbody tr th:only-of-type {\n",
       "        vertical-align: middle;\n",
       "    }\n",
       "\n",
       "    .dataframe tbody tr th {\n",
       "        vertical-align: top;\n",
       "    }\n",
       "\n",
       "    .dataframe thead tr th {\n",
       "        text-align: left;\n",
       "    }\n",
       "\n",
       "    .dataframe thead tr:last-of-type th {\n",
       "        text-align: right;\n",
       "    }\n",
       "</style>\n",
       "<table border=\"1\" class=\"dataframe\">\n",
       "  <thead>\n",
       "    <tr>\n",
       "      <th></th>\n",
       "      <th></th>\n",
       "      <th colspan=\"2\" halign=\"left\">test_error</th>\n",
       "    </tr>\n",
       "    <tr>\n",
       "      <th></th>\n",
       "      <th>method</th>\n",
       "      <th>LR</th>\n",
       "      <th>MV</th>\n",
       "    </tr>\n",
       "    <tr>\n",
       "      <th>size</th>\n",
       "      <th>experiment</th>\n",
       "      <th></th>\n",
       "      <th></th>\n",
       "    </tr>\n",
       "  </thead>\n",
       "  <tbody>\n",
       "    <tr>\n",
       "      <th rowspan=\"5\" valign=\"top\">1000</th>\n",
       "      <th>995</th>\n",
       "      <td>26.4</td>\n",
       "      <td>25.6</td>\n",
       "    </tr>\n",
       "    <tr>\n",
       "      <th>996</th>\n",
       "      <td>26.4</td>\n",
       "      <td>28.3</td>\n",
       "    </tr>\n",
       "    <tr>\n",
       "      <th>997</th>\n",
       "      <td>23.3</td>\n",
       "      <td>25.0</td>\n",
       "    </tr>\n",
       "    <tr>\n",
       "      <th>998</th>\n",
       "      <td>24.1</td>\n",
       "      <td>23.4</td>\n",
       "    </tr>\n",
       "    <tr>\n",
       "      <th>999</th>\n",
       "      <td>23.4</td>\n",
       "      <td>25.1</td>\n",
       "    </tr>\n",
       "  </tbody>\n",
       "</table>\n",
       "</div>"
      ],
      "text/plain": [
       "                test_error      \n",
       "method                  LR    MV\n",
       "size experiment                 \n",
       "1000 995              26.4  25.6\n",
       "     996              26.4  28.3\n",
       "     997              23.3  25.0\n",
       "     998              24.1  23.4\n",
       "     999              23.4  25.1"
      ]
     },
     "execution_count": 7,
     "metadata": {},
     "output_type": "execute_result"
    }
   ],
   "source": [
    "from tqdm.notebook import trange, tqdm_notebook\n",
    "\n",
    "for size in sizes:\n",
    "    for experiment in trange(k, desc = 'Size: {:_>4}'.format(size)):\n",
    "        test = sampler(size)\n",
    "        result.loc[(size, 'MV', experiment), 'test_error'] = empirical_risk(clf_1, test[features], test['y'])\n",
    "        result.loc[(size, 'LR', experiment), 'test_error'] = empirical_risk(clf_2, test[features], test['y'])\n",
    "tail(result.sort_index().unstack('method'))        "
   ]
  },
  {
   "cell_type": "markdown",
   "metadata": {},
   "source": [
    "### Visualisation"
   ]
  },
  {
   "cell_type": "code",
   "execution_count": 8,
   "metadata": {},
   "outputs": [
    {
     "data": {
      "text/html": [
       "<div>\n",
       "<style scoped>\n",
       "    .dataframe tbody tr th:only-of-type {\n",
       "        vertical-align: middle;\n",
       "    }\n",
       "\n",
       "    .dataframe tbody tr th {\n",
       "        vertical-align: top;\n",
       "    }\n",
       "\n",
       "    .dataframe thead th {\n",
       "        text-align: right;\n",
       "    }\n",
       "</style>\n",
       "<table border=\"1\" class=\"dataframe\">\n",
       "  <thead>\n",
       "    <tr style=\"text-align: right;\">\n",
       "      <th></th>\n",
       "      <th>size</th>\n",
       "      <th>method</th>\n",
       "      <th>experiment</th>\n",
       "      <th>test_error</th>\n",
       "    </tr>\n",
       "  </thead>\n",
       "  <tbody>\n",
       "    <tr>\n",
       "      <th>0</th>\n",
       "      <td>1</td>\n",
       "      <td>LR</td>\n",
       "      <td>0</td>\n",
       "      <td>0.0</td>\n",
       "    </tr>\n",
       "    <tr>\n",
       "      <th>1</th>\n",
       "      <td>1</td>\n",
       "      <td>LR</td>\n",
       "      <td>1</td>\n",
       "      <td>100.0</td>\n",
       "    </tr>\n",
       "    <tr>\n",
       "      <th>2</th>\n",
       "      <td>1</td>\n",
       "      <td>LR</td>\n",
       "      <td>2</td>\n",
       "      <td>0.0</td>\n",
       "    </tr>\n",
       "    <tr>\n",
       "      <th>3</th>\n",
       "      <td>1</td>\n",
       "      <td>LR</td>\n",
       "      <td>3</td>\n",
       "      <td>0.0</td>\n",
       "    </tr>\n",
       "    <tr>\n",
       "      <th>4</th>\n",
       "      <td>1</td>\n",
       "      <td>LR</td>\n",
       "      <td>4</td>\n",
       "      <td>0.0</td>\n",
       "    </tr>\n",
       "  </tbody>\n",
       "</table>\n",
       "</div>"
      ],
      "text/plain": [
       "  size method  experiment  test_error\n",
       "0    1     LR           0         0.0\n",
       "1    1     LR           1       100.0\n",
       "2    1     LR           2         0.0\n",
       "3    1     LR           3         0.0\n",
       "4    1     LR           4         0.0"
      ]
     },
     "execution_count": 8,
     "metadata": {},
     "output_type": "execute_result"
    }
   ],
   "source": [
    "from pandas.api.types import CategoricalDtype\n",
    "SizeType = CategoricalDtype(sizes, ordered = True)\n",
    "df = result.reset_index().assign(size = lambda df: df['size'].astype(SizeType))\n",
    "df.to_csv('results/test_errors.csv', index = False)\n",
    "head(df)"
   ]
  },
  {
   "cell_type": "code",
   "execution_count": 9,
   "metadata": {},
   "outputs": [
    {
     "data": {
      "image/png": "[encoded data removed]",
      "text/plain": [
       "<Figure size 640x480 with 1 Axes>"
      ]
     },
     "metadata": {},
     "output_type": "display_data"
    },
    {
     "data": {
      "text/plain": [
       "<ggplot: (-9223372029840191158)>"
      ]
     },
     "metadata": {},
     "output_type": "display_data"
    },
    {
     "data": {
      "image/png": "[encoded data removed]",
      "text/plain": [
       "<Figure size 640x480 with 1 Axes>"
      ]
     },
     "metadata": {},
     "output_type": "display_data"
    },
    {
     "data": {
      "text/plain": [
       "<ggplot: (7014780827)>"
      ]
     },
     "metadata": {},
     "output_type": "display_data"
    }
   ],
   "source": [
    "p = ggplot(data = df[df['method'] == 'LR'])\n",
    "p = p + geom_boxplot(aes(x ='size', y = 'test_error'), fill = \"oldlace\")\n",
    "p = p + scale_y_continuous(name = \"test error\")\n",
    "p.save('test_error_fluctuations_1.pdf', path='results', height=6, width=6, verbose=False)\n",
    "display(p)\n",
    "p = ggplot(data = df[df['method'] == 'LR'])\n",
    "p = p + geom_jitter(aes(x ='size', y = 'test_error'), width =0.2, alpha=0.1)  \n",
    "p = p + scale_y_continuous(name = \"test error\")\n",
    "p.save('test_error_fluctuations_2.pdf', path='results', height=6, width=6, verbose=False)\n",
    "display(p)"
   ]
  },
  {
   "cell_type": "markdown",
   "metadata": {},
   "source": [
    "# Homework"
   ]
  },
  {
   "cell_type": "markdown",
   "metadata": {},
   "source": [
    "## 2.1  Empirical study of convergence speed (<font color='red'>1p</font>)\n",
    "\n",
    "Let us study empirically whether the empirical risk indeed converges to some value for large enough sample sizes $N$. For that generate 100 datasets for $N = 1,10,50,100,500,1000$ and compute empirical risk estimates for each of them.\n",
    "From that estimate the value $\\varepsilon_N$ such that $$\\Pr[|R_N(f)-R(f)|\\geq \\varepsilon_N] \\leq 5\\%\\enspace.$$\n",
    "\n",
    "* Draw corresponding boxplots and try to estimate to which value the empirical risk converges.\n",
    "  Declare this value as $R(f)$.\n",
    "\n",
    "* Next compute $\\Delta=|R_N(f) − R(f)|$ for each dataset size and run and find an empirical $95\\%$ quantile $\\hat{\\varepsilon}_N$ to get the approximate value of $\\varepsilon_N$.\n",
    "\n",
    "* Plot the resulting dependence $\\varepsilon_N\\sim N$ on log-log scale and interpret results."
   ]
  },
  {
   "cell_type": "markdown",
   "metadata": {},
   "source": [
    "numpy.quantile()"
   ]
  },
  {
   "cell_type": "markdown",
   "metadata": {},
   "source": [
    "## 2.2 Theoretical study of convergence speed (<font color='red'>1p</font>)\n",
    "\n",
    "It is easy to see that it is possible to show that empirical risk $R_N (f)$ is  directly linked to binomial distribution if we consider classification tasks with a standard loss function $L(\\hat{y}, y)=[\\hat{y}\\neq y]$:\n",
    "\\begin{align*}\n",
    " N · R_N (f)\\sim \\texttt{scipy.stats.binom}(n = N, p = R(f)).\n",
    "\\end{align*}\n",
    "The latter allows us to find $\\varepsilon_N$ analytically instead of doing simulation experiments: \n",
    "\n",
    "* We need to find $\\varepsilon_n$ such that $\\Pr[|R_N(f)−R(f)|\\geq \\varepsilon_N] = 5\\%$.\n",
    "* Since the $R_N(f)$ is just a scaled binomial distribution, we must solve the equation\n",
    "\n",
    "  \\begin{align*}\n",
    "   \\Pr[Y \\leq N\\cdot(p−\\varepsilon_N)]+\\Pr[Y \\geq N\\cdot(p+\\varepsilon_N)]=5%\n",
    "  \\end{align*}  \n",
    "  for a random variable $Y ∼ \\texttt{binom}(N, p)$ where $p = R(f)$. \n",
    "\n",
    "* As binomial distribution is symmetric, we can simplify $\\Pr[Y \\leq N\\cdot(p−\\varepsilon_N)]=2.5\\%$ and solve the corrsponding equality with `binom.ppf` to get numerical values of $\\varepsilon_N$. \n",
    "  Using this information, write a function that analytically computes $\\varepsilon_N$. \n",
    "\n",
    "Implement the solution outlined above:\n",
    "* Define a function that computes theoretical estimates $\\varepsilon_N$.\n",
    "* Add these theoretical estimates to the figure done in the previous exercise.\n",
    "* Tabulate how much samples are needed to get the precision $\\varepsilon_N=10, 5, 1, 0.5, 0.1\\%$ for true risk values $R(f)=10\\%, 50\\%, 90\\%$."
   ]
  },
  {
   "cell_type": "code",
   "execution_count": 10,
   "metadata": {},
   "outputs": [],
   "source": [
    "from scipy.stats import binom"
   ]
  },
  {
   "cell_type": "code",
   "execution_count": null,
   "metadata": {},
   "outputs": [],
   "source": []
  },
  {
   "cell_type": "markdown",
   "metadata": {},
   "source": [
    "## 2.3 Estimating convergence through moment matching* (<font color='red'>2p</font>) \n",
    "\n",
    "For regression tasks the distribution $|R_N(f)-R(f)|$ is unknown for most cases but by the law of large numbers it will converge to a normal distribution. Hence, we can approximate $R_N(f)-R(f)$ with a normal distribution $\\texttt{scipy.stats.norm}(loc = R_N, scale=\\sigma)$ where $\\sigma$ is the standard deviation of $R_N(f)$.\n",
    "This provides a handle for theoretical estimation of the convergence speed.\n",
    "\n",
    "* Assume that the quadratic loss $L(\\hat{y},y)=(\\hat{y}-y)^2$ of an individual prediction follows a squared Laplace distribution `scipy.stats.laplace`.\n",
    "* Repeat the experiment scheme outlined in Exercise 2.1 to get empirical quantiles for $\\hat{\\varepsilon}_N$.\n",
    "* Use moment maching to find `loc` and `scale` parameters for the normal approximation and `normal.ppf` to get  estimates of $\\varepsilon_N$.\n",
    "* Plot a figure containing empirical and theoretical estimates as done in Exercise 2.2. Interpret the results.\n",
    "* Tabulate how much samples are needed to get the relative precision $\\frac{\\varepsilon_N}{R(f)}=10, 5, 1, 0.5, 0.1\\%$ for different true risk values $R(f)$."
   ]
  },
  {
   "cell_type": "code",
   "execution_count": 11,
   "metadata": {},
   "outputs": [],
   "source": [
    "from scipy.stats import norm\n",
    "from scipy.stats import laplace"
   ]
  },
  {
   "cell_type": "code",
   "execution_count": null,
   "metadata": {},
   "outputs": [],
   "source": []
  }
 ],
 "metadata": {
  "kernelspec": {
   "display_name": "Python 3",
   "language": "python",
   "name": "python3"
  },
  "language_info": {
   "codemirror_mode": {
    "name": "ipython",
    "version": 3
   },
   "file_extension": ".py",
   "mimetype": "text/x-python",
   "name": "python",
   "nbconvert_exporter": "python",
   "pygments_lexer": "ipython3",
   "version": "3.6.10"
  }
 },
 "nbformat": 4,
 "nbformat_minor": 2
}
