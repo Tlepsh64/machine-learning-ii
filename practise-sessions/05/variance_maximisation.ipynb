{
 "cells": [
  {
   "cell_type": "markdown",
   "metadata": {},
   "source": [
    "# Variance maximisation"
   ]
  },
  {
   "cell_type": "markdown",
   "metadata": {},
   "source": [
    "## I. Problem statement\n",
    "\n",
    "Find vector $\\boldsymbol{w}$ with unit length such that $w_1^2a_1^2+\\cdots+w_n^2a_n^2$ is maximised."
   ]
  },
  {
   "cell_type": "markdown",
   "metadata": {},
   "source": [
    "## II. Solution to two-dimensional problem\n",
    "\n",
    "We need to maximise $w_1^2a_1^2+w_2^2a_2^2$ subject to $w_1^2+w_2^2=1$. We can just substitute and get\n",
    "\n",
    "\\begin{align*}\n",
    "w_1^2a_1^2+(1-w_1^2)a_2^2= a_2^2+(a_1^2-a_2^2)w_1^2\n",
    "\\end{align*}\n",
    "\n",
    "Clearly if $a_1> a_2$ we must choose maximal value $w_1^2=1$ and otherwise the minimal value $w_1^2=0$.\n",
    "\n",
    "**Conclusion.** The optimal solution is in direction of maximal variance $a_i$."
   ]
  },
  {
   "cell_type": "markdown",
   "metadata": {},
   "source": [
    "### III. General solution\n",
    "\n",
    "Let us first consider the case where there is a single maximal value $a_i$. Let $w_1,\\ldots,w_n$ be the optimal solution. \n",
    "* Consider any pair of coefficients $w_i, w_j$ then they fix a coefficient $c=w_i^2+w_j^2$.\n",
    "* Now we can consider the two-dimensional maximisation task $w_i^2a_i^2+w_j^2a_j^2\\to \\max$ subject to $w_i^2+w_j^2=c$.\n",
    "* This has the same solution as the two-dimensional problem considered above.\n",
    "* As a result $w_j$ must be zero.\n",
    "* As all coefficienct $w_j$ where $j\\neq i$ must be zeros $w_i=1$.\n",
    "\n",
    "If there are several maximal values $a_i$ then the same argument holds for all coefficients that are strictly less than the maximal value.  Note that the remaining coefficients are equivalent we can change $w_i$ and $w_j$ without altering the objective function if $a_i=a_j$. Thus the direction of maximal variance is still the correct although non-unique solution. "
   ]
  },
  {
   "cell_type": "code",
   "execution_count": 1,
   "metadata": {},
   "outputs": [
    {
     "ename": "SyntaxError",
     "evalue": "invalid syntax (<ipython-input-1-3b9bf9379793>, line 1)",
     "output_type": "error",
     "traceback": [
      "\u001b[0;36m  File \u001b[0;32m\"<ipython-input-1-3b9bf9379793>\"\u001b[0;36m, line \u001b[0;32m1\u001b[0m\n\u001b[0;31m    *\u001b[0m\n\u001b[0m      ^\u001b[0m\n\u001b[0;31mSyntaxError\u001b[0m\u001b[0;31m:\u001b[0m invalid syntax\n"
     ]
    }
   ],
   "source": [
    "* "
   ]
  }
 ],
 "metadata": {
  "kernelspec": {
   "display_name": "Python 3",
   "language": "python",
   "name": "python3"
  },
  "language_info": {
   "codemirror_mode": {
    "name": "ipython",
    "version": 3
   },
   "file_extension": ".py",
   "mimetype": "text/x-python",
   "name": "python",
   "nbconvert_exporter": "python",
   "pygments_lexer": "ipython3",
   "version": "3.6.10"
  }
 },
 "nbformat": 4,
 "nbformat_minor": 4
}
