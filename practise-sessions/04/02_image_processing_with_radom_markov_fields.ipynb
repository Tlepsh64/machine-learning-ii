{
 "cells": [
  {
   "cell_type": "markdown",
   "metadata": {},
   "source": [
    "# Image processing with Markov random fields\n",
    "\n",
    "Markov random fields are quite good models for image textures as they naturally model local dependencies.\n",
    "\n",
    "<img src = 'illustrations/markov-random-field-i.pdf' width=100%>\n",
    "\n",
    "\n",
    "The celebrated Hammersley-Clifford theorem fixes the format in which the corresponding probability distibution must be sought:\n",
    "\n",
    "\\begin{align*}\n",
    "p[\\boldsymbol{x}]=\\frac{1}{Z(\\omega)}\\cdot\\exp\\Biggl(-\\sum_{c\\in\\textsf{MaxClique}}\\Psi_c(\\boldsymbol{x}_c,\\omega)\\Biggr) \n",
    "\\end{align*} \n",
    "where \n",
    "* $Z(\\omega)$ is a normalising constant\n",
    "* $\\textsf{MaxClique}$ is the set of maximal cliques in the Markov random field\n",
    "* $\\Psi_c$ is defined on the variables $x_i$ in the clique $c$. \n",
    "\n",
    "If we define all individual potentials $\\Psi_c$ as quadratic forms over $\\boldsymbol{x}_c$, the resulting distribution will be a multivariate normal distribution. The latter allows us to obtain analytical solutions for basic inference tasks that are generally doable with complex MCMC simulation algorithms.\n",
    "The main aim of this tutorial, is to demonstrate the remarkable properties of multivariate normal distribution that provide necessary formulae to get the analytical solution.   \n"
   ]
  },
  {
   "cell_type": "code",
   "execution_count": 195,
   "metadata": {},
   "outputs": [],
   "source": [
    "import numpy as np\n",
    "import pandas as pd\n",
    "import scipy.stats as stats\n",
    "import matplotlib.pyplot as plt\n",
    "import sklearn\n",
    "import string\n",
    "import sys\n",
    "\n",
    "from pandas import Series\n",
    "from pandas import DataFrame\n",
    "from typing import List,Tuple\n",
    "\n",
    "from pandas import Categorical\n",
    "from pandas.api.types import CategoricalDtype\n",
    "\n",
    "from tqdm import tnrange#, tqdm_notebook\n",
    "from sklearn.linear_model import LogisticRegression\n",
    "from plotnine import *\n",
    "\n",
    "# Local imports\n",
    "from common import *\n",
    "from convenience import *"
   ]
  },
  {
   "cell_type": "markdown",
   "metadata": {},
   "source": [
    "## I. Toy example. Homogenous MRF for 3 x 3 grid\n",
    "\n",
    "In the simplest homogenous MRF model each node is influenced by four of its closest neighbours where \n",
    "\n",
    "* the deviations from the mean pixel intensity are penalised by $\\delta^2 x_{ij}$\n",
    "* the differeces in the horisontal direction are penalised by $\\alpha (x_{ij}-x_{i,j+1})^2$\n",
    "* the differeces in the vertical direction are penalised by $\\beta (x_{ij}-x_{i+1,j})^2$\n",
    "\n",
    "In the following we are building the inverse covariance matrix for the $3\\times 3$ grid depicted below \n",
    "\n",
    "<img src = 'illustrations/markov-random-field-ii.pdf' width=100%>"
   ]
  },
  {
   "cell_type": "markdown",
   "metadata": {},
   "source": [
    "## II. The shape of inverse covariance matrix\n",
    "\n",
    "As the term $(a-b)^2 = a^2 -2ab + b^2$ we can capture vertical penalities between pairs $x_0, x_3$ and $x_1, x_4$ and $x_2, x_5$ by the matrix\n",
    "\n",
    "\\begin{align*}\n",
    "V=\n",
    "\\begin{pmatrix}\n",
    "+1    & \\;\\;0 & \\;\\;0 &    -1 & \\;\\;0 & \\;\\;0\\\\\n",
    "\\;\\;0 &    +1 & \\;\\;0 & \\;\\;0 &    -1 & \\;\\;0\\\\\n",
    "\\;\\;0 & \\;\\;0 &    +1 & \\;\\;0 & \\;\\;0 &    -1\\\\\n",
    "   -1 & \\;\\;0 & \\;\\;0 &    +1 & \\;\\;0 & \\;\\;0\\\\\n",
    "\\;\\;0 &    -1 & \\;\\;0 & \\;\\;0 &    +1 & \\;\\;0\\\\\n",
    "\\;\\;0 & \\;\\;0 &    -1 & \\;\\;0 & \\;\\;0 &    +1\\\\\n",
    "\\end{pmatrix}\n",
    "\\end{align*}\n",
    "\n",
    "if we ignore the scaling factor $\\beta$. \n",
    "Horizontal penalties between pairs $x_0, x_1$ and $x_3, x_4$ and $x_6,x_7$ are captured by the same matrix if we consider submatrix indexed by $[0,3,6,1,4,7]$. Thus it is straightforward to construct the inverse correlation matrix $S$. "
   ]
  },
  {
   "cell_type": "code",
   "execution_count": 111,
   "metadata": {},
   "outputs": [
    {
     "data": {
      "text/html": [
       "<div>\n",
       "<style scoped>\n",
       "    .dataframe tbody tr th:only-of-type {\n",
       "        vertical-align: middle;\n",
       "    }\n",
       "\n",
       "    .dataframe tbody tr th {\n",
       "        vertical-align: top;\n",
       "    }\n",
       "\n",
       "    .dataframe thead th {\n",
       "        text-align: right;\n",
       "    }\n",
       "</style>\n",
       "<table border=\"1\" class=\"dataframe\">\n",
       "  <thead>\n",
       "    <tr style=\"text-align: right;\">\n",
       "      <th></th>\n",
       "      <th>0</th>\n",
       "      <th>1</th>\n",
       "      <th>2</th>\n",
       "      <th>3</th>\n",
       "      <th>4</th>\n",
       "      <th>5</th>\n",
       "    </tr>\n",
       "  </thead>\n",
       "  <tbody>\n",
       "    <tr>\n",
       "      <th>0</th>\n",
       "      <td>1.0</td>\n",
       "      <td>0.0</td>\n",
       "      <td>0.0</td>\n",
       "      <td>-1.0</td>\n",
       "      <td>0.0</td>\n",
       "      <td>0.0</td>\n",
       "    </tr>\n",
       "    <tr>\n",
       "      <th>1</th>\n",
       "      <td>0.0</td>\n",
       "      <td>1.0</td>\n",
       "      <td>0.0</td>\n",
       "      <td>0.0</td>\n",
       "      <td>-1.0</td>\n",
       "      <td>0.0</td>\n",
       "    </tr>\n",
       "    <tr>\n",
       "      <th>2</th>\n",
       "      <td>0.0</td>\n",
       "      <td>0.0</td>\n",
       "      <td>1.0</td>\n",
       "      <td>0.0</td>\n",
       "      <td>0.0</td>\n",
       "      <td>-1.0</td>\n",
       "    </tr>\n",
       "    <tr>\n",
       "      <th>3</th>\n",
       "      <td>-1.0</td>\n",
       "      <td>0.0</td>\n",
       "      <td>0.0</td>\n",
       "      <td>1.0</td>\n",
       "      <td>0.0</td>\n",
       "      <td>0.0</td>\n",
       "    </tr>\n",
       "    <tr>\n",
       "      <th>4</th>\n",
       "      <td>0.0</td>\n",
       "      <td>-1.0</td>\n",
       "      <td>0.0</td>\n",
       "      <td>0.0</td>\n",
       "      <td>1.0</td>\n",
       "      <td>0.0</td>\n",
       "    </tr>\n",
       "    <tr>\n",
       "      <th>5</th>\n",
       "      <td>0.0</td>\n",
       "      <td>0.0</td>\n",
       "      <td>-1.0</td>\n",
       "      <td>0.0</td>\n",
       "      <td>0.0</td>\n",
       "      <td>1.0</td>\n",
       "    </tr>\n",
       "  </tbody>\n",
       "</table>\n",
       "</div>"
      ],
      "text/plain": [
       "     0    1    2    3    4    5\n",
       "0  1.0  0.0  0.0 -1.0  0.0  0.0\n",
       "1  0.0  1.0  0.0  0.0 -1.0  0.0\n",
       "2  0.0  0.0  1.0  0.0  0.0 -1.0\n",
       "3 -1.0  0.0  0.0  1.0  0.0  0.0\n",
       "4  0.0 -1.0  0.0  0.0  1.0  0.0\n",
       "5  0.0  0.0 -1.0  0.0  0.0  1.0"
      ]
     },
     "execution_count": 111,
     "metadata": {},
     "output_type": "execute_result"
    }
   ],
   "source": [
    "V = np.identity(6)\n",
    "np.fill_diagonal(V[:,3:], -1)\n",
    "np.fill_diagonal(V[3:,:], -1)\n",
    "DataFrame(V)"
   ]
  },
  {
   "cell_type": "code",
   "execution_count": 123,
   "metadata": {},
   "outputs": [],
   "source": [
    "delta = 1\n",
    "alpha = 2\n",
    "beta = 2"
   ]
  },
  {
   "cell_type": "code",
   "execution_count": 128,
   "metadata": {},
   "outputs": [
    {
     "data": {
      "text/html": [
       "<div>\n",
       "<style scoped>\n",
       "    .dataframe tbody tr th:only-of-type {\n",
       "        vertical-align: middle;\n",
       "    }\n",
       "\n",
       "    .dataframe tbody tr th {\n",
       "        vertical-align: top;\n",
       "    }\n",
       "\n",
       "    .dataframe thead th {\n",
       "        text-align: right;\n",
       "    }\n",
       "</style>\n",
       "<table border=\"1\" class=\"dataframe\">\n",
       "  <thead>\n",
       "    <tr style=\"text-align: right;\">\n",
       "      <th></th>\n",
       "      <th>0</th>\n",
       "      <th>1</th>\n",
       "      <th>2</th>\n",
       "      <th>3</th>\n",
       "      <th>4</th>\n",
       "      <th>5</th>\n",
       "      <th>6</th>\n",
       "      <th>7</th>\n",
       "      <th>8</th>\n",
       "    </tr>\n",
       "  </thead>\n",
       "  <tbody>\n",
       "    <tr>\n",
       "      <th>0</th>\n",
       "      <td>5.0</td>\n",
       "      <td>-2.0</td>\n",
       "      <td>0.0</td>\n",
       "      <td>-2.0</td>\n",
       "      <td>0.0</td>\n",
       "      <td>0.0</td>\n",
       "      <td>0.0</td>\n",
       "      <td>0.0</td>\n",
       "      <td>0.0</td>\n",
       "    </tr>\n",
       "    <tr>\n",
       "      <th>1</th>\n",
       "      <td>-2.0</td>\n",
       "      <td>7.0</td>\n",
       "      <td>-2.0</td>\n",
       "      <td>0.0</td>\n",
       "      <td>-2.0</td>\n",
       "      <td>0.0</td>\n",
       "      <td>0.0</td>\n",
       "      <td>0.0</td>\n",
       "      <td>0.0</td>\n",
       "    </tr>\n",
       "    <tr>\n",
       "      <th>2</th>\n",
       "      <td>0.0</td>\n",
       "      <td>-2.0</td>\n",
       "      <td>5.0</td>\n",
       "      <td>0.0</td>\n",
       "      <td>0.0</td>\n",
       "      <td>-2.0</td>\n",
       "      <td>0.0</td>\n",
       "      <td>0.0</td>\n",
       "      <td>0.0</td>\n",
       "    </tr>\n",
       "    <tr>\n",
       "      <th>3</th>\n",
       "      <td>-2.0</td>\n",
       "      <td>0.0</td>\n",
       "      <td>0.0</td>\n",
       "      <td>7.0</td>\n",
       "      <td>-2.0</td>\n",
       "      <td>0.0</td>\n",
       "      <td>-2.0</td>\n",
       "      <td>0.0</td>\n",
       "      <td>0.0</td>\n",
       "    </tr>\n",
       "    <tr>\n",
       "      <th>4</th>\n",
       "      <td>0.0</td>\n",
       "      <td>-2.0</td>\n",
       "      <td>0.0</td>\n",
       "      <td>-2.0</td>\n",
       "      <td>9.0</td>\n",
       "      <td>-2.0</td>\n",
       "      <td>0.0</td>\n",
       "      <td>-2.0</td>\n",
       "      <td>0.0</td>\n",
       "    </tr>\n",
       "    <tr>\n",
       "      <th>5</th>\n",
       "      <td>0.0</td>\n",
       "      <td>0.0</td>\n",
       "      <td>-2.0</td>\n",
       "      <td>0.0</td>\n",
       "      <td>-2.0</td>\n",
       "      <td>7.0</td>\n",
       "      <td>0.0</td>\n",
       "      <td>0.0</td>\n",
       "      <td>-2.0</td>\n",
       "    </tr>\n",
       "    <tr>\n",
       "      <th>6</th>\n",
       "      <td>0.0</td>\n",
       "      <td>0.0</td>\n",
       "      <td>0.0</td>\n",
       "      <td>-2.0</td>\n",
       "      <td>0.0</td>\n",
       "      <td>0.0</td>\n",
       "      <td>5.0</td>\n",
       "      <td>-2.0</td>\n",
       "      <td>0.0</td>\n",
       "    </tr>\n",
       "    <tr>\n",
       "      <th>7</th>\n",
       "      <td>0.0</td>\n",
       "      <td>0.0</td>\n",
       "      <td>0.0</td>\n",
       "      <td>0.0</td>\n",
       "      <td>-2.0</td>\n",
       "      <td>0.0</td>\n",
       "      <td>-2.0</td>\n",
       "      <td>7.0</td>\n",
       "      <td>-2.0</td>\n",
       "    </tr>\n",
       "    <tr>\n",
       "      <th>8</th>\n",
       "      <td>0.0</td>\n",
       "      <td>0.0</td>\n",
       "      <td>0.0</td>\n",
       "      <td>0.0</td>\n",
       "      <td>0.0</td>\n",
       "      <td>-2.0</td>\n",
       "      <td>0.0</td>\n",
       "      <td>-2.0</td>\n",
       "      <td>5.0</td>\n",
       "    </tr>\n",
       "  </tbody>\n",
       "</table>\n",
       "</div>"
      ],
      "text/plain": [
       "     0    1    2    3    4    5    6    7    8\n",
       "0  5.0 -2.0  0.0 -2.0  0.0  0.0  0.0  0.0  0.0\n",
       "1 -2.0  7.0 -2.0  0.0 -2.0  0.0  0.0  0.0  0.0\n",
       "2  0.0 -2.0  5.0  0.0  0.0 -2.0  0.0  0.0  0.0\n",
       "3 -2.0  0.0  0.0  7.0 -2.0  0.0 -2.0  0.0  0.0\n",
       "4  0.0 -2.0  0.0 -2.0  9.0 -2.0  0.0 -2.0  0.0\n",
       "5  0.0  0.0 -2.0  0.0 -2.0  7.0  0.0  0.0 -2.0\n",
       "6  0.0  0.0  0.0 -2.0  0.0  0.0  5.0 -2.0  0.0\n",
       "7  0.0  0.0  0.0  0.0 -2.0  0.0 -2.0  7.0 -2.0\n",
       "8  0.0  0.0  0.0  0.0  0.0 -2.0  0.0 -2.0  5.0"
      ]
     },
     "metadata": {},
     "output_type": "display_data"
    },
    {
     "data": {
      "image/png": "[encoded data removed]",
      "text/plain": [
       "<Figure size 432x288 with 1 Axes>"
      ]
     },
     "metadata": {
      "needs_background": "light"
     },
     "output_type": "display_data"
    }
   ],
   "source": [
    "S = delta**2 * np.identity(9)\n",
    "\n",
    "# Vertical penalties\n",
    "l = [0, 1, 2, 3, 4, 5]\n",
    "S[np.ix_(l,l)] += alpha * V \n",
    "l = [3, 4, 5, 6, 7, 8]\n",
    "S[np.ix_(l,l)] += alpha * V \n",
    "\n",
    "# Horizontal penalties\n",
    "l = [0, 3, 6, 1, 4, 7]\n",
    "S[np.ix_(l,l)] += beta * V \n",
    "l = [1, 4, 7, 2, 5, 8]\n",
    "S[np.ix_(l,l)] += beta * V \n",
    "\n",
    "plt.imshow(S)\n",
    "display(DataFrame(S))"
   ]
  },
  {
   "cell_type": "markdown",
   "metadata": {},
   "source": [
    "As you can see the resulting matrix is pentadiagonal with quite simple structure and we can easily synthesise it "
   ]
  },
  {
   "cell_type": "code",
   "execution_count": 130,
   "metadata": {},
   "outputs": [],
   "source": [
    "def inverse_covariance_matrix(alpha: float, beta:float, delta:float) -> np.array: \n",
    "    \"\"\"\n",
    "    Given parameters assembles inverse covariance matrix for 3 x 3 grid \n",
    "    \"\"\"\n",
    "    \n",
    "    # Intensity deviation penalties\n",
    "    S = delta**2 * np.identity(9)\n",
    "\n",
    "    # Vertical penalties\n",
    "    l = [0, 1, 2, 3, 4, 5]\n",
    "    S[np.ix_(l,l)] += alpha * V \n",
    "    l = [3, 4, 5, 6, 7, 8]\n",
    "    S[np.ix_(l,l)] += alpha * V \n",
    "\n",
    "    # Horizontal penalties\n",
    "    l = [0, 3, 6, 1, 4, 7]\n",
    "    S[np.ix_(l,l)] += beta * V \n",
    "    l = [1, 4, 7, 2, 5, 8]\n",
    "    S[np.ix_(l,l)] += beta * V \n",
    "    \n",
    "    return S"
   ]
  },
  {
   "cell_type": "markdown",
   "metadata": {},
   "source": [
    "Some inverse covariance matrixes with their inverses -- covariance matrices.  "
   ]
  },
  {
   "cell_type": "code",
   "execution_count": 148,
   "metadata": {},
   "outputs": [
    {
     "data": {
      "text/plain": [
       "<matplotlib.image.AxesImage at 0x1c38fe5518>"
      ]
     },
     "execution_count": 148,
     "metadata": {},
     "output_type": "execute_result"
    },
    {
     "data": {
      "image/png": "[encoded data removed]",
      "text/plain": [
       "<Figure size 432x288 with 6 Axes>"
      ]
     },
     "metadata": {
      "needs_background": "light"
     },
     "output_type": "display_data"
    }
   ],
   "source": [
    "plt.figure(1)\n",
    "plt.subplot(241)\n",
    "plt.imshow(inverse_covariance_matrix(0,0,1), cmap='coolwarm')\n",
    "plt.subplot(242)\n",
    "plt.imshow(inverse_covariance_matrix(1,0,0), cmap='coolwarm')\n",
    "plt.subplot(243)\n",
    "plt.imshow(inverse_covariance_matrix(0,1,0), cmap='coolwarm')\n",
    "plt.subplot(244)\n",
    "plt.imshow(inverse_covariance_matrix(1,1,0.5), cmap='coolwarm')\n",
    "plt.subplot(245)\n",
    "plt.imshow(np.linalg.inv(inverse_covariance_matrix(0,0,1)), cmap='coolwarm')\n",
    "plt.subplot(248)\n",
    "plt.imshow(np.linalg.inv(inverse_covariance_matrix(1,1,.5)), cmap='coolwarm')"
   ]
  },
  {
   "cell_type": "markdown",
   "metadata": {},
   "source": [
    "It worth noting that the covariance matrix is quite dispersed -- all pixels are correlated with eaxh other."
   ]
  },
  {
   "cell_type": "markdown",
   "metadata": {},
   "source": [
    "## III. Texture sampling with multivariate normal distribution\n",
    "\n",
    "As we know the inverse covariance matrix is enough to determine the entire multivariate normal distribution. The following code generates patches from the $3\\times 3$ MRF with different paramaters. "
   ]
  },
  {
   "cell_type": "code",
   "execution_count": 196,
   "metadata": {},
   "outputs": [],
   "source": [
    "def sample_mrf(m:int, alpha:float, beta:float, delta:float):\n",
    "    \"\"\"\n",
    "    Samples m x m patches from the MRF specified by alpha, beta, delta.\n",
    "    \n",
    "    Aborts if the inverse covariance matrix cannot be inverted correctly. \n",
    "    Numeric stability check was taken from \n",
    "    https://stackoverflow.com/questions/13249108/efficient-pythonic-check-for-singular-matrix\n",
    "    \"\"\"\n",
    "    \n",
    "    S = inverse_covariance_matrix(alpha, beta, delta)\n",
    "    \n",
    "    if np.linalg.cond(S) > 1/sys.float_info.epsilon:\n",
    "        print('Ill-conditioned inverse covariance matrix')\n",
    "        return\n",
    "    \n",
    "    distr = stats.multivariate_normal(cov=np.linalg.inv(S))\n",
    "    patches = distr.rvs(m * m)\n",
    "    \n",
    "    X = np.full([4 *  m + 1, 4 * m + 1], np.nan)\n",
    "    for i in range(m):\n",
    "        for j in range(m):\n",
    "            X[i*4+1 : i*4+4, j*4+1 : j*4+4] = patches[i * m + j].reshape(3,3)    \n",
    "    \n",
    "    \n",
    "    cmap=plt.get_cmap('Greys')\n",
    "    cmap.set_bad(color='Olive')\n",
    "    plt.imshow(X, cmap=cmap, vmin = -4, vmax = 4)"
   ]
  },
  {
   "cell_type": "code",
   "execution_count": 212,
   "metadata": {},
   "outputs": [
    {
     "data": {
      "image/png": "[encoded data removed]",
      "text/plain": [
       "<Figure size 1080x1080 with 9 Axes>"
      ]
     },
     "metadata": {
      "needs_background": "light"
     },
     "output_type": "display_data"
    }
   ],
   "source": [
    "plt.figure(figsize=(15,15))\n",
    "plt.subplot(331)\n",
    "sample_mrf(10, 1,1,10)\n",
    "plt.subplot(332)\n",
    "sample_mrf(10, 1,1,1)\n",
    "plt.subplot(333)\n",
    "sample_mrf(10, 1,1,0.1)\n",
    "\n",
    "plt.subplot(334)\n",
    "sample_mrf(10, 1,0,10)\n",
    "plt.subplot(335)\n",
    "sample_mrf(10, 1,0,1)\n",
    "plt.subplot(336)\n",
    "sample_mrf(10, 1,0,0.1)\n",
    "\n",
    "plt.subplot(337)\n",
    "sample_mrf(10, 0,1,10)\n",
    "plt.subplot(338)\n",
    "sample_mrf(10, 0,1,1)\n",
    "plt.subplot(339)\n",
    "sample_mrf(10, 0,1,0.1)\n",
    "\n"
   ]
  },
  {
   "cell_type": "markdown",
   "metadata": {},
   "source": [
    "## IV. Image recovery from few pixels\n",
    "\n",
    "Suppose that we know the values of $x_0,x_1,x_2$ and want to reconstruct the entire $3\\times 3$ grid.\n",
    "Then $x_3,\\ldots,x_8|x_0,\\ldots, x_2$ is also a normal distribution and the parameters can be determined from the following lemma\n",
    "\n",
    "**Lemma**. Assume that $\\boldsymbol{x}\\sim\\mathcal{N}(\\boldsymbol{\\mu},\\boldsymbol{\\Sigma})$ with the following decomposiotion\n",
    "\n",
    "\\begin{align*}\n",
    "\\boldsymbol{x}&=\n",
    "\\begin{pmatrix}\n",
    "\\boldsymbol{x}_1\\\\\n",
    "\\boldsymbol{x}_2\n",
    "\\end{pmatrix}\n",
    "&\n",
    "\\boldsymbol{\\mu}&=\n",
    "\\begin{pmatrix}\n",
    "\\boldsymbol{\\mu}_1\\\\\n",
    "\\boldsymbol{\\mu}_2\n",
    "\\end{pmatrix}\n",
    "&\n",
    "\\boldsymbol{\\Sigma}&=\n",
    "\\begin{pmatrix}\n",
    "\\boldsymbol{\\Sigma}_{1} & \\boldsymbol{\\Sigma}_{*} \\\\\n",
    "\\boldsymbol{\\Sigma}_*^T & \\boldsymbol{\\Sigma}_{2}\n",
    "\\end{pmatrix}\n",
    "\\end{align*}\n",
    "Then $\\boldsymbol{x}_2|\\boldsymbol{x}_1\\sim\\mathcal{N}(\\boldsymbol{\\mu}_\\circ, \\boldsymbol{\\Sigma}_\\circ)$ where the  parameters can be compted as follows\n",
    "\n",
    "\\begin{align*}\n",
    "\\boldsymbol{\\mu}_\\circ &= \\boldsymbol{\\mu}_2 + \\boldsymbol{\\Sigma_*^T}\\boldsymbol{\\Sigma_1^{-1}}(\\boldsymbol{x}_1-\\boldsymbol{\\mu}_1)\n",
    "\\\\\n",
    "\\boldsymbol{\\Sigma}_\\circ&=\\boldsymbol{\\Sigma}_2 + \\boldsymbol{\\Sigma_*^T}\\boldsymbol{\\Sigma_1^{-1}}\\boldsymbol{\\Sigma}_*\n",
    "\\end{align*}\n"
   ]
  },
  {
   "cell_type": "code",
   "execution_count": 213,
   "metadata": {},
   "outputs": [],
   "source": [
    "S = inverse_covariance_matrix(1, 1, 1)\n",
    "C = np.linalg.inv(S)"
   ]
  },
  {
   "cell_type": "markdown",
   "metadata": {},
   "source": [
    "Let us recover the image provided that the top row is $(0,1,0)$."
   ]
  },
  {
   "cell_type": "code",
   "execution_count": 225,
   "metadata": {},
   "outputs": [
    {
     "data": {
      "text/html": [
       "<table style=\"display:inline\"><tr><td style=\"text-align:center\">$\\mu_\\circ$</td><td style=\"text-align:center\">$\\Sigma_\\circ$</td></tr><tr><td style=\"vertical-align:top\"> <table style=\"display:inline\" border=\"1\" class=\"dataframe\">\n",
       "  <thead>\n",
       "    <tr style=\"text-align: right;\">\n",
       "      <th>0</th>\n",
       "    </tr>\n",
       "  </thead>\n",
       "  <tbody>\n",
       "    <tr>\n",
       "      <td>0.075862</td>\n",
       "    </tr>\n",
       "    <tr>\n",
       "      <td>0.248276</td>\n",
       "    </tr>\n",
       "    <tr>\n",
       "      <td>0.075862</td>\n",
       "    </tr>\n",
       "    <tr>\n",
       "      <td>0.055172</td>\n",
       "    </tr>\n",
       "    <tr>\n",
       "      <td>0.089655</td>\n",
       "    </tr>\n",
       "    <tr>\n",
       "      <td>0.055172</td>\n",
       "    </tr>\n",
       "  </tbody>\n",
       "</table style=\"display:inline\"></td><td style=\"vertical-align:top\"> <table style=\"display:inline\" border=\"1\" class=\"dataframe\">\n",
       "  <thead>\n",
       "    <tr style=\"text-align: right;\">\n",
       "      <th>0</th>\n",
       "      <th>1</th>\n",
       "      <th>2</th>\n",
       "      <th>3</th>\n",
       "      <th>4</th>\n",
       "      <th>5</th>\n",
       "    </tr>\n",
       "  </thead>\n",
       "  <tbody>\n",
       "    <tr>\n",
       "      <td>0.394425</td>\n",
       "      <td>0.138424</td>\n",
       "      <td>0.067152</td>\n",
       "      <td>0.160703</td>\n",
       "      <td>0.087685</td>\n",
       "      <td>0.051612</td>\n",
       "    </tr>\n",
       "    <tr>\n",
       "      <td>0.138424</td>\n",
       "      <td>0.323153</td>\n",
       "      <td>0.138424</td>\n",
       "      <td>0.087685</td>\n",
       "      <td>0.124631</td>\n",
       "      <td>0.087685</td>\n",
       "    </tr>\n",
       "    <tr>\n",
       "      <td>0.067152</td>\n",
       "      <td>0.138424</td>\n",
       "      <td>0.394425</td>\n",
       "      <td>0.051612</td>\n",
       "      <td>0.087685</td>\n",
       "      <td>0.160703</td>\n",
       "    </tr>\n",
       "    <tr>\n",
       "      <td>0.160703</td>\n",
       "      <td>0.087685</td>\n",
       "      <td>0.051612</td>\n",
       "      <td>0.436080</td>\n",
       "      <td>0.147537</td>\n",
       "      <td>0.066383</td>\n",
       "    </tr>\n",
       "    <tr>\n",
       "      <td>0.087685</td>\n",
       "      <td>0.124631</td>\n",
       "      <td>0.087685</td>\n",
       "      <td>0.147537</td>\n",
       "      <td>0.354926</td>\n",
       "      <td>0.147537</td>\n",
       "    </tr>\n",
       "    <tr>\n",
       "      <td>0.051612</td>\n",
       "      <td>0.087685</td>\n",
       "      <td>0.160703</td>\n",
       "      <td>0.066383</td>\n",
       "      <td>0.147537</td>\n",
       "      <td>0.436080</td>\n",
       "    </tr>\n",
       "  </tbody>\n",
       "</table style=\"display:inline\"></td></tr></table style=\"display:inline\">"
      ]
     },
     "metadata": {},
     "output_type": "display_data"
    }
   ],
   "source": [
    "x1 = np.array([0,1,0])\n",
    "mu = np.dot(C[3:,:3], np.dot(np.linalg.inv(C[:3,:3]), x1))\n",
    "Sigma = C[3:, 3:] + np.dot(C[3:,:3], np.dot(np.linalg.inv(C[:3,:3]), C[:3,3:]))\n",
    "mdisplay([DataFrame(mu), DataFrame(Sigma)], ['$\\mu_\\circ$', '$\\Sigma_\\circ$'])"
   ]
  },
  {
   "cell_type": "code",
   "execution_count": 235,
   "metadata": {},
   "outputs": [],
   "source": [
    "def sample_mrf_recovery(m:int, alpha:float, beta:float, delta:float, x1: np.array):\n",
    "    \"\"\"\n",
    "    Samples m x m patches from the MRF specified by alpha, beta, delta and the first row.\n",
    "    \n",
    "    Aborts if the inverse covariance matrix cannot be inverted correctly. \n",
    "    Numeric stability check was taken from \n",
    "    https://stackoverflow.com/questions/13249108/efficient-pythonic-check-for-singular-matrix\n",
    "    \"\"\"\n",
    "    \n",
    "    S = inverse_covariance_matrix(alpha, beta, delta)\n",
    "    \n",
    "    if np.linalg.cond(S) > 1/sys.float_info.epsilon:\n",
    "        print('Ill-conditioned inverse covariance matrix')\n",
    "        return\n",
    "    \n",
    "    C = np.linalg.inv(S)\n",
    "    \n",
    "    mu = np.dot(C[3:,:3], np.dot(np.linalg.inv(C[:3,:3]), x1))\n",
    "    Sigma = C[3:, 3:] + np.dot(C[3:,:3], np.dot(np.linalg.inv(C[:3,:3]), C[:3,3:]))\n",
    "    \n",
    "    distr = stats.multivariate_normal(mean=mu, cov=Sigma)\n",
    "    patches = distr.rvs(m * m)\n",
    "    \n",
    "    X = np.full([4 *  m + 1, 4 * m + 1], np.nan)\n",
    "    for i in range(m):\n",
    "        for j in range(m):\n",
    "            X[i*4+1 : i*4+4, j*4+1 : j*4+4] = np.concatenate((x1,patches[i * m + j])).reshape(3,3)    \n",
    "    \n",
    "    \n",
    "    cmap=plt.get_cmap('Greys')\n",
    "    cmap.set_bad(color='Olive')\n",
    "    plt.imshow(X, cmap=cmap, vmin = -4, vmax = 4)"
   ]
  },
  {
   "cell_type": "code",
   "execution_count": 241,
   "metadata": {},
   "outputs": [
    {
     "data": {
      "image/png": "[encoded data removed]",
      "text/plain": [
       "<Figure size 1080x1080 with 9 Axes>"
      ]
     },
     "metadata": {
      "needs_background": "light"
     },
     "output_type": "display_data"
    }
   ],
   "source": [
    "x1 = np.array([0,1,0])\n",
    "\n",
    "plt.figure(figsize=(15,15))\n",
    "plt.subplot(331)\n",
    "sample_mrf_recovery(10, 1,1,10, x1)\n",
    "plt.subplot(332)\n",
    "sample_mrf_recovery(10, 1,1,1,  x1)\n",
    "plt.subplot(333)\n",
    "sample_mrf_recovery(10, 1,1,0.1, x1)\n",
    "\n",
    "plt.subplot(334)\n",
    "sample_mrf_recovery(10, 1,0,10, x1)\n",
    "plt.subplot(335)\n",
    "sample_mrf_recovery(10, 1,0,1, x1)\n",
    "plt.subplot(336)\n",
    "sample_mrf_recovery(10, 1,0,0.1, x1)\n",
    "\n",
    "plt.subplot(337)\n",
    "sample_mrf_recovery(10, 0,1,10, x1)\n",
    "plt.subplot(338)\n",
    "sample_mrf_recovery(10, 0,1,1, x1)\n",
    "plt.subplot(339)\n",
    "sample_mrf_recovery(10, 0,1,0.1, x1)\n"
   ]
  },
  {
   "cell_type": "markdown",
   "metadata": {},
   "source": [
    "## V. Parameter fitting\n",
    "\n",
    "The simplest way to fit the model parameters $\\alpha, \\beta, \\delta$ is to choose enough independent $3\\times 3$ patches and find parameters wich minimise the log-likelihood of the data. The most naive way is to fix some parameter grid for $\\alpha, \\beta, \\delta$ and compute log-likelihood directly with [`multivariate_normal.logpdf`](https://docs.scipy.org/doc/scipy-0.14.0/reference/generated/scipy.stats.multivariate_normal.html) for each patch and see for which parameter set the sum of log-likelihoods is the smallest. \n",
    "You can be slightly more efficient and use [hill climing](https://en.wikipedia.org/wiki/Hill_climbing) to see where to jump form the current solution $(\\alpha,\\beta,\\delta)$.     \n",
    "\n",
    "Note that we know the likelihood \n",
    "\n",
    "\\begin{align*}\n",
    "p[X|\\alpha,\\beta,\\delta]\\propto \\exp\\Biggl(\n",
    "\\alpha\\cdot\\sum_{i=1}^{m-1}\\sum_{j=1}^n (x_{i,j}-x_{i+1,j})^2\n",
    "+\\beta\\cdot\\sum_{i=1}^{m}\\sum_{j=1}^{n-1} (x_{i,j}-x_{i,j+1})^2\n",
    "+\\delta^2 \\sum_{i=1}^m\\sum_{j=1}^n x_{ij}^2\n",
    "\\Biggr)\n",
    "\\end{align*}\n",
    "up to a constant \n",
    "\n",
    "\\begin{align*}\n",
    "c(\\alpha,\\beta,\\delta)=\\frac{1}{(2\\pi)^{\\frac{nm}{2}}\\cdot \\det \\Sigma}=\\frac{1}{(2\\pi)^{\\frac{nm}{2}}}\\cdot \\det \\Sigma^{-1}\n",
    "\\end{align*}\n",
    "\n",
    "that depends on inverse covariance matrix $\\Sigma^{-1}(\\alpha,\\beta,\\delta)$ and thus getting the exact analytical solution is much harder than for typical maximum likelihood fitting. \n",
    "As we work with a small $3\\times 3$ images it is still possible to compute the determinant of the  $9\\times 9$ inverse covariance matrix analytically and get an equation for findind the model parameters.\n",
    "\n",
    "This method has clear limits, it is almost impossible to lift this approach to a typical sizes of meaningful textures that are at least $32\\times 32$ big. Fortunately there is another loop hole provided by the chain rule\n",
    "\n",
    "\\begin{align*}\n",
    "y=g(f_1(x),f_2(x),\\ldots, f_k(x))\n",
    "\\qquad\\Longrightarrow\\qquad\n",
    "\\frac{\\partial y}{\\partial x}=\\sum_{i=1}^k \\frac{\\partial g(u_1,\\ldots,u_k)}{\\partial u_i}\\biggl|_\\boldsymbol{u_*}\\cdot  \\frac{\\partial f_i(x)}{\\partial x}\n",
    "\\end{align*}\n",
    "\n",
    "where $\\boldsymbol{u}_*=(f_1(x),\\ldots,f_k(x))$. In our case, the log-likelihood\n",
    "\n",
    "\\begin{align*}\n",
    "\\mathcal{L}(\\boldsymbol{\\Sigma},\\boldsymbol{\\mu})=const +\\frac{d}{2}\\cdot \\ln\\det(\\boldsymbol{\\Sigma}^{-1}) \n",
    "-\\sum_{i=1}^m\\frac{(\\boldsymbol{x}_i-\\boldsymbol{\\mu})^T \\boldsymbol{\\Sigma}^{-1}(\\boldsymbol{x}_i-\\boldsymbol{\\mu})}{2}\n",
    "\\end{align*}\n",
    "of a $d$ dimensional multivariate normal distribution has known gradient with respect to the  unconstrained inverse covariance matrix $\\boldsymbol{\\Sigma}^{-1}$:\n",
    "\n",
    "\\begin{align*}\n",
    "\\frac{\\partial\\mathcal{L}}{\\partial(\\boldsymbol{\\Sigma}^{-1})}\n",
    "&=\\frac{d}{2}\\cdot\\boldsymbol{\\Sigma}^{T} -\\sum_{i=1}^m\\frac{(\\boldsymbol{x}_i-\\boldsymbol{\\mu})^T (\\boldsymbol{x}_i-\\boldsymbol{\\mu})}{2}\n",
    "\\end{align*}\n",
    "\n",
    "and thus we can compute partial derivatives \n",
    "\n",
    "\\begin{align*}\n",
    "\\frac{\\partial\\mathcal{L}}{\\partial \\alpha}, \n",
    "\\frac{\\partial\\mathcal{L}}{\\partial \\beta},\n",
    "\\frac{\\partial\\mathcal{L}}{\\partial \\delta}\n",
    "\\end{align*}\n",
    "\n",
    "using the chain rule. However there is still one complication as we need to compute partial derivatives \n",
    "\n",
    "\\begin{align*}\n",
    "\\frac{\\partial \\boldsymbol{\\Sigma}^{-1}}{\\partial \\alpha},\n",
    "\\frac{\\partial \\boldsymbol{\\Sigma}^{-1}}{\\partial \\beta}\n",
    "\\frac{\\partial \\boldsymbol{\\Sigma}^{-1}}{\\partial \\delta}\n",
    "\\end{align*}\n",
    "\n",
    "However, as the matrix $\\boldsymbol{\\Sigma}^{-1}$ has a simple structure this can be done for all image sizes. "
   ]
  },
  {
   "cell_type": "markdown",
   "metadata": {},
   "source": [
    "## VI. Gibbs sampling\n",
    "\n",
    "Note that in principle, we can always compute covariance matrix form the inverse covariance matrix. \n",
    "However, this quickly becomes infeasible if image sizes go beyound $32\\times 32$ and we need a method for sampling images without the inversion.\n",
    "This can be done with [Gibbs sampling](https://en.wikipedia.org/wiki/Gibbs_sampling) algorithm that iteratively updates individual pixels $x_{ij}$ until sufficiently many iterations are carried out and we have an image that comes form the distribution very close to our target distribution.\n",
    "\n",
    "The Gibbs samplin algorithm adjusted to our problem is following\n",
    "\n",
    "* Initialize starting values of $x_{i,j}$ for $i \\in \\{1,\\ldots, m\\}$ and $j\\in\\{1,\\ldots,n\\}$.\n",
    "* Repeat until convergence\n",
    "  * Pick an order of the $m × n$ variables and for each variable $x_{i,j}$ do\n",
    "     * Sample $x_{i,j}$ based on $p[x_{i,j}|\\mathsf{Neighbours}(x_{i,j})]$.\n",
    "     * Update the value $y_{i,j}$ accordingly. \n",
    "     \n",
    "Note that if we fix known pixels $x_{ij}$, the algorithm provides a reconstruction.\n",
    "\n",
    "In be quite tricky to determine whether the number of iterations is sufficient or not and the number of iterations can be quite large -- sometimes around one million. You can try with 1000 iterations."
   ]
  },
  {
   "cell_type": "markdown",
   "metadata": {},
   "source": [
    "# Homework"
   ]
  },
  {
   "cell_type": "markdown",
   "metadata": {},
   "source": [
    "## 2.1 Medium-scale modelling of textures (<font color='red'>1p</font>)\n",
    "\n",
    "Images of sizes $3\\times 3$ are not large enough to see the true texture generated by the simple homogenous Markov field. \n",
    "Adjust the model for $16\\times 16$ and $32\\times 32$ images and syntehsise some textures with different $\\alpha,\\beta, \\delta$ parameters.\n",
    "Note that we can set $\\delta=1$ as by scaling the pixel intensities  by $\\sqrt{c}$ we scale the entire inverse covariance matrix by the factor of $c$.\n"
   ]
  },
  {
   "cell_type": "markdown",
   "metadata": {},
   "source": [
    "## 2.2 Higer order models for textures* (<font color='red'>3p</font>) \n",
    "\n",
    "The simple 4 element neighbourhood cannot capture more complex dependencies between pixel intensities. The following homogenous model \n",
    "\n",
    "<img src = 'illustrations/markov-random-field-iii.pdf' width=100%>\n",
    "\n",
    "is the next natural model that also penalises diagonal differences. Express the corresponding inverse covariance matrix and sample images from the corresponding distribution. As the cliques now have three nodes you can define more complex quadratic dependencies. corresponding inverse covariance matrix and sample images from the corresponding distribution. What is the minimal set of parameters if we ignore global scaling ot the pixel intensities. \n"
   ]
  },
  {
   "cell_type": "markdown",
   "metadata": {},
   "source": [
    "## 2.3 Medium-scale reconstruction of textures (<font color='red'>2p</font>) \n",
    "\n",
    "Images of sizes $3\\times 3$ are not large enough to see the true texture generated by the simple homogenous Markov field. \n",
    "Adjust the model for $16\\times 16$ and $32\\times 32$ images and syntehsise some textures with different $\\alpha,\\beta, \\delta$ parameters.\n",
    "Note that we can set $\\delta=1$ as by scaling the pixel intensities  by $\\sqrt{c}$ we scale the entire inverse covariance matrix by the factor of $c$.\n",
    "* Adjust the image recovery procedure so that the image is restored form a single row (<font color='red'>**1p**</font>). To see how good is the image reconstruction sample original image form the model, keep the upper row and synthesise several continuations.\n",
    "\n",
    "* Adjust the image recovery procedure so that it can handle any configuration of seed pixel (and not the upper) row.  To see how good is the image reconstruction sample original image form the model, keep $25, 50, 75\\%$ pixels in random locations and synthesise several continuations (<font color='red'>**1p**</font>).\n"
   ]
  },
  {
   "cell_type": "markdown",
   "metadata": {},
   "source": [
    "## 2.4 Naive parameter fitting with grid search (<font color='red'>1p</font>)\n",
    "\n",
    "Try to fit the parameters of the simple homogenous Markov random field by sampling non-overlapping $3\\times 3$ patches from three different images \n",
    "* [`carpet.jpg`](./data/carpet.jpg), [`hair.jpg`](./data/hairt.jpg), [`moss.jpg`](./data/moss.jpg)\n",
    "\n",
    "Use naive grid search or hill climing to fit the model to each image, see if there are differences in the models:\n",
    "\n",
    "* Compare is the stucture of inverse covariance matrices.\n",
    "* Test whether different models give higher likelihood scores to the patches coming from their image.\n"
   ]
  },
  {
   "cell_type": "markdown",
   "metadata": {},
   "source": [
    "## 2.5 Precise analytical parameter fitting* (<font color='red'>1p</font>) \n",
    "\n",
    "Consider the simple homogenous Markov random field by sampling non-overlapping $3\\times 3$ patches.\n",
    "* Derive analytical formulae for the gradients $\\frac{\\partial\\mathcal{L}}{\\partial \\alpha}$, $\\frac{\\partial\\mathcal{L}}{\\partial \\beta}$ and $\n",
    "\\frac{\\partial\\mathcal{L}}{\\partial \\delta}$ and find the analytiocal solution that maximise the data log-lihelihood.\n",
    "* Try to fit the parameters by sampling non-overlapping $3\\times 3$ patches from three different images \n",
    "  * [`carpet.jpg`](./data/carpet.jpg), [`hair.jpg`](./data/hairt.jpg), [`moss.jpg`](./data/moss.jpg)\n",
    "* Compare results with the outcomes of the previous exercise. They should be quite close to each other.\n"
   ]
  },
  {
   "cell_type": "markdown",
   "metadata": {},
   "source": [
    "## 2.6 Precise parameter fitting over large image* (<font color='red'>5p</font>)\n",
    "\n",
    "The previous solution considers only subset of all available patches and thus ignores lots of correlations between pixels. To solve this there are two options\n",
    "\n",
    "* First, we can extract all subpatches so that the corresponding loglikelihood function is identical up to the normalising constant. Then we can treat all these images as indepenedent and compute the maximal likelihood estimate for parameters $\\alpha,\\beta,\\delta$ (<font color='red'>**1p**</font>).\n",
    "* Second, we can try to minimize the true loglikelihood. We can do it by minimising the true loglikelihood of the image. This can be none with the grid search (<font color='red'>**1p**</font>) or by using analytical solution (<font color='red'>**2p**</font>).    \n",
    "\n",
    "Fit the simple homogenous Markov fiels model to the data: [`carpet.jpg`](./data/carpet.jpg), [`hair.jpg`](./data/hairt.jpg), [`moss.jpg`](./data/moss.jpg) and compare the results.\n",
    "\n",
    "**Extra task:**\n",
    "Fit higer more complex homogenous Markov field model to the data and compare how well these models capture the texture by synthesising $16\\times 16$ $32\\times 32$ patches and testing how well models can discriminate between patches from different images (<font color='red'>**5p**</font>).\n"
   ]
  },
  {
   "cell_type": "markdown",
   "metadata": {},
   "source": [
    "# Some python modules that might be useful for analytical derivation"
   ]
  },
  {
   "cell_type": "code",
   "execution_count": 3,
   "metadata": {},
   "outputs": [],
   "source": [
    "from sympy import Matrix\n",
    "from sympy import Symbol\n"
   ]
  },
  {
   "cell_type": "code",
   "execution_count": 7,
   "metadata": {},
   "outputs": [],
   "source": [
    "a = Symbol('a')\n",
    "b = Symbol('b')\n",
    "A = Matrix([[1,a,0], [a,1,a],[0,a,1]])"
   ]
  },
  {
   "cell_type": "code",
   "execution_count": 8,
   "metadata": {},
   "outputs": [
    {
     "data": {
      "text/plain": [
       "-2*a**2 + 1"
      ]
     },
     "execution_count": 8,
     "metadata": {},
     "output_type": "execute_result"
    }
   ],
   "source": [
    "A.det()"
   ]
  },
  {
   "cell_type": "code",
   "execution_count": 10,
   "metadata": {},
   "outputs": [
    {
     "data": {
      "text/plain": [
       "Matrix([\n",
       "[1, a, 0, b, 0, 0],\n",
       "[a, 1, a, 0, b, 0],\n",
       "[0, a, 1, 0, 0, b],\n",
       "[b, 0, 0, 1, a, 0],\n",
       "[0, b, 0, a, 1, a],\n",
       "[0, 0, b, 0, a, 1]])"
      ]
     },
     "metadata": {},
     "output_type": "display_data"
    }
   ],
   "source": [
    "A2 = Matrix([[1,a,0, b,0,0], [a,1,a, 0,b,0],[0,a,1,0,0, b],[b, 0,0,1,a,0], [0,b,0,a,1,a],[0,0,b,0,a,1]])\n",
    "display(A2)"
   ]
  },
  {
   "cell_type": "code",
   "execution_count": 11,
   "metadata": {},
   "outputs": [
    {
     "data": {
      "text/plain": [
       "-4*a**4*b**2 + 4*a**4 + 4*a**2*b**4 - 4*a**2 - b**6 + 3*b**4 - 3*b**2 + 1"
      ]
     },
     "execution_count": 11,
     "metadata": {},
     "output_type": "execute_result"
    }
   ],
   "source": [
    "A2.det()"
   ]
  },
  {
   "cell_type": "code",
   "execution_count": 68,
   "metadata": {},
   "outputs": [
    {
     "data": {
      "text/plain": [
       "Matrix([\n",
       "[1, a, 0, b, 0, 0, 0, 0, 0],\n",
       "[a, 1, a, 0, b, 0, 0, 0, 0],\n",
       "[0, a, 1, 0, 0, b, 0, 0, 0],\n",
       "[b, 0, 0, 1, a, 0, b, 0, 0],\n",
       "[0, b, 0, a, 1, a, 0, b, 0],\n",
       "[0, 0, b, 0, a, 1, 0, 0, b],\n",
       "[0, 0, 0, b, 0, 0, 1, a, 0],\n",
       "[0, 0, 0, 0, b, 0, a, 1, a],\n",
       "[0, 0, 0, 0, 0, b, 0, a, 1]])"
      ]
     },
     "metadata": {},
     "output_type": "display_data"
    }
   ],
   "source": [
    "A3 = Matrix([\n",
    "    [1,a,0,b,0,0,0,0,0], \n",
    "    [a,1,a,0,b,0,0,0,0],\n",
    "    [0,a,1,0,0,b,0,0,0],\n",
    "    [b,0,0,1,a,0,b,0,0], \n",
    "    [0,b,0,a,1,a,0,b,0],\n",
    "    [0,0,b,0,a,1,0,0,b],\n",
    "    [0,0,0,b,0,0,1,a,0],\n",
    "    [0,0,0,0,b,0,a,1,a],\n",
    "    [0,0,0,0,0,b,0,a,1]])\n",
    "display(A3)"
   ]
  },
  {
   "cell_type": "code",
   "execution_count": 69,
   "metadata": {},
   "outputs": [
    {
     "data": {
      "text/plain": [
       "Matrix([\n",
       "[1,         a, 0,    b, 0, 0, 0, 0, 0],\n",
       "[0, -a**2 + 1, a, -a*b, b, 0, 0, 0, 0],\n",
       "[0,         a, 1,    0, 0, b, 0, 0, 0],\n",
       "[b,         0, 0,    1, a, 0, b, 0, 0],\n",
       "[0,         b, 0,    a, 1, a, 0, b, 0],\n",
       "[0,         0, b,    0, a, 1, 0, 0, b],\n",
       "[0,         0, 0,    b, 0, 0, 1, a, 0],\n",
       "[0,         0, 0,    0, b, 0, a, 1, a],\n",
       "[0,         0, 0,    0, 0, b, 0, a, 1]])"
      ]
     },
     "execution_count": 69,
     "metadata": {},
     "output_type": "execute_result"
    }
   ],
   "source": [
    "A3.row_op(1, lambda v, j: v - a * A3[0, j]); \n",
    "A3"
   ]
  },
  {
   "cell_type": "code",
   "execution_count": 70,
   "metadata": {},
   "outputs": [
    {
     "data": {
      "text/plain": [
       "Matrix([\n",
       "[1,         0, 0,    b, 0, 0, 0, 0, 0],\n",
       "[0, -a**2 + 1, a, -a*b, b, 0, 0, 0, 0],\n",
       "[0,         a, 1,    0, 0, b, 0, 0, 0],\n",
       "[b,      -a*b, 0,    1, a, 0, b, 0, 0],\n",
       "[0,         b, 0,    a, 1, a, 0, b, 0],\n",
       "[0,         0, b,    0, a, 1, 0, 0, b],\n",
       "[0,         0, 0,    b, 0, 0, 1, a, 0],\n",
       "[0,         0, 0,    0, b, 0, a, 1, a],\n",
       "[0,         0, 0,    0, 0, b, 0, a, 1]])"
      ]
     },
     "execution_count": 70,
     "metadata": {},
     "output_type": "execute_result"
    }
   ],
   "source": [
    "A3.col_op(1, lambda v,i: v - a *  A3[i,0]) \n",
    "A3"
   ]
  }
 ],
 "metadata": {
  "kernelspec": {
   "display_name": "Python 3",
   "language": "python",
   "name": "python3"
  },
  "language_info": {
   "codemirror_mode": {
    "name": "ipython",
    "version": 3
   },
   "file_extension": ".py",
   "mimetype": "text/x-python",
   "name": "python",
   "nbconvert_exporter": "python",
   "pygments_lexer": "ipython3",
   "version": "3.6.8"
  }
 },
 "nbformat": 4,
 "nbformat_minor": 2
}
