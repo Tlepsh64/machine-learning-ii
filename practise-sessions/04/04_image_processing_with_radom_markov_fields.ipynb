{
 "cells": [
  {
   "cell_type": "markdown",
   "metadata": {},
   "source": [
    "## Gibbs sampling for Markov Random Fields"
   ]
  },
  {
   "cell_type": "markdown",
   "metadata": {},
   "source": [
    "```\n",
    "Initialize starting values of y[i,j] for i = 1, ..., M and j = 1,...,N;\n",
    "while not at convergence do\n",
    "   Pick an order of the M × N variables; for each variable y[i,j] do\n",
    "     Sample y[i,j] basedon P(y[i,j]|N(y[i,j]));\n",
    "     Update y[i,j] to Y \n",
    "```"
   ]
  }
 ],
 "metadata": {
  "kernelspec": {
   "display_name": "Python 3",
   "language": "python",
   "name": "python3"
  },
  "language_info": {
   "codemirror_mode": {
    "name": "ipython",
    "version": 3
   },
   "file_extension": ".py",
   "mimetype": "text/x-python",
   "name": "python",
   "nbconvert_exporter": "python",
   "pygments_lexer": "ipython3",
   "version": "3.6.8"
  }
 },
 "nbformat": 4,
 "nbformat_minor": 2
}
