{
 "cells": [
  {
   "cell_type": "markdown",
   "metadata": {},
   "source": [
    "# How to use background knowledge  \n",
    "\n",
    "Often, we have no information about the parameters we want to infer. \n",
    "Then methods form classical statistic are most appropriate.\n",
    "However, as soon as we want to pose some restrictions on the parameters, we quickly run into trouble.\n",
    "It is impossible to incorporate background knowledge into frequentistic methods and this will lead to inconsitencies what we infer and what we known.\n",
    "The proper way out is to use bayesian methods and encode background knowledge into a prior distribution. \n",
    "We demonstrate this for the coinflipping problem as it does not hide the underlying issues into a clutter of technical details."
   ]
  },
  {
   "cell_type": "code",
   "execution_count": 16,
   "metadata": {},
   "outputs": [],
   "source": [
    "import numpy as np\n",
    "import pandas as pd\n",
    "import scipy.stats as stats\n",
    "import numpy.random as rnd\n",
    "\n",
    "from pandas import Series\n",
    "from pandas import DataFrame\n",
    "from statsmodels.stats.proportion import proportion_confint\n",
    "\n",
    "from tqdm import tnrange\n",
    "from plotnine import *\n",
    "\n",
    "# Local imports\n",
    "from common import *\n",
    "from convenience import *"
   ]
  },
  {
   "cell_type": "markdown",
   "metadata": {},
   "source": [
    "## I. Inevitable contradictions with background knowledge\n",
    "\n",
    "Let us consider the following task as an illustrative example. \n",
    "Your task is to estimate the bias of a coin $p=\\Pr[B_i=1]$ under the assumption that $p\\in[0.1, 0.2]$.\n",
    "This bit difficult to picture for a physical coin but there are plenty of processes that so asymmetric, such as the labelling error of a good classifier.\n",
    "What should we do if we observe $B_1=\\ldots=B_N=1$? \n",
    "The confidence interval $[p_0,p_1]$ output by standard statistical methods is clearly wrong. \n"
   ]
  },
  {
   "cell_type": "code",
   "execution_count": 2,
   "metadata": {},
   "outputs": [
    {
     "data": {
      "text/plain": [
       "(0.8331790254197431, 1)"
      ]
     },
     "execution_count": 2,
     "metadata": {},
     "output_type": "execute_result"
    }
   ],
   "source": [
    "proportion_confint(count=20, nobs=20, alpha=0.05, method ='binom_test')"
   ]
  },
  {
   "cell_type": "markdown",
   "metadata": {},
   "source": [
    "Moreover, the same problem occurs with other observations with less severe manner "
   ]
  },
  {
   "cell_type": "code",
   "execution_count": 3,
   "metadata": {},
   "outputs": [],
   "source": [
    "df = (DataFrame({'k': list(range(21))})\n",
    "      .assign(ci = lambda df: df['k'].apply(proportion_confint, nobs=20, alpha=0.05, method ='binom_test'))\n",
    "      .assign(q0 = lambda df: df['ci'].apply(lambda x: x[0]), q1 = lambda df: df['ci'].apply(lambda x: x[1]))\n",
    "      .drop(columns=['ci']))"
   ]
  },
  {
   "cell_type": "code",
   "execution_count": 4,
   "metadata": {},
   "outputs": [
    {
     "data": {
      "image/png": "[encoded data removed]",
      "text/plain": [
       "<Figure size 640x480 with 1 Axes>"
      ]
     },
     "metadata": {},
     "output_type": "display_data"
    },
    {
     "data": {
      "text/plain": [
       "<ggplot: (7541801101)>"
      ]
     },
     "metadata": {},
     "output_type": "display_data"
    }
   ],
   "source": [
    "p = ggplot(df)\n",
    "p = p + geom_rect(xmin=0.1, xmax=0.2, ymin=-5, ymax=100.0, fill = 'lightgreen', color = 'red', alpha =0.1, linetype='--')\n",
    "p = p + geom_errorbarh(aes(xmin = 'q0', xmax = 'q1', y='k'))\n",
    "p = p + scale_x_continuous(name = '') + scale_y_continuous(name = '') \n",
    "display(p)\n",
    "p.save('confidence_intervals_vs_background_knowledge.pdf', path='results', height=6, width=12, verbose=False)\n",
    "\n"
   ]
  },
  {
   "cell_type": "markdown",
   "metadata": {},
   "source": [
    "## II. Belief update procedure for the coinflipping observations\n",
    "\n",
    "To apply Bayes theorem we need do define a data generation model and find a suitable distribution to model our belifs about the values of model parameters. \n",
    "The coinflipping outcome $k$ is determined only by the bias of the coin $p$ and the number of observations $n$ where the latter is known value. \n",
    "Thus, the posterior distribution for the parameter $p$ is given by the formula\n",
    "\n",
    "\\begin{align*}\n",
    "\\Pr[p|k]=\\frac{\\Pr[k|p]\\Pr[p]}{\\Pr[k]}\n",
    "\\end{align*}\n",
    "\n",
    "where the **likelihood** of the data is specified by the formula defyining binomial distribution\n",
    "\n",
    "\\begin{align*}\n",
    "\\Pr[k|p]=\\Pr[B_1+\\ldots+B_n=k]=\\binom{n}{k}p^k(1-p)^{n-k}\\enspace.\n",
    "\\end{align*}\n",
    "\n",
    "To go further we need to fix prior distribution. In the following we consider two simplified cases."
   ]
  },
  {
   "cell_type": "markdown",
   "metadata": {},
   "source": [
    "## III. Uninformative prior with finite precision\n",
    "\n",
    "In principle, the bias term in coinflipping can have any value from the range $[0,1]$.\n",
    "However, values with inifinite precision are not practical and introduce integrals to posterior computations. Thus, we make a simplifying assumpotion that the parameter $p\\in\\{0.000, 0.001, \\ldots,0.999, 1.000\\}$ and assign a uniform probability:\n",
    "\n",
    "\\begin{align*}\n",
    "\\Pr[p=0.000]=\\ldots = \\Pr[p=1.000]\n",
    "\\end{align*}\n",
    "\n",
    "Then we can compute the normalising term\n",
    "\n",
    "\\begin{align*}\n",
    "\\Pr[k]=\\frac{1}{1001}\\cdot\\sum_{p=0.001}^{1.000}\\binom{n}{k} p^k(1-p)^{n-k}\n",
    "=\\frac{1}{1001}\\cdot\\binom{n}{k}\\cdot\\sum_{p=0.001}^{1.000} p^k(1-p)^{n-k}\n",
    "\\end{align*}\n",
    "\n",
    "and substitute it into the posterior formula. After removal of reoccuring constants in the denominator and numerator we get\n",
    "\n",
    "\\begin{align*}\n",
    "\\Pr[p|k]=\\frac{p^k(1-p)^{n-k}}{\\sum_{p=0.001}^{1.000} p^k(1-p)^{n-k}}\\enspace.\n",
    "\\end{align*}\n"
   ]
  },
  {
   "cell_type": "markdown",
   "metadata": {},
   "source": [
    "### Belief-update procedure"
   ]
  },
  {
   "cell_type": "code",
   "execution_count": 17,
   "metadata": {},
   "outputs": [],
   "source": [
    "def uninformed_belief_update(k: int, n: int, m: int=1000) -> DataFrame:\n",
    "    \"\"\"\n",
    "    Returns the dataframe containing prior and posterior beliefs for coin bias\n",
    "    \n",
    "    k - the number of heads\n",
    "    n - the number of throws\n",
    "    m - the number of parmeter values on the unit range [0,1] \n",
    "    \"\"\"\n",
    "    \n",
    "    return (DataFrame({'p': np.linspace(0, 1, num = m + 1, endpoint=True)})\n",
    "            .assign(prior = lambda df: 1/len(df))\n",
    "            .assign(likelihood = lambda df: stats.binom.pmf(k=k, n=n, p=df['p']))\n",
    "            .assign(posterior = lambda df: df['likelihood']/df['likelihood'].sum()))\n",
    "            \n",
    "    "
   ]
  },
  {
   "cell_type": "code",
   "execution_count": 18,
   "metadata": {},
   "outputs": [
    {
     "data": {
      "text/html": [
       "<div>\n",
       "<style scoped>\n",
       "    .dataframe tbody tr th:only-of-type {\n",
       "        vertical-align: middle;\n",
       "    }\n",
       "\n",
       "    .dataframe tbody tr th {\n",
       "        vertical-align: top;\n",
       "    }\n",
       "\n",
       "    .dataframe thead th {\n",
       "        text-align: right;\n",
       "    }\n",
       "</style>\n",
       "<table border=\"1\" class=\"dataframe\">\n",
       "  <thead>\n",
       "    <tr style=\"text-align: right;\">\n",
       "      <th></th>\n",
       "      <th>p</th>\n",
       "      <th>prior</th>\n",
       "      <th>likelihood</th>\n",
       "      <th>posterior</th>\n",
       "    </tr>\n",
       "  </thead>\n",
       "  <tbody>\n",
       "    <tr>\n",
       "      <th>0</th>\n",
       "      <td>0.0</td>\n",
       "      <td>0.090909</td>\n",
       "      <td>0.000000</td>\n",
       "      <td>0.000000</td>\n",
       "    </tr>\n",
       "    <tr>\n",
       "      <th>1</th>\n",
       "      <td>0.1</td>\n",
       "      <td>0.090909</td>\n",
       "      <td>0.000006</td>\n",
       "      <td>0.000014</td>\n",
       "    </tr>\n",
       "    <tr>\n",
       "      <th>2</th>\n",
       "      <td>0.2</td>\n",
       "      <td>0.090909</td>\n",
       "      <td>0.002031</td>\n",
       "      <td>0.004266</td>\n",
       "    </tr>\n",
       "    <tr>\n",
       "      <th>3</th>\n",
       "      <td>0.3</td>\n",
       "      <td>0.090909</td>\n",
       "      <td>0.030817</td>\n",
       "      <td>0.064716</td>\n",
       "    </tr>\n",
       "    <tr>\n",
       "      <th>4</th>\n",
       "      <td>0.4</td>\n",
       "      <td>0.090909</td>\n",
       "      <td>0.117142</td>\n",
       "      <td>0.245997</td>\n",
       "    </tr>\n",
       "    <tr>\n",
       "      <th>5</th>\n",
       "      <td>0.5</td>\n",
       "      <td>0.090909</td>\n",
       "      <td>0.176197</td>\n",
       "      <td>0.370014</td>\n",
       "    </tr>\n",
       "    <tr>\n",
       "      <th>6</th>\n",
       "      <td>0.6</td>\n",
       "      <td>0.090909</td>\n",
       "      <td>0.117142</td>\n",
       "      <td>0.245997</td>\n",
       "    </tr>\n",
       "    <tr>\n",
       "      <th>7</th>\n",
       "      <td>0.7</td>\n",
       "      <td>0.090909</td>\n",
       "      <td>0.030817</td>\n",
       "      <td>0.064716</td>\n",
       "    </tr>\n",
       "    <tr>\n",
       "      <th>8</th>\n",
       "      <td>0.8</td>\n",
       "      <td>0.090909</td>\n",
       "      <td>0.002031</td>\n",
       "      <td>0.004266</td>\n",
       "    </tr>\n",
       "    <tr>\n",
       "      <th>9</th>\n",
       "      <td>0.9</td>\n",
       "      <td>0.090909</td>\n",
       "      <td>0.000006</td>\n",
       "      <td>0.000014</td>\n",
       "    </tr>\n",
       "    <tr>\n",
       "      <th>10</th>\n",
       "      <td>1.0</td>\n",
       "      <td>0.090909</td>\n",
       "      <td>0.000000</td>\n",
       "      <td>0.000000</td>\n",
       "    </tr>\n",
       "  </tbody>\n",
       "</table>\n",
       "</div>"
      ],
      "text/plain": [
       "      p     prior  likelihood  posterior\n",
       "0   0.0  0.090909    0.000000   0.000000\n",
       "1   0.1  0.090909    0.000006   0.000014\n",
       "2   0.2  0.090909    0.002031   0.004266\n",
       "3   0.3  0.090909    0.030817   0.064716\n",
       "4   0.4  0.090909    0.117142   0.245997\n",
       "5   0.5  0.090909    0.176197   0.370014\n",
       "6   0.6  0.090909    0.117142   0.245997\n",
       "7   0.7  0.090909    0.030817   0.064716\n",
       "8   0.8  0.090909    0.002031   0.004266\n",
       "9   0.9  0.090909    0.000006   0.000014\n",
       "10  1.0  0.090909    0.000000   0.000000"
      ]
     },
     "metadata": {},
     "output_type": "display_data"
    }
   ],
   "source": [
    "display(uninformed_belief_update(10, 20, 10))"
   ]
  },
  {
   "cell_type": "markdown",
   "metadata": {},
   "source": [
    "### Credibility intervals"
   ]
  },
  {
   "cell_type": "code",
   "execution_count": 19,
   "metadata": {},
   "outputs": [],
   "source": [
    "def credibility_interval(df: DataFrame, alpha:float=0.05, interval_type:str='two-sided') -> DataFrame:\n",
    "    \"\"\"\n",
    "    Given a data frame with a posterior column outputs returns endpoints of posterior intervals.\n",
    "    \n",
    "    alpha    -- significance level\n",
    "    interval -- left, right or two-sided\n",
    "    \n",
    "    Returns a data frame with two rows where the first row corresponds to the start and the \n",
    "    last row corresponds to the end of the posterior interval.\n",
    "    \n",
    "    The dataframe must be sorted according to the parameter value otherwise the result is nonsensical\n",
    "    \"\"\"\n",
    "    \n",
    "    if interval_type == 'two-sided':\n",
    "        return (df.loc[(df['posterior'].cumsum() > 0.5 * alpha) & \n",
    "                       (df.loc[::-1,'posterior'].cumsum()[::-1] > 0.5 * alpha)]\n",
    "                .iloc[[0,-1]].reset_index(drop=True))\n",
    "    elif interval_type == 'right':\n",
    "        return (df.loc[df['posterior'].cumsum() > alpha]\n",
    "                .iloc[[0,-1]].reset_index(drop=True))\n",
    "    elif interval_type == 'left':\n",
    "        return (df.loc[(df.loc[::-1,'posterior'].cumsum()[::-1] > alpha)]\n",
    "                .iloc[[0,-1]].reset_index(drop=True))\n",
    "    \n",
    "    raise NotImplementedError()           "
   ]
  },
  {
   "cell_type": "code",
   "execution_count": 20,
   "metadata": {},
   "outputs": [
    {
     "data": {
      "text/html": [
       "<table style=\"display:inline\"><tr><td style=\"text-align:center\">left</td><td style=\"text-align:center\">two-sided</td><td style=\"text-align:center\">right</td></tr><tr><td style=\"vertical-align:top\"> <table style=\"display:inline\" border=\"1\" class=\"dataframe\">\n",
       "  <thead>\n",
       "    <tr style=\"text-align: right;\">\n",
       "      <th>p</th>\n",
       "      <th>prior</th>\n",
       "      <th>likelihood</th>\n",
       "      <th>posterior</th>\n",
       "    </tr>\n",
       "  </thead>\n",
       "  <tbody>\n",
       "    <tr>\n",
       "      <td>0.00</td>\n",
       "      <td>0.009901</td>\n",
       "      <td>0.000000</td>\n",
       "      <td>0.000000</td>\n",
       "    </tr>\n",
       "    <tr>\n",
       "      <td>0.67</td>\n",
       "      <td>0.009901</td>\n",
       "      <td>0.051581</td>\n",
       "      <td>0.010832</td>\n",
       "    </tr>\n",
       "  </tbody>\n",
       "</table style=\"display:inline\"></td><td style=\"vertical-align:top\"> <table style=\"display:inline\" border=\"1\" class=\"dataframe\">\n",
       "  <thead>\n",
       "    <tr style=\"text-align: right;\">\n",
       "      <th>p</th>\n",
       "      <th>prior</th>\n",
       "      <th>likelihood</th>\n",
       "      <th>posterior</th>\n",
       "    </tr>\n",
       "  </thead>\n",
       "  <tbody>\n",
       "    <tr>\n",
       "      <td>0.3</td>\n",
       "      <td>0.009901</td>\n",
       "      <td>0.030817</td>\n",
       "      <td>0.006472</td>\n",
       "    </tr>\n",
       "    <tr>\n",
       "      <td>0.7</td>\n",
       "      <td>0.009901</td>\n",
       "      <td>0.030817</td>\n",
       "      <td>0.006472</td>\n",
       "    </tr>\n",
       "  </tbody>\n",
       "</table style=\"display:inline\"></td><td style=\"vertical-align:top\"> <table style=\"display:inline\" border=\"1\" class=\"dataframe\">\n",
       "  <thead>\n",
       "    <tr style=\"text-align: right;\">\n",
       "      <th>p</th>\n",
       "      <th>prior</th>\n",
       "      <th>likelihood</th>\n",
       "      <th>posterior</th>\n",
       "    </tr>\n",
       "  </thead>\n",
       "  <tbody>\n",
       "    <tr>\n",
       "      <td>0.33</td>\n",
       "      <td>0.009901</td>\n",
       "      <td>0.051581</td>\n",
       "      <td>0.010832</td>\n",
       "    </tr>\n",
       "    <tr>\n",
       "      <td>1.00</td>\n",
       "      <td>0.009901</td>\n",
       "      <td>0.000000</td>\n",
       "      <td>0.000000</td>\n",
       "    </tr>\n",
       "  </tbody>\n",
       "</table style=\"display:inline\"></td></tr></table style=\"display:inline\">"
      ]
     },
     "metadata": {},
     "output_type": "display_data"
    }
   ],
   "source": [
    "df = uninformed_belief_update(10, 20, 100)\n",
    "mdisplay([\n",
    "    credibility_interval(df, interval_type='left'),\n",
    "    credibility_interval(df, interval_type='two-sided'),\n",
    "    credibility_interval(df, interval_type='right')], ['left', 'two-sided', 'right'])\n"
   ]
  },
  {
   "cell_type": "markdown",
   "metadata": {},
   "source": [
    "### Visualisation"
   ]
  },
  {
   "cell_type": "code",
   "execution_count": 23,
   "metadata": {},
   "outputs": [],
   "source": [
    "m = 1000\n",
    "\n",
    "# Compute posterior and posterior intervals\n",
    "df = uninformed_belief_update(10, 20, m)\n",
    "ci = credibility_interval(df)\n",
    "\n",
    "# Reshape the data to get color labels.\n",
    "# Shift the data to center the steps with parameter values   \n",
    "df = (DataFrame(df.set_index('p').stack(),columns = ['value'])\n",
    "      .reset_index()\n",
    "      .rename(columns={'level_1': 'function'})\n",
    "      .assign(p1 = lambda df: df['p']-0.5/m))"
   ]
  },
  {
   "cell_type": "code",
   "execution_count": 24,
   "metadata": {},
   "outputs": [
    {
     "data": {
      "image/png": "[encoded data removed]",
      "text/plain": [
       "<Figure size 640x480 with 1 Axes>"
      ]
     },
     "metadata": {},
     "output_type": "display_data"
    },
    {
     "data": {
      "text/plain": [
       "<ggplot: (-9223372029312653182)>"
      ]
     },
     "metadata": {},
     "output_type": "display_data"
    },
    {
     "ename": "FileNotFoundError",
     "evalue": "[Errno 2] No such file or directory: 'results/uninformed_posterior.pdf'",
     "output_type": "error",
     "traceback": [
      "\u001b[0;31m----------------------------------------------------------------------\u001b[0m",
      "\u001b[0;31mFileNotFoundError\u001b[0m                    Traceback (most recent call last)",
      "\u001b[0;32m<ipython-input-24-78eeb1a59681>\u001b[0m in \u001b[0;36m<module>\u001b[0;34m\u001b[0m\n\u001b[1;32m     10\u001b[0m \u001b[0mp\u001b[0m \u001b[0;34m=\u001b[0m \u001b[0mp\u001b[0m \u001b[0;34m+\u001b[0m \u001b[0mgeom_text\u001b[0m\u001b[0;34m(\u001b[0m\u001b[0mx\u001b[0m\u001b[0;34m=\u001b[0m\u001b[0;36m0.875\u001b[0m\u001b[0;34m,\u001b[0m \u001b[0my\u001b[0m\u001b[0;34m=\u001b[0m\u001b[0;36m0.155\u001b[0m\u001b[0;34m,\u001b[0m \u001b[0mlabel\u001b[0m \u001b[0;34m=\u001b[0m\u001b[0;34mr'$k=10, n=20$'\u001b[0m\u001b[0;34m,\u001b[0m \u001b[0msize\u001b[0m\u001b[0;34m=\u001b[0m\u001b[0;36m22\u001b[0m\u001b[0;34m)\u001b[0m\u001b[0;34m\u001b[0m\u001b[0;34m\u001b[0m\u001b[0m\n\u001b[1;32m     11\u001b[0m \u001b[0mdisplay\u001b[0m\u001b[0;34m(\u001b[0m\u001b[0mp\u001b[0m\u001b[0;34m)\u001b[0m\u001b[0;34m\u001b[0m\u001b[0;34m\u001b[0m\u001b[0m\n\u001b[0;32m---> 12\u001b[0;31m \u001b[0mp\u001b[0m\u001b[0;34m.\u001b[0m\u001b[0msave\u001b[0m\u001b[0;34m(\u001b[0m\u001b[0;34m'uninformed_posterior.pdf'\u001b[0m\u001b[0;34m,\u001b[0m \u001b[0mpath\u001b[0m\u001b[0;34m=\u001b[0m\u001b[0;34m'results'\u001b[0m\u001b[0;34m,\u001b[0m \u001b[0mheight\u001b[0m\u001b[0;34m=\u001b[0m\u001b[0;36m6\u001b[0m\u001b[0;34m,\u001b[0m \u001b[0mwidth\u001b[0m\u001b[0;34m=\u001b[0m\u001b[0;36m12\u001b[0m\u001b[0;34m,\u001b[0m \u001b[0mverbose\u001b[0m\u001b[0;34m=\u001b[0m\u001b[0;32mFalse\u001b[0m\u001b[0;34m)\u001b[0m\u001b[0;34m\u001b[0m\u001b[0;34m\u001b[0m\u001b[0m\n\u001b[0m",
      "\u001b[0;32m/anaconda3/envs/machine-learning/lib/python3.6/site-packages/plotnine/ggplot.py\u001b[0m in \u001b[0;36msave\u001b[0;34m(self, filename, format, path, width, height, units, dpi, limitsize, verbose, **kwargs)\u001b[0m\n\u001b[1;32m    726\u001b[0m         \u001b[0;32mexcept\u001b[0m \u001b[0mException\u001b[0m \u001b[0;32mas\u001b[0m \u001b[0merr\u001b[0m\u001b[0;34m:\u001b[0m\u001b[0;34m\u001b[0m\u001b[0;34m\u001b[0m\u001b[0m\n\u001b[1;32m    727\u001b[0m             \u001b[0mfigure\u001b[0m\u001b[0;34m[\u001b[0m\u001b[0;36m0\u001b[0m\u001b[0;34m]\u001b[0m \u001b[0;32mand\u001b[0m \u001b[0mplt\u001b[0m\u001b[0;34m.\u001b[0m\u001b[0mclose\u001b[0m\u001b[0;34m(\u001b[0m\u001b[0mfigure\u001b[0m\u001b[0;34m[\u001b[0m\u001b[0;36m0\u001b[0m\u001b[0;34m]\u001b[0m\u001b[0;34m)\u001b[0m\u001b[0;34m\u001b[0m\u001b[0;34m\u001b[0m\u001b[0m\n\u001b[0;32m--> 728\u001b[0;31m             \u001b[0;32mraise\u001b[0m \u001b[0merr\u001b[0m\u001b[0;34m\u001b[0m\u001b[0;34m\u001b[0m\u001b[0m\n\u001b[0m\u001b[1;32m    729\u001b[0m         \u001b[0;32melse\u001b[0m\u001b[0;34m:\u001b[0m\u001b[0;34m\u001b[0m\u001b[0;34m\u001b[0m\u001b[0m\n\u001b[1;32m    730\u001b[0m             \u001b[0mfigure\u001b[0m\u001b[0;34m[\u001b[0m\u001b[0;36m0\u001b[0m\u001b[0;34m]\u001b[0m \u001b[0;32mand\u001b[0m \u001b[0mplt\u001b[0m\u001b[0;34m.\u001b[0m\u001b[0mclose\u001b[0m\u001b[0;34m(\u001b[0m\u001b[0mfigure\u001b[0m\u001b[0;34m[\u001b[0m\u001b[0;36m0\u001b[0m\u001b[0;34m]\u001b[0m\u001b[0;34m)\u001b[0m\u001b[0;34m\u001b[0m\u001b[0;34m\u001b[0m\u001b[0m\n",
      "\u001b[0;32m/anaconda3/envs/machine-learning/lib/python3.6/site-packages/plotnine/ggplot.py\u001b[0m in \u001b[0;36msave\u001b[0;34m(self, filename, format, path, width, height, units, dpi, limitsize, verbose, **kwargs)\u001b[0m\n\u001b[1;32m    723\u001b[0m \u001b[0;34m\u001b[0m\u001b[0m\n\u001b[1;32m    724\u001b[0m         \u001b[0;32mtry\u001b[0m\u001b[0;34m:\u001b[0m\u001b[0;34m\u001b[0m\u001b[0;34m\u001b[0m\u001b[0m\n\u001b[0;32m--> 725\u001b[0;31m             \u001b[0m_save\u001b[0m\u001b[0;34m(\u001b[0m\u001b[0;34m)\u001b[0m\u001b[0;34m\u001b[0m\u001b[0;34m\u001b[0m\u001b[0m\n\u001b[0m\u001b[1;32m    726\u001b[0m         \u001b[0;32mexcept\u001b[0m \u001b[0mException\u001b[0m \u001b[0;32mas\u001b[0m \u001b[0merr\u001b[0m\u001b[0;34m:\u001b[0m\u001b[0;34m\u001b[0m\u001b[0;34m\u001b[0m\u001b[0m\n\u001b[1;32m    727\u001b[0m             \u001b[0mfigure\u001b[0m\u001b[0;34m[\u001b[0m\u001b[0;36m0\u001b[0m\u001b[0;34m]\u001b[0m \u001b[0;32mand\u001b[0m \u001b[0mplt\u001b[0m\u001b[0;34m.\u001b[0m\u001b[0mclose\u001b[0m\u001b[0;34m(\u001b[0m\u001b[0mfigure\u001b[0m\u001b[0;34m[\u001b[0m\u001b[0;36m0\u001b[0m\u001b[0;34m]\u001b[0m\u001b[0;34m)\u001b[0m\u001b[0;34m\u001b[0m\u001b[0;34m\u001b[0m\u001b[0m\n",
      "\u001b[0;32m/anaconda3/envs/machine-learning/lib/python3.6/site-packages/plotnine/ggplot.py\u001b[0m in \u001b[0;36m_save\u001b[0;34m()\u001b[0m\n\u001b[1;32m    720\u001b[0m                 \u001b[0mfig_kwargs\u001b[0m\u001b[0;34m[\u001b[0m\u001b[0;34m'frameon'\u001b[0m\u001b[0;34m]\u001b[0m \u001b[0;34m=\u001b[0m \u001b[0;32mTrue\u001b[0m\u001b[0;34m\u001b[0m\u001b[0;34m\u001b[0m\u001b[0m\n\u001b[1;32m    721\u001b[0m \u001b[0;34m\u001b[0m\u001b[0m\n\u001b[0;32m--> 722\u001b[0;31m             \u001b[0mfig\u001b[0m\u001b[0;34m.\u001b[0m\u001b[0msavefig\u001b[0m\u001b[0;34m(\u001b[0m\u001b[0mfilename\u001b[0m\u001b[0;34m,\u001b[0m \u001b[0;34m**\u001b[0m\u001b[0mfig_kwargs\u001b[0m\u001b[0;34m)\u001b[0m\u001b[0;34m\u001b[0m\u001b[0;34m\u001b[0m\u001b[0m\n\u001b[0m\u001b[1;32m    723\u001b[0m \u001b[0;34m\u001b[0m\u001b[0m\n\u001b[1;32m    724\u001b[0m         \u001b[0;32mtry\u001b[0m\u001b[0;34m:\u001b[0m\u001b[0;34m\u001b[0m\u001b[0;34m\u001b[0m\u001b[0m\n",
      "\u001b[0;32m/anaconda3/envs/machine-learning/lib/python3.6/site-packages/matplotlib/figure.py\u001b[0m in \u001b[0;36msavefig\u001b[0;34m(self, fname, frameon, transparent, **kwargs)\u001b[0m\n\u001b[1;32m   2092\u001b[0m             \u001b[0mself\u001b[0m\u001b[0;34m.\u001b[0m\u001b[0mset_frameon\u001b[0m\u001b[0;34m(\u001b[0m\u001b[0mframeon\u001b[0m\u001b[0;34m)\u001b[0m\u001b[0;34m\u001b[0m\u001b[0;34m\u001b[0m\u001b[0m\n\u001b[1;32m   2093\u001b[0m \u001b[0;34m\u001b[0m\u001b[0m\n\u001b[0;32m-> 2094\u001b[0;31m         \u001b[0mself\u001b[0m\u001b[0;34m.\u001b[0m\u001b[0mcanvas\u001b[0m\u001b[0;34m.\u001b[0m\u001b[0mprint_figure\u001b[0m\u001b[0;34m(\u001b[0m\u001b[0mfname\u001b[0m\u001b[0;34m,\u001b[0m \u001b[0;34m**\u001b[0m\u001b[0mkwargs\u001b[0m\u001b[0;34m)\u001b[0m\u001b[0;34m\u001b[0m\u001b[0;34m\u001b[0m\u001b[0m\n\u001b[0m\u001b[1;32m   2095\u001b[0m \u001b[0;34m\u001b[0m\u001b[0m\n\u001b[1;32m   2096\u001b[0m         \u001b[0;32mif\u001b[0m \u001b[0mframeon\u001b[0m\u001b[0;34m:\u001b[0m\u001b[0;34m\u001b[0m\u001b[0;34m\u001b[0m\u001b[0m\n",
      "\u001b[0;32m/anaconda3/envs/machine-learning/lib/python3.6/site-packages/matplotlib/backend_bases.py\u001b[0m in \u001b[0;36mprint_figure\u001b[0;34m(self, filename, dpi, facecolor, edgecolor, orientation, format, bbox_inches, **kwargs)\u001b[0m\n\u001b[1;32m   2073\u001b[0m                     \u001b[0morientation\u001b[0m\u001b[0;34m=\u001b[0m\u001b[0morientation\u001b[0m\u001b[0;34m,\u001b[0m\u001b[0;34m\u001b[0m\u001b[0;34m\u001b[0m\u001b[0m\n\u001b[1;32m   2074\u001b[0m                     \u001b[0mbbox_inches_restore\u001b[0m\u001b[0;34m=\u001b[0m\u001b[0m_bbox_inches_restore\u001b[0m\u001b[0;34m,\u001b[0m\u001b[0;34m\u001b[0m\u001b[0;34m\u001b[0m\u001b[0m\n\u001b[0;32m-> 2075\u001b[0;31m                     **kwargs)\n\u001b[0m\u001b[1;32m   2076\u001b[0m             \u001b[0;32mfinally\u001b[0m\u001b[0;34m:\u001b[0m\u001b[0;34m\u001b[0m\u001b[0;34m\u001b[0m\u001b[0m\n\u001b[1;32m   2077\u001b[0m                 \u001b[0;32mif\u001b[0m \u001b[0mbbox_inches\u001b[0m \u001b[0;32mand\u001b[0m \u001b[0mrestore_bbox\u001b[0m\u001b[0;34m:\u001b[0m\u001b[0;34m\u001b[0m\u001b[0;34m\u001b[0m\u001b[0m\n",
      "\u001b[0;32m/anaconda3/envs/machine-learning/lib/python3.6/site-packages/matplotlib/backends/backend_pdf.py\u001b[0m in \u001b[0;36mprint_pdf\u001b[0;34m(self, filename, dpi, bbox_inches_restore, metadata, **kwargs)\u001b[0m\n\u001b[1;32m   2556\u001b[0m             \u001b[0mfile\u001b[0m \u001b[0;34m=\u001b[0m \u001b[0mfilename\u001b[0m\u001b[0;34m.\u001b[0m\u001b[0m_file\u001b[0m\u001b[0;34m\u001b[0m\u001b[0;34m\u001b[0m\u001b[0m\n\u001b[1;32m   2557\u001b[0m         \u001b[0;32melse\u001b[0m\u001b[0;34m:\u001b[0m\u001b[0;34m\u001b[0m\u001b[0;34m\u001b[0m\u001b[0m\n\u001b[0;32m-> 2558\u001b[0;31m             \u001b[0mfile\u001b[0m \u001b[0;34m=\u001b[0m \u001b[0mPdfFile\u001b[0m\u001b[0;34m(\u001b[0m\u001b[0mfilename\u001b[0m\u001b[0;34m,\u001b[0m \u001b[0mmetadata\u001b[0m\u001b[0;34m=\u001b[0m\u001b[0mmetadata\u001b[0m\u001b[0;34m)\u001b[0m\u001b[0;34m\u001b[0m\u001b[0;34m\u001b[0m\u001b[0m\n\u001b[0m\u001b[1;32m   2559\u001b[0m         \u001b[0;32mtry\u001b[0m\u001b[0;34m:\u001b[0m\u001b[0;34m\u001b[0m\u001b[0;34m\u001b[0m\u001b[0m\n\u001b[1;32m   2560\u001b[0m             \u001b[0mfile\u001b[0m\u001b[0;34m.\u001b[0m\u001b[0mnewPage\u001b[0m\u001b[0;34m(\u001b[0m\u001b[0mwidth\u001b[0m\u001b[0;34m,\u001b[0m \u001b[0mheight\u001b[0m\u001b[0;34m)\u001b[0m\u001b[0;34m\u001b[0m\u001b[0;34m\u001b[0m\u001b[0m\n",
      "\u001b[0;32m/anaconda3/envs/machine-learning/lib/python3.6/site-packages/matplotlib/backends/backend_pdf.py\u001b[0m in \u001b[0;36m__init__\u001b[0;34m(self, filename, metadata)\u001b[0m\n\u001b[1;32m    431\u001b[0m         \u001b[0mself\u001b[0m\u001b[0;34m.\u001b[0m\u001b[0moriginal_file_like\u001b[0m \u001b[0;34m=\u001b[0m \u001b[0;32mNone\u001b[0m\u001b[0;34m\u001b[0m\u001b[0;34m\u001b[0m\u001b[0m\n\u001b[1;32m    432\u001b[0m         \u001b[0mself\u001b[0m\u001b[0;34m.\u001b[0m\u001b[0mtell_base\u001b[0m \u001b[0;34m=\u001b[0m \u001b[0;36m0\u001b[0m\u001b[0;34m\u001b[0m\u001b[0;34m\u001b[0m\u001b[0m\n\u001b[0;32m--> 433\u001b[0;31m         \u001b[0mfh\u001b[0m\u001b[0;34m,\u001b[0m \u001b[0mopened\u001b[0m \u001b[0;34m=\u001b[0m \u001b[0mcbook\u001b[0m\u001b[0;34m.\u001b[0m\u001b[0mto_filehandle\u001b[0m\u001b[0;34m(\u001b[0m\u001b[0mfilename\u001b[0m\u001b[0;34m,\u001b[0m \u001b[0;34m\"wb\"\u001b[0m\u001b[0;34m,\u001b[0m \u001b[0mreturn_opened\u001b[0m\u001b[0;34m=\u001b[0m\u001b[0;32mTrue\u001b[0m\u001b[0;34m)\u001b[0m\u001b[0;34m\u001b[0m\u001b[0;34m\u001b[0m\u001b[0m\n\u001b[0m\u001b[1;32m    434\u001b[0m         \u001b[0;32mif\u001b[0m \u001b[0;32mnot\u001b[0m \u001b[0mopened\u001b[0m\u001b[0;34m:\u001b[0m\u001b[0;34m\u001b[0m\u001b[0;34m\u001b[0m\u001b[0m\n\u001b[1;32m    435\u001b[0m             \u001b[0;32mtry\u001b[0m\u001b[0;34m:\u001b[0m\u001b[0;34m\u001b[0m\u001b[0;34m\u001b[0m\u001b[0m\n",
      "\u001b[0;32m/anaconda3/envs/machine-learning/lib/python3.6/site-packages/matplotlib/cbook/__init__.py\u001b[0m in \u001b[0;36mto_filehandle\u001b[0;34m(fname, flag, return_opened, encoding)\u001b[0m\n\u001b[1;32m    390\u001b[0m             \u001b[0mfh\u001b[0m \u001b[0;34m=\u001b[0m \u001b[0mbz2\u001b[0m\u001b[0;34m.\u001b[0m\u001b[0mBZ2File\u001b[0m\u001b[0;34m(\u001b[0m\u001b[0mfname\u001b[0m\u001b[0;34m,\u001b[0m \u001b[0mflag\u001b[0m\u001b[0;34m)\u001b[0m\u001b[0;34m\u001b[0m\u001b[0;34m\u001b[0m\u001b[0m\n\u001b[1;32m    391\u001b[0m         \u001b[0;32melse\u001b[0m\u001b[0;34m:\u001b[0m\u001b[0;34m\u001b[0m\u001b[0;34m\u001b[0m\u001b[0m\n\u001b[0;32m--> 392\u001b[0;31m             \u001b[0mfh\u001b[0m \u001b[0;34m=\u001b[0m \u001b[0mopen\u001b[0m\u001b[0;34m(\u001b[0m\u001b[0mfname\u001b[0m\u001b[0;34m,\u001b[0m \u001b[0mflag\u001b[0m\u001b[0;34m,\u001b[0m \u001b[0mencoding\u001b[0m\u001b[0;34m=\u001b[0m\u001b[0mencoding\u001b[0m\u001b[0;34m)\u001b[0m\u001b[0;34m\u001b[0m\u001b[0;34m\u001b[0m\u001b[0m\n\u001b[0m\u001b[1;32m    393\u001b[0m         \u001b[0mopened\u001b[0m \u001b[0;34m=\u001b[0m \u001b[0;32mTrue\u001b[0m\u001b[0;34m\u001b[0m\u001b[0;34m\u001b[0m\u001b[0m\n\u001b[1;32m    394\u001b[0m     \u001b[0;32melif\u001b[0m \u001b[0mhasattr\u001b[0m\u001b[0;34m(\u001b[0m\u001b[0mfname\u001b[0m\u001b[0;34m,\u001b[0m \u001b[0;34m'seek'\u001b[0m\u001b[0;34m)\u001b[0m\u001b[0;34m:\u001b[0m\u001b[0;34m\u001b[0m\u001b[0;34m\u001b[0m\u001b[0m\n",
      "\u001b[0;31mFileNotFoundError\u001b[0m: [Errno 2] No such file or directory: 'results/uninformed_posterior.pdf'"
     ]
    }
   ],
   "source": [
    "p = ggplot(df)\n",
    "p = p + geom_rect(xmin=0.1, xmax=0.2, ymin=-5, ymax=5.0, \n",
    "                  fill = 'lightgreen', color = 'red', alpha =0.1, linetype='--')\n",
    "p = p + geom_rect(xmin = ci.loc[0, 'p'], xmax = ci.loc[1,'p'], ymin=-0.5, ymax=5.0, \n",
    "                  fill = 'lightsalmon', color = 'red', alpha =0.05, linetype='--')\n",
    "p = p + geom_step(aes(x = 'p1', y = 'value', color = 'function'))\n",
    "p = p + scale_x_continuous(name = '') + scale_y_continuous(name = '')\n",
    "p = p + theme(legend_position=\"bottom\")\n",
    "p = p + scale_color_manual(name = ' ', values = ['red', 'green', 'blue'])\n",
    "p = p + geom_text(x=0.875, y=0.155, label =r'$k=10, n=20$', size=22)\n",
    "display(p)\n",
    "p.save('uninformed_posterior.pdf', path='results', height=6, width=12, verbose=False)"
   ]
  },
  {
   "cell_type": "markdown",
   "metadata": {},
   "source": [
    "## IV.  Informed prior with finite precision\n",
    "\n",
    "In principle, the bias term in coinflipping can have any value from the range $[0,1]$.\n",
    "However, values with inifinite precision are not practical and introduce integrals to posterior computations. \n",
    "As the coin bias must be in the range $[0.1, 0.2]$, we make a simplified assumption that the parameter $p\\in\\{0.100, 0.101, \\ldots,0.199, 0.200\\}$ and assign a uniform probability:\n",
    "\n",
    "\\begin{align*}\n",
    "\\Pr[p=0.100]=\\ldots = \\Pr[p=0.200]\n",
    "\\end{align*}\n",
    "\n",
    "Then we can compute the normalising term\n",
    "\n",
    "\\begin{align*}\n",
    "\\Pr[k]=\\frac{1}{101}\\cdot\\sum_{p=0.100}^{0.200}\\binom{n}{k} p^k(1-p)^{n-k}\n",
    "=\\frac{1}{101}\\cdot\\binom{n}{k}\\cdot\\sum_{p=0.100}^{0.200} p^k(1-p)^{n-k}\n",
    "\\end{align*}\n",
    "\n",
    "and substitute it into the posterior formula. After removal of reoccuring constants in the denominator and numerator we get\n",
    "\n",
    "\\begin{align*}\n",
    "\\Pr[p|k]=\\frac{p^k(1-p)^{n-k}}{\\sum_{p=0.100}^{0.200} p^k(1-p)^{n-k}}\\quad\\text{for } p\\in[0.1,0.2]\\enspace.\n",
    "\\end{align*}\n",
    "\n",
    "\n"
   ]
  },
  {
   "cell_type": "code",
   "execution_count": 11,
   "metadata": {},
   "outputs": [],
   "source": [
    "def informed_belief_update(k: int, n: int, m: int=1000) -> DataFrame:\n",
    "    \"\"\"\n",
    "    Returns the dataframe containing prior and posterior beliefs for coin bias\n",
    "    \n",
    "    k - the number of heads\n",
    "    n - the number of throws\n",
    "    m - the number of parmeter values on the range [0.1,0.2] \n",
    "    \"\"\"\n",
    "    \n",
    "    return (DataFrame({'p': np.linspace(0.1, 0.2, num = m + 1, endpoint=True)})\n",
    "            .assign(prior = lambda df: 1/len(df))\n",
    "            .assign(likelihood = lambda df: stats.binom.pmf(k=k, n=n, p=df['p']))\n",
    "            .assign(posterior = lambda df: df['likelihood']/df['likelihood'].sum()))"
   ]
  },
  {
   "cell_type": "code",
   "execution_count": 12,
   "metadata": {},
   "outputs": [
    {
     "data": {
      "text/html": [
       "<div>\n",
       "<style scoped>\n",
       "    .dataframe tbody tr th:only-of-type {\n",
       "        vertical-align: middle;\n",
       "    }\n",
       "\n",
       "    .dataframe tbody tr th {\n",
       "        vertical-align: top;\n",
       "    }\n",
       "\n",
       "    .dataframe thead th {\n",
       "        text-align: right;\n",
       "    }\n",
       "</style>\n",
       "<table border=\"1\" class=\"dataframe\">\n",
       "  <thead>\n",
       "    <tr style=\"text-align: right;\">\n",
       "      <th></th>\n",
       "      <th>p</th>\n",
       "      <th>prior</th>\n",
       "      <th>likelihood</th>\n",
       "      <th>posterior</th>\n",
       "    </tr>\n",
       "  </thead>\n",
       "  <tbody>\n",
       "    <tr>\n",
       "      <th>0</th>\n",
       "      <td>0.10</td>\n",
       "      <td>0.090909</td>\n",
       "      <td>0.000006</td>\n",
       "      <td>0.001132</td>\n",
       "    </tr>\n",
       "    <tr>\n",
       "      <th>1</th>\n",
       "      <td>0.11</td>\n",
       "      <td>0.090909</td>\n",
       "      <td>0.000015</td>\n",
       "      <td>0.002625</td>\n",
       "    </tr>\n",
       "    <tr>\n",
       "      <th>2</th>\n",
       "      <td>0.12</td>\n",
       "      <td>0.090909</td>\n",
       "      <td>0.000032</td>\n",
       "      <td>0.005596</td>\n",
       "    </tr>\n",
       "    <tr>\n",
       "      <th>3</th>\n",
       "      <td>0.13</td>\n",
       "      <td>0.090909</td>\n",
       "      <td>0.000063</td>\n",
       "      <td>0.011114</td>\n",
       "    </tr>\n",
       "    <tr>\n",
       "      <th>4</th>\n",
       "      <td>0.14</td>\n",
       "      <td>0.090909</td>\n",
       "      <td>0.000118</td>\n",
       "      <td>0.020774</td>\n",
       "    </tr>\n",
       "    <tr>\n",
       "      <th>5</th>\n",
       "      <td>0.15</td>\n",
       "      <td>0.090909</td>\n",
       "      <td>0.000210</td>\n",
       "      <td>0.036843</td>\n",
       "    </tr>\n",
       "    <tr>\n",
       "      <th>6</th>\n",
       "      <td>0.16</td>\n",
       "      <td>0.090909</td>\n",
       "      <td>0.000355</td>\n",
       "      <td>0.062409</td>\n",
       "    </tr>\n",
       "    <tr>\n",
       "      <th>7</th>\n",
       "      <td>0.17</td>\n",
       "      <td>0.090909</td>\n",
       "      <td>0.000578</td>\n",
       "      <td>0.101514</td>\n",
       "    </tr>\n",
       "    <tr>\n",
       "      <th>8</th>\n",
       "      <td>0.18</td>\n",
       "      <td>0.090909</td>\n",
       "      <td>0.000907</td>\n",
       "      <td>0.159265</td>\n",
       "    </tr>\n",
       "    <tr>\n",
       "      <th>9</th>\n",
       "      <td>0.19</td>\n",
       "      <td>0.090909</td>\n",
       "      <td>0.001377</td>\n",
       "      <td>0.241903</td>\n",
       "    </tr>\n",
       "    <tr>\n",
       "      <th>10</th>\n",
       "      <td>0.20</td>\n",
       "      <td>0.090909</td>\n",
       "      <td>0.002031</td>\n",
       "      <td>0.356825</td>\n",
       "    </tr>\n",
       "  </tbody>\n",
       "</table>\n",
       "</div>"
      ],
      "text/plain": [
       "       p     prior  likelihood  posterior\n",
       "0   0.10  0.090909    0.000006   0.001132\n",
       "1   0.11  0.090909    0.000015   0.002625\n",
       "2   0.12  0.090909    0.000032   0.005596\n",
       "3   0.13  0.090909    0.000063   0.011114\n",
       "4   0.14  0.090909    0.000118   0.020774\n",
       "5   0.15  0.090909    0.000210   0.036843\n",
       "6   0.16  0.090909    0.000355   0.062409\n",
       "7   0.17  0.090909    0.000578   0.101514\n",
       "8   0.18  0.090909    0.000907   0.159265\n",
       "9   0.19  0.090909    0.001377   0.241903\n",
       "10  0.20  0.090909    0.002031   0.356825"
      ]
     },
     "metadata": {},
     "output_type": "display_data"
    }
   ],
   "source": [
    "display(informed_belief_update(10, 20, 10))"
   ]
  },
  {
   "cell_type": "markdown",
   "metadata": {},
   "source": [
    "### Visualisation"
   ]
  },
  {
   "cell_type": "code",
   "execution_count": 13,
   "metadata": {},
   "outputs": [],
   "source": [
    "m = 100\n",
    "\n",
    "# Compute posterior and posterior intervals\n",
    "df = informed_belief_update(10, 20, m)\n",
    "ci = credibility_interval(df)\n",
    "\n",
    "# Reshape the data to get color labels.\n",
    "# Shift the data to center the steps with parameter values   \n",
    "df = (DataFrame(df.set_index('p').stack(),columns = ['value'])\n",
    "      .reset_index()\n",
    "      .rename(columns={'level_1': 'function'})\n",
    "      .assign(p1 = lambda df: df['p']-0.05/m))"
   ]
  },
  {
   "cell_type": "code",
   "execution_count": 14,
   "metadata": {},
   "outputs": [
    {
     "data": {
      "image/png": "[encoded data removed]",
      "text/plain": [
       "<Figure size 640x480 with 1 Axes>"
      ]
     },
     "metadata": {},
     "output_type": "display_data"
    },
    {
     "data": {
      "text/plain": [
       "<ggplot: (7542216968)>"
      ]
     },
     "metadata": {},
     "output_type": "display_data"
    }
   ],
   "source": [
    "p = ggplot(df)\n",
    "p = p + geom_rect(xmin=0.1, xmax=0.2, ymin=-5, ymax=5.0, \n",
    "                  fill = 'lightgreen', color = 'red', alpha =0.1, linetype='--')\n",
    "p = p + geom_rect(xmin = ci.loc[0, 'p'], xmax = ci.loc[1,'p'], ymin=-0.5, ymax=5.0, \n",
    "                  fill = 'lightsalmon', color = 'red', alpha =0.05, linetype='--')\n",
    "p = p + geom_step(aes(x = 'p1', y = 'value', color = 'function'))\n",
    "p = p + scale_x_continuous(name = '', limits=(0,0.3)) + scale_y_continuous(name = '')\n",
    "p = p + theme(legend_position=\"bottom\")\n",
    "p = p + scale_color_manual(name = ' ', values = ['red', 'green', 'blue'])\n",
    "p = p + geom_text(x=0.25, y=0.042, label =r'$k=10, n=20$', size=22)\n",
    "display(p)\n",
    "p.save('informed_posterior.pdf', path='results', height=6, width=12, verbose=False)"
   ]
  },
  {
   "cell_type": "markdown",
   "metadata": {},
   "source": [
    "# Homework"
   ]
  },
  {
   "cell_type": "markdown",
   "metadata": {},
   "source": [
    "## 6.1 Paradox of confidence intervals* (<font color='red'>1p</font>) \n",
    "\n",
    "The figure that shows mismatch between confidence intervals and the known region of parameter value gives a paradoxical impression that for most observations the confidence interval is way off from the region of plausible parameter values. This plot does not show how rare or frequent possible outcomes are. Augment the figure with a horisontal barplot that shows the probability of $k$ values for the true parameter value $p=0.15$. Color bars where the confidence interval contains $0.015$ blue and the remaining ones red. Intepret the results.\n",
    "\n",
    "**Hint:** `plotnine` is not designed to draw such graphs but you can cheat. Create probability data in one dataframe and confidence interval data in another dataframe. Then add extra column `facet` and set it to `frequency` for the probability data and `confidence intervals` for the interval data and concatenate dataframes. Now draw both visualisations and facet according to `facet` attribute. As a result, graphs occur only desired facets.  "
   ]
  },
  {
   "cell_type": "code",
   "execution_count": null,
   "metadata": {},
   "outputs": [],
   "source": []
  },
  {
   "cell_type": "markdown",
   "metadata": {},
   "source": [
    "## 6.2 Beta distribution as a limit* (<font color='red'>1p</font>)\n",
    "\n",
    "All figures above are drawn using finite grid for defining uninformative prior distribution. Show visually that corresponding posterior distributions converge to a single continuous beta distribution. \n",
    "For that look at three settings $k\\in\\{5, 10, 15\\}$ for $n=20$ and consider priors with grid step $\\Delta p\\in\\{0.1, 0.01, 0.001, 0.0001\\}$. Draw the corresponding density plots together with an appropriate beta distribution.\n",
    "It is quite likely that results no not match in the first try. Explain what did you forget in the first time. "
   ]
  },
  {
   "cell_type": "code",
   "execution_count": 15,
   "metadata": {},
   "outputs": [],
   "source": [
    "%config IPCompleter.greedy=True"
   ]
  }
 ],
 "metadata": {
  "kernelspec": {
   "display_name": "Python 3",
   "language": "python",
   "name": "python3"
  },
  "language_info": {
   "codemirror_mode": {
    "name": "ipython",
    "version": 3
   },
   "file_extension": ".py",
   "mimetype": "text/x-python",
   "name": "python",
   "nbconvert_exporter": "python",
   "pygments_lexer": "ipython3",
   "version": "3.6.8"
  }
 },
 "nbformat": 4,
 "nbformat_minor": 2
}
