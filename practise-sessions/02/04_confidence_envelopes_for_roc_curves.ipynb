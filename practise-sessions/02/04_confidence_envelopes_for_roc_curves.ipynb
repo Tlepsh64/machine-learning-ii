{
 "cells": [
  {
   "cell_type": "markdown",
   "metadata": {},
   "source": [
    "# Confidence envelopes for ROC curves\n",
    "\n",
    "A ROC curve $\\mathrm{Roc}:[0,1]\\to[0,1]$ packs a lot of information about classifer. \n",
    "In particular, it allows you to choose good tradeoff points between recall and precision or compare the performance of different classifiers.\n",
    "Note that the we cannot compute the true ROC curve, as it is determined by the exact data distributions of positive and negative classes.\n",
    "Instead, we can only compute the approximation on a test set and thus the graph is bound to fluctuate.\n",
    "By computing the confidence envelopes we could characterise the uncertainty."
   ]
  },
  {
   "cell_type": "code",
   "execution_count": 1,
   "metadata": {},
   "outputs": [],
   "source": [
    "import numpy as np\n",
    "import pandas as pd\n",
    "import scipy.stats as stats\n",
    "import numpy.random as rnd\n",
    "\n",
    "from pandas import Series\n",
    "from pandas import DataFrame\n",
    "\n",
    "from tqdm import tnrange\n",
    "from plotnine import *\n",
    "\n",
    "# Local imports\n",
    "from common import *\n",
    "from convenience import *"
   ]
  },
  {
   "cell_type": "markdown",
   "metadata": {},
   "source": [
    "## I. Theoretical model behind ROC curve\n",
    "\n",
    "First note that the ideal ROC curve is given by the following parametric equation\n",
    "\n",
    "\\begin{align*}\n",
    "\\begin{cases}\n",
    "\\alpha(\\tau) = \\Pr[\\boldsymbol{x}\\gets\\mathcal{D}_{-}: f(\\boldsymbol{x})\\geq \\tau]\\\\\n",
    "\\beta(\\tau) = \\Pr[\\boldsymbol{x}\\gets\\mathcal{D}_{+}: f(\\boldsymbol{x})\\geq \\tau]\n",
    "\\end{cases}\n",
    "\\end{align*}\n",
    "\n",
    "where \n",
    "* $\\mathcal{D}_{+}$ and $\\mathcal{D}_{-}$ are data distributions of positive and negative cases, \n",
    "* $f(\\boldsymbol{x})$ is the descision value assigned to data point $\\boldsymbol{x}$,\n",
    "* $\\tau$ is the threshold above which all decision values are declared as positive. \n",
    "\n",
    "From this definition it is easy to see that $\\alpha(\\tau)$ is the ratio of false positives and $\\beta(\\tau)$ is the ratio of false negatives in a setting where the number of test samples is infinite. \n",
    "\n",
    "In practice we observe $N$ negative samples and $P$ positive samples in the test set. If all test samples are taken as iid samples then  \n",
    "* all negative samples are iid samples from $\\mathcal{D}_{-}$\n",
    "* all positive samples are iid samples from $\\mathcal{D}_{+}$\n",
    "\n",
    "Thus the number of false positives $\\mathrm{FP}$ and true positives $\\mathrm{TP}$ are distributed according to binimial distribution: \n",
    "\n",
    "\\begin{align*}\n",
    "\\mathrm{FP}&\\sim\\mathrm{Bin}(n=N, p=\\alpha(\\tau))\\\\\n",
    "\\mathrm{TP}&\\sim\\mathrm{Bin}(n=P, p=\\beta(\\tau))\n",
    "\\end{align*}\n",
    "\n",
    "From this it is straightforward to assign a probability to the pair $(\\mathrm{FP},\\mathrm{TP})$, as the number of true positives and false positives are independent if the number of negative and number of positive cases is fixed.\n"
   ]
  },
  {
   "cell_type": "markdown",
   "metadata": {},
   "source": [
    "## II. How to define a statistical test for the pair of ratios\n",
    "\n",
    "In order to get further we must define a single test statistic for which we can compute the probability.\n",
    "This is hard question as the answer to this question will determine how narrow will be the final confidence envelope for the ROC curve. There are three natural ways ways to define the test\n",
    "\n",
    "### The acceptance region will be a square box\n",
    "\n",
    "Given parameters $N$, $P$, $\\alpha$, $\\beta$, we can easily compute the probability assigned to square box centered around expected values of $FP$ and $TP$:  \n",
    "\n",
    "\\begin{align*}\n",
    "f(\\Delta_1,\\Delta_2)= \\Pr[|FP-N\\alpha|\\leq \\Delta_1\\wedge |TP-P\\beta|\\leq \\Delta_2]\n",
    "\\end{align*}\n",
    "\n",
    "and minimise $\\Delta_1$ and $\\Delta_2$ so that $f(\\Delta_1,\\Delta_2)\\geq 1-\\rho$ where $\\rho$ is the desired significance level. This will give us a statistical test\n",
    "\n",
    "\n",
    "### The acceptance region will cells with maximal probability\n",
    "\n",
    "As we can compute probability for any $(FP, TP)$ pair we can order them and reject the tail with weight $\\rho$. This will be a sligtly more powerful test, as we accept the regioon of highest probability mass, i.e., points that are typical to the distribution.\n",
    "\n",
    "\n",
    "### Acceptance region will be ellips determined by normal approximation\n",
    "\n",
    "Note that for moderately large values of $N$ and $P$ the binomial distribution converges to normal distribution. \n",
    "As $FP$ and $NP$ are independent we can approximate $(FP,TP)$ by a normal distribution where only diagonals contain nonzero entries. By proper scaling we can make sure that $(\\gamma_1\\cdot FP,\\gamma_2\\cdot TP)$ can be approximated with white gaussian noise $\\mathcal{N}(0, I)$. For that distribution, the best test statistic is distance square\n",
    "$\\gamma_1^2\\cdot FP^2 +\\gamma_2^2\\cdot TP^2$ that is distributed according to $\\chi$-distribution with two degrees of freedom. This gives a rise to another test.\n",
    "\n",
    "\n",
    "\n",
    "\n"
   ]
  },
  {
   "cell_type": "markdown",
   "metadata": {},
   "source": [
    "# Homework"
   ]
  },
  {
   "cell_type": "markdown",
   "metadata": {},
   "source": [
    "## 4.1 Compare tests for the pair of ratios* (<font color='red'>3p</font>)  \n",
    "\n",
    "Implement all of three tests and compare their acceptance regions for the case $N=P$ and $N\\in\\{10, 50, 100, 1000\\}$.\n",
    "Compare the power of these tests by considering hypotheses $(\\alpha,\\beta)$ and $(\\alpha+\\delta, \\beta+\\delta)$\n",
    "* for some reasonable $\\delta$ value in the range $[0, 0.1]$\n",
    "* for some reasonable $\\alpha, \\beta$ values in the box $[0,1]\\times[0,1]$.   \n",
    "\n",
    "Can you decide which test is the best to use in computing confidence intervals, as there we are going to compare hypotheses $(\\alpha,\\beta)$ and $(\\alpha+\\delta_1, \\beta+\\delta_2)$?\n"
   ]
  },
  {
   "cell_type": "code",
   "execution_count": null,
   "metadata": {},
   "outputs": [],
   "source": []
  },
  {
   "cell_type": "markdown",
   "metadata": {},
   "source": [
    "## 4.1 Build  confidence envelope for the ROC curve* (<font color='red'>3p</font>)  \n",
    "\n",
    "Use the naive grid testing apprach to build confidence envelope:\n",
    "* For each $(FP,TP)$ pair in the empirical ROC curve compute acceptance region for $(\\alpha_i,\\beta_i)$\n",
    "* Merge all acceptance regions and compute convex hull around it \n",
    "* Declare the result as confidence envelope.\n",
    "\n",
    "Test whether the construction gives indeed a pointwise confidence envelope. For each  $(FP,TP)$ pair the corresponding estimate $FP/N,TP/P$ is guaranteed to be in the envelope with confidence at least $1-\\rho$ by construction but if individual regions overlap the confidence can be much larger. \n"
   ]
  },
  {
   "cell_type": "code",
   "execution_count": null,
   "metadata": {},
   "outputs": [],
   "source": [
    "%config IPCompleter.greedy=True"
   ]
  }
 ],
 "metadata": {
  "kernelspec": {
   "display_name": "Python 3",
   "language": "python",
   "name": "python3"
  },
  "language_info": {
   "codemirror_mode": {
    "name": "ipython",
    "version": 3
   },
   "file_extension": ".py",
   "mimetype": "text/x-python",
   "name": "python",
   "nbconvert_exporter": "python",
   "pygments_lexer": "ipython3",
   "version": "3.6.8"
  }
 },
 "nbformat": 4,
 "nbformat_minor": 2
}
