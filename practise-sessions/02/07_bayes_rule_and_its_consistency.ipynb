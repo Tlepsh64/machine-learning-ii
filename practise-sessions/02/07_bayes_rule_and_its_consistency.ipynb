{
 "cells": [
  {
   "cell_type": "markdown",
   "metadata": {},
   "source": [
    "# Bayes rule and internal consistency\n",
    "\n",
    "Bayesianist interpret probabilities as subjective opinions that depend on the background knowledge. As such the question whether statistical inference produces results that are consistent with other theories is ill-posed -- if a person does not belive base results of a theory his or her posterior does not have match the predictions of the theory.\n",
    "\n",
    "However, the inference must still adhere internal consistence. That is, we should always get the same results, if we rephrase the problem in different but equivalent ways. Next examples about coinflipping show that the Bayes theorem satisfies restriction. "
   ]
  },
  {
   "cell_type": "code",
   "execution_count": 11,
   "metadata": {},
   "outputs": [],
   "source": [
    "import numpy as np\n",
    "import pandas as pd\n",
    "import scipy.stats as stats\n",
    "import numpy.random as rnd\n",
    "\n",
    "from pandas import Series\n",
    "from pandas import DataFrame\n",
    "from typing import List\n",
    "\n",
    "from tqdm import tnrange\n",
    "from plotnine import *\n",
    "\n",
    "# Local imports\n",
    "from common import *\n",
    "from convenience import *"
   ]
  },
  {
   "cell_type": "markdown",
   "metadata": {},
   "source": [
    "# Homework"
   ]
  },
  {
   "cell_type": "markdown",
   "metadata": {},
   "source": [
    "## 7.1  Belief update for a single and multiple observations (<font color='red'>1p</font>)\n",
    "\n",
    "Let us consider a coin with bias $\\alpha$, i.e., $\\Pr[B_i =1|\\alpha]=\\alpha$ and $\\Pr[B_i = 0|\\alpha]=1-\\alpha$.\n",
    "Describe how the initial beliefs must change if we observe single coinflip $B_1$ or several coinflips $B_1,\\ldots,B_n$. Define two belief unpdate functions `update_beliefs_1` and `update_beliefs_2` that implement these rules.    "
   ]
  },
  {
   "cell_type": "code",
   "execution_count": 8,
   "metadata": {},
   "outputs": [
    {
     "data": {
      "text/html": [
       "<div>\n",
       "<style scoped>\n",
       "    .dataframe tbody tr th:only-of-type {\n",
       "        vertical-align: middle;\n",
       "    }\n",
       "\n",
       "    .dataframe tbody tr th {\n",
       "        vertical-align: top;\n",
       "    }\n",
       "\n",
       "    .dataframe thead th {\n",
       "        text-align: right;\n",
       "    }\n",
       "</style>\n",
       "<table border=\"1\" class=\"dataframe\">\n",
       "  <thead>\n",
       "    <tr style=\"text-align: right;\">\n",
       "      <th></th>\n",
       "      <th>alpha</th>\n",
       "      <th>pr</th>\n",
       "    </tr>\n",
       "  </thead>\n",
       "  <tbody>\n",
       "    <tr>\n",
       "      <th>0</th>\n",
       "      <td>0.0</td>\n",
       "      <td>0.090909</td>\n",
       "    </tr>\n",
       "    <tr>\n",
       "      <th>1</th>\n",
       "      <td>0.1</td>\n",
       "      <td>0.090909</td>\n",
       "    </tr>\n",
       "    <tr>\n",
       "      <th>2</th>\n",
       "      <td>0.2</td>\n",
       "      <td>0.090909</td>\n",
       "    </tr>\n",
       "    <tr>\n",
       "      <th>3</th>\n",
       "      <td>0.3</td>\n",
       "      <td>0.090909</td>\n",
       "    </tr>\n",
       "    <tr>\n",
       "      <th>4</th>\n",
       "      <td>0.4</td>\n",
       "      <td>0.090909</td>\n",
       "    </tr>\n",
       "    <tr>\n",
       "      <th>5</th>\n",
       "      <td>0.5</td>\n",
       "      <td>0.090909</td>\n",
       "    </tr>\n",
       "    <tr>\n",
       "      <th>6</th>\n",
       "      <td>0.6</td>\n",
       "      <td>0.090909</td>\n",
       "    </tr>\n",
       "    <tr>\n",
       "      <th>7</th>\n",
       "      <td>0.7</td>\n",
       "      <td>0.090909</td>\n",
       "    </tr>\n",
       "    <tr>\n",
       "      <th>8</th>\n",
       "      <td>0.8</td>\n",
       "      <td>0.090909</td>\n",
       "    </tr>\n",
       "    <tr>\n",
       "      <th>9</th>\n",
       "      <td>0.9</td>\n",
       "      <td>0.090909</td>\n",
       "    </tr>\n",
       "    <tr>\n",
       "      <th>10</th>\n",
       "      <td>1.0</td>\n",
       "      <td>0.090909</td>\n",
       "    </tr>\n",
       "  </tbody>\n",
       "</table>\n",
       "</div>"
      ],
      "text/plain": [
       "    alpha        pr\n",
       "0     0.0  0.090909\n",
       "1     0.1  0.090909\n",
       "2     0.2  0.090909\n",
       "3     0.3  0.090909\n",
       "4     0.4  0.090909\n",
       "5     0.5  0.090909\n",
       "6     0.6  0.090909\n",
       "7     0.7  0.090909\n",
       "8     0.8  0.090909\n",
       "9     0.9  0.090909\n",
       "10    1.0  0.090909"
      ]
     },
     "execution_count": 8,
     "metadata": {},
     "output_type": "execute_result"
    }
   ],
   "source": [
    "prior = (DataFrame({'alpha': np.linspace(0, 1, num = 11, endpoint=True)}).\n",
    "      assign(pr = 1/11))\n",
    "prior"
   ]
  },
  {
   "cell_type": "code",
   "execution_count": 14,
   "metadata": {},
   "outputs": [],
   "source": [
    "def update_beliefs_1(prior: DataFrame, b: bool) -> DataFrame:\n",
    "    pass"
   ]
  },
  {
   "cell_type": "code",
   "execution_count": 15,
   "metadata": {},
   "outputs": [],
   "source": [
    "def update_beliefs_2(prior: DataFrame, B: List[bool]) -> DataFrame:\n",
    "    pass"
   ]
  },
  {
   "cell_type": "markdown",
   "metadata": {},
   "source": [
    "## 7.2 Internal consistency of belief update rules (<font color='red'>1p</font>)\n",
    "\n",
    "Given a set of observations $B_1,\\ldots,B_n$, we can update our beliefs by observing single $B_i$ at a time or update our beliefs by considering all observations at once. The first corresponds to iterative application of `update_beliefs_1` and the second a single update with `update_beliefs_2`. Show eperimentally that both strategies give the same result by testing this on 10 different observation vectors of length 15 and on two different prior assignments over the grid $\\{0.0, 0.1,\\ldots, 1.0\\}$."
   ]
  },
  {
   "cell_type": "code",
   "execution_count": null,
   "metadata": {},
   "outputs": [],
   "source": []
  },
  {
   "cell_type": "markdown",
   "metadata": {},
   "source": [
    "## 7.3 External consistency for infinite observers (<font color='red'>1p</font>)\n",
    "Although orthodox Bayesianism excludes the question of correctness, we can still experiment whether our posterior distribution converges to true value given enough observations. Let the true value of $\\alpha$ be $0.5$. Consider a uniform prior and sceptical prior $\\Pr[\\alpha=0.0] = 0.455$, $\\Pr[\\alpha=1.0] = 0.455$,\n",
    "$\\Pr[\\alpha=0.1] =\\ldots=\\Pr[\\alpha=0.9]= 0.01$. Draw $1024$ samples and compute posterior distributions after observing $4$, $16$, $64$, $256$, $1024$ samples. Interpret results.\n",
    "\n",
    "**Extra point:** Let the closeness of the posterior with the true answer $\\alpha=0.5$ be measured as $\\delta=1-\\Pr[\\alpha=0.5|B_1,\\ldots,B_{N}]$. Visualise the random nature of convergence to the true value by plotting the $\\delta$ values for $100$ experiments and draw lower $5\\%$ quantiles.   "
   ]
  },
  {
   "cell_type": "code",
   "execution_count": null,
   "metadata": {},
   "outputs": [],
   "source": []
  },
  {
   "cell_type": "markdown",
   "metadata": {},
   "source": [
    "## 7.4 Minimal information needed to infer coin bias* (<font color='red'>1p</font>)\n",
    "\n",
    "The block belief update rule `update_beliefs_2` takes in the vector of observations. Show that this informaation can be reduced to the number of ones $k$ and the number of coin tosses. For that show that the block belief update rule will always lead to the same posterior for all observations of $n$ coin tosses with $k$ ones. Are there any other partial observations with the same property? "
   ]
  },
  {
   "cell_type": "code",
   "execution_count": null,
   "metadata": {},
   "outputs": [],
   "source": []
  },
  {
   "cell_type": "markdown",
   "metadata": {},
   "source": [
    "## 7.5 Laws of probabilities and internal consistency** (<font color='red'>3p</font>)\n",
    "\n",
    "Let us consider the following scheme for betting:\n",
    "* You can buy and sell tickets for all kinds of events. \n",
    "* Let $p[X]$ be the price you are willing to pay for the ticket $X$.   \n",
    "* If the event $X$ occurs and you have the ticket $X$ you get $1$ euro.\n",
    "* You can by the ticket for `True` with price $1$ euro as you always get $1$ euro for it.\n",
    "\n",
    "You behaviour is rational if \n",
    "* The set of tickets $\\mathcal{A}$ and $\\mathcal{B}$ represent the same event if you get the same amount of money for both sets no matter what occurs.  \n",
    "* You are **rational** if you always pay the same amount of money for the tickets that represent the same event.\n",
    "* You are **irrational** if you accept a set of tickets for the price that is smaller that you can gain for any outcome.\n",
    "\n",
    "Prove that if you are rational then:\n",
    "* Your pricing functions  $p[\\cdot]$ satisfies the laws of probability (**<font color='red'>1p</font>**).\n",
    "* the Bayes theorem must hold. For that you have consider two stage betting (**<font color='red'>2p</font>**). "
   ]
  },
  {
   "cell_type": "code",
   "execution_count": null,
   "metadata": {},
   "outputs": [],
   "source": []
  }
 ],
 "metadata": {
  "kernelspec": {
   "display_name": "Python 3",
   "language": "python",
   "name": "python3"
  },
  "language_info": {
   "codemirror_mode": {
    "name": "ipython",
    "version": 3
   },
   "file_extension": ".py",
   "mimetype": "text/x-python",
   "name": "python",
   "nbconvert_exporter": "python",
   "pygments_lexer": "ipython3",
   "version": "3.6.8"
  }
 },
 "nbformat": 4,
 "nbformat_minor": 2
}
