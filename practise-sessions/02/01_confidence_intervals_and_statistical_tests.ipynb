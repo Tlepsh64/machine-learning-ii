{
 "cells": [
  {
   "cell_type": "markdown",
   "metadata": {},
   "source": [
    "# Confidence intervals and statistical tests\n",
    "\n",
    "Hypothesis testing and confidence intervals are the most basic but also the most powerful concepts of classical statistics. \n",
    "In the following we show how these concepts are intelinked and how one should interpret results."
   ]
  },
  {
   "cell_type": "code",
   "execution_count": 1,
   "metadata": {},
   "outputs": [],
   "source": [
    "import numpy as np\n",
    "import pandas as pd\n",
    "import scipy.stats as stats\n",
    "\n",
    "from pandas import Series\n",
    "from pandas import DataFrame\n",
    "from typing import Tuple\n",
    "\n",
    "from tqdm import tnrange#, tqdm_notebook\n",
    "from plotnine import *\n",
    "\n",
    "# Local imports\n",
    "from common import *\n",
    "from convenience import *"
   ]
  },
  {
   "cell_type": "markdown",
   "metadata": {},
   "source": [
    "## I. The number of heads in a finite sequence of coin flips\n",
    "\n",
    "It is easy to verify that the probability to get exactly $k$ ones in $n$ independent identical trials $B_1,\\ldots,B_n$ is\n",
    "\n",
    "\\begin{align*}\n",
    "\\Pr[B_1+\\ldots+B_n=k]=\\binom{n}{k}p^k(1-p)^{n-k}\n",
    "\\end{align*}\n",
    "\n",
    "where $p$ is the probability to get one in a trial $B_i$. \n",
    "The corresponding distribution is known as binomial distribution and available as `scipy.stats.binom`:\n",
    "\n",
    "* `rvs` is for sampling \n",
    "* `pmf` is for computing probabilities $\\Pr[B_1+\\ldots+B_n=k]$\n",
    "* `cdf` is for computing probabilities $\\Pr[B_1+\\ldots+B_n\\leq k]$\n",
    "* `ppf` is for computing quantiles, i.e., for solving $\\mathrm{argmax}_k\\Pr[B_1+\\ldots+B_n\\leq k]=\\alpha$\n",
    "* `mean`, `var`, `median`, ... for standard statistical parameters "
   ]
  },
  {
   "cell_type": "code",
   "execution_count": 2,
   "metadata": {},
   "outputs": [],
   "source": [
    "from scipy.stats import binom"
   ]
  },
  {
   "cell_type": "markdown",
   "metadata": {},
   "source": [
    "### Visualisation of basic aspects of a binomia distribution"
   ]
  },
  {
   "cell_type": "code",
   "execution_count": 3,
   "metadata": {},
   "outputs": [
    {
     "data": {
      "text/html": [
       "<div>\n",
       "<style scoped>\n",
       "    .dataframe tbody tr th:only-of-type {\n",
       "        vertical-align: middle;\n",
       "    }\n",
       "\n",
       "    .dataframe tbody tr th {\n",
       "        vertical-align: top;\n",
       "    }\n",
       "\n",
       "    .dataframe thead th {\n",
       "        text-align: right;\n",
       "    }\n",
       "</style>\n",
       "<table border=\"1\" class=\"dataframe\">\n",
       "  <thead>\n",
       "    <tr style=\"text-align: right;\">\n",
       "      <th></th>\n",
       "      <th>k</th>\n",
       "      <th>pr</th>\n",
       "      <th>lower_tail</th>\n",
       "      <th>upper_tail</th>\n",
       "      <th>tail</th>\n",
       "    </tr>\n",
       "  </thead>\n",
       "  <tbody>\n",
       "    <tr>\n",
       "      <th>0</th>\n",
       "      <td>0</td>\n",
       "      <td>9.536743e-07</td>\n",
       "      <td>True</td>\n",
       "      <td>False</td>\n",
       "      <td>True</td>\n",
       "    </tr>\n",
       "    <tr>\n",
       "      <th>1</th>\n",
       "      <td>1</td>\n",
       "      <td>1.907349e-05</td>\n",
       "      <td>True</td>\n",
       "      <td>False</td>\n",
       "      <td>True</td>\n",
       "    </tr>\n",
       "    <tr>\n",
       "      <th>2</th>\n",
       "      <td>2</td>\n",
       "      <td>1.811981e-04</td>\n",
       "      <td>True</td>\n",
       "      <td>False</td>\n",
       "      <td>True</td>\n",
       "    </tr>\n",
       "    <tr>\n",
       "      <th>3</th>\n",
       "      <td>3</td>\n",
       "      <td>1.087189e-03</td>\n",
       "      <td>True</td>\n",
       "      <td>False</td>\n",
       "      <td>True</td>\n",
       "    </tr>\n",
       "    <tr>\n",
       "      <th>4</th>\n",
       "      <td>4</td>\n",
       "      <td>4.620552e-03</td>\n",
       "      <td>True</td>\n",
       "      <td>False</td>\n",
       "      <td>True</td>\n",
       "    </tr>\n",
       "    <tr>\n",
       "      <th>5</th>\n",
       "      <td>5</td>\n",
       "      <td>1.478577e-02</td>\n",
       "      <td>True</td>\n",
       "      <td>False</td>\n",
       "      <td>True</td>\n",
       "    </tr>\n",
       "    <tr>\n",
       "      <th>6</th>\n",
       "      <td>6</td>\n",
       "      <td>3.696442e-02</td>\n",
       "      <td>False</td>\n",
       "      <td>False</td>\n",
       "      <td>False</td>\n",
       "    </tr>\n",
       "    <tr>\n",
       "      <th>7</th>\n",
       "      <td>7</td>\n",
       "      <td>7.392883e-02</td>\n",
       "      <td>False</td>\n",
       "      <td>False</td>\n",
       "      <td>False</td>\n",
       "    </tr>\n",
       "    <tr>\n",
       "      <th>8</th>\n",
       "      <td>8</td>\n",
       "      <td>1.201344e-01</td>\n",
       "      <td>False</td>\n",
       "      <td>False</td>\n",
       "      <td>False</td>\n",
       "    </tr>\n",
       "    <tr>\n",
       "      <th>9</th>\n",
       "      <td>9</td>\n",
       "      <td>1.601791e-01</td>\n",
       "      <td>False</td>\n",
       "      <td>False</td>\n",
       "      <td>False</td>\n",
       "    </tr>\n",
       "    <tr>\n",
       "      <th>10</th>\n",
       "      <td>10</td>\n",
       "      <td>1.761971e-01</td>\n",
       "      <td>False</td>\n",
       "      <td>False</td>\n",
       "      <td>False</td>\n",
       "    </tr>\n",
       "    <tr>\n",
       "      <th>11</th>\n",
       "      <td>11</td>\n",
       "      <td>1.601791e-01</td>\n",
       "      <td>False</td>\n",
       "      <td>False</td>\n",
       "      <td>False</td>\n",
       "    </tr>\n",
       "    <tr>\n",
       "      <th>12</th>\n",
       "      <td>12</td>\n",
       "      <td>1.201344e-01</td>\n",
       "      <td>False</td>\n",
       "      <td>False</td>\n",
       "      <td>False</td>\n",
       "    </tr>\n",
       "    <tr>\n",
       "      <th>13</th>\n",
       "      <td>13</td>\n",
       "      <td>7.392883e-02</td>\n",
       "      <td>False</td>\n",
       "      <td>False</td>\n",
       "      <td>False</td>\n",
       "    </tr>\n",
       "    <tr>\n",
       "      <th>14</th>\n",
       "      <td>14</td>\n",
       "      <td>3.696442e-02</td>\n",
       "      <td>False</td>\n",
       "      <td>False</td>\n",
       "      <td>False</td>\n",
       "    </tr>\n",
       "    <tr>\n",
       "      <th>15</th>\n",
       "      <td>15</td>\n",
       "      <td>1.478577e-02</td>\n",
       "      <td>False</td>\n",
       "      <td>True</td>\n",
       "      <td>True</td>\n",
       "    </tr>\n",
       "    <tr>\n",
       "      <th>16</th>\n",
       "      <td>16</td>\n",
       "      <td>4.620552e-03</td>\n",
       "      <td>False</td>\n",
       "      <td>True</td>\n",
       "      <td>True</td>\n",
       "    </tr>\n",
       "    <tr>\n",
       "      <th>17</th>\n",
       "      <td>17</td>\n",
       "      <td>1.087189e-03</td>\n",
       "      <td>False</td>\n",
       "      <td>True</td>\n",
       "      <td>True</td>\n",
       "    </tr>\n",
       "    <tr>\n",
       "      <th>18</th>\n",
       "      <td>18</td>\n",
       "      <td>1.811981e-04</td>\n",
       "      <td>False</td>\n",
       "      <td>True</td>\n",
       "      <td>True</td>\n",
       "    </tr>\n",
       "    <tr>\n",
       "      <th>19</th>\n",
       "      <td>19</td>\n",
       "      <td>1.907349e-05</td>\n",
       "      <td>False</td>\n",
       "      <td>True</td>\n",
       "      <td>True</td>\n",
       "    </tr>\n",
       "  </tbody>\n",
       "</table>\n",
       "</div>"
      ],
      "text/plain": [
       "     k            pr  lower_tail  upper_tail   tail\n",
       "0    0  9.536743e-07        True       False   True\n",
       "1    1  1.907349e-05        True       False   True\n",
       "2    2  1.811981e-04        True       False   True\n",
       "3    3  1.087189e-03        True       False   True\n",
       "4    4  4.620552e-03        True       False   True\n",
       "5    5  1.478577e-02        True       False   True\n",
       "6    6  3.696442e-02       False       False  False\n",
       "7    7  7.392883e-02       False       False  False\n",
       "8    8  1.201344e-01       False       False  False\n",
       "9    9  1.601791e-01       False       False  False\n",
       "10  10  1.761971e-01       False       False  False\n",
       "11  11  1.601791e-01       False       False  False\n",
       "12  12  1.201344e-01       False       False  False\n",
       "13  13  7.392883e-02       False       False  False\n",
       "14  14  3.696442e-02       False       False  False\n",
       "15  15  1.478577e-02       False        True   True\n",
       "16  16  4.620552e-03       False        True   True\n",
       "17  17  1.087189e-03       False        True   True\n",
       "18  18  1.811981e-04       False        True   True\n",
       "19  19  1.907349e-05       False        True   True"
      ]
     },
     "metadata": {},
     "output_type": "display_data"
    }
   ],
   "source": [
    "n = 20\n",
    "k = range(n)\n",
    "\n",
    "# Tabulated binomial distribution with tails containing up to 2.5% of probability mass\n",
    "pmf = (DataFrame({'k':list(k), 'pr': binom.pmf(k, n, p=0.5)})\n",
    "       .assign(lower_tail = (k < binom.ppf(0.025, n, p=0.5)))\n",
    "       .assign(upper_tail = (k > binom.ppf(0.975, n, p=0.5)))\n",
    "       .assign(tail = lambda df: df['lower_tail'] | df['upper_tail']))\n",
    "\n",
    "display(pmf)"
   ]
  },
  {
   "cell_type": "code",
   "execution_count": 4,
   "metadata": {},
   "outputs": [
    {
     "data": {
      "image/png": "[encoded data removed]",
      "text/plain": [
       "<Figure size 640x480 with 1 Axes>"
      ]
     },
     "metadata": {},
     "output_type": "display_data"
    },
    {
     "data": {
      "text/plain": [
       "<ggplot: (-9223372029302094094)>"
      ]
     },
     "metadata": {},
     "output_type": "display_data"
    }
   ],
   "source": [
    "p = ggplot(pmf)\n",
    "p = p + geom_col(aes(x = 'k', y = 'pr', fill='tail'), width = 0.8)\n",
    "p = p + geom_vline(xintercept = binom.ppf(0.025, n=20, p=0.5) - 0.5, linetype ='--', size = 1)\n",
    "p = p + geom_vline(xintercept = binom.ppf(0.975, n=20, p=0.5) + 0.5, linetype ='--', size = 1)\n",
    "p = p + geom_vline(xintercept = binom.ppf(0.500, n=20, p=0.5) + 0.0, linetype ='-',  size = 1)\n",
    "p = p + scale_x_continuous(name = '') + scale_y_continuous(name = '')\n",
    "p = p + scale_fill_manual(guide = False, values = ['red', 'blue'])\n",
    "p.save('binomial_distribution.pdf', path='results', height=6, width=12, verbose=False)\n",
    "display(p)"
   ]
  },
  {
   "cell_type": "markdown",
   "metadata": {},
   "source": [
    "## II. Confidence intervals for the probability\n",
    "\n",
    "The most naive way to find confidence intervals for binomial distribution is following:\n",
    "* Define a statistical test for all possible values of $p\\in[0,1]$ by computing $2.5\\%$ and $97.5\\%$ quantiles\n",
    "* Tabulate for each integer value what tests are passed and extent corresponding parameter set into an interval  \n"
   ]
  },
  {
   "cell_type": "markdown",
   "metadata": {},
   "source": [
    "### Tabulate quantiles for all parameter values"
   ]
  },
  {
   "cell_type": "code",
   "execution_count": 5,
   "metadata": {},
   "outputs": [
    {
     "data": {
      "text/html": [
       "<div>\n",
       "<style scoped>\n",
       "    .dataframe tbody tr th:only-of-type {\n",
       "        vertical-align: middle;\n",
       "    }\n",
       "\n",
       "    .dataframe tbody tr th {\n",
       "        vertical-align: top;\n",
       "    }\n",
       "\n",
       "    .dataframe thead th {\n",
       "        text-align: right;\n",
       "    }\n",
       "</style>\n",
       "<table border=\"1\" class=\"dataframe\">\n",
       "  <thead>\n",
       "    <tr style=\"text-align: right;\">\n",
       "      <th></th>\n",
       "      <th>p</th>\n",
       "      <th>q1</th>\n",
       "      <th>q2</th>\n",
       "    </tr>\n",
       "  </thead>\n",
       "  <tbody>\n",
       "    <tr>\n",
       "      <th>0</th>\n",
       "      <td>0.0</td>\n",
       "      <td>0.0</td>\n",
       "      <td>0.0</td>\n",
       "    </tr>\n",
       "    <tr>\n",
       "      <th>1</th>\n",
       "      <td>0.1</td>\n",
       "      <td>0.0</td>\n",
       "      <td>5.0</td>\n",
       "    </tr>\n",
       "    <tr>\n",
       "      <th>2</th>\n",
       "      <td>0.2</td>\n",
       "      <td>1.0</td>\n",
       "      <td>8.0</td>\n",
       "    </tr>\n",
       "    <tr>\n",
       "      <th>3</th>\n",
       "      <td>0.3</td>\n",
       "      <td>2.0</td>\n",
       "      <td>10.0</td>\n",
       "    </tr>\n",
       "    <tr>\n",
       "      <th>4</th>\n",
       "      <td>0.4</td>\n",
       "      <td>4.0</td>\n",
       "      <td>12.0</td>\n",
       "    </tr>\n",
       "    <tr>\n",
       "      <th>5</th>\n",
       "      <td>0.5</td>\n",
       "      <td>6.0</td>\n",
       "      <td>14.0</td>\n",
       "    </tr>\n",
       "    <tr>\n",
       "      <th>6</th>\n",
       "      <td>0.6</td>\n",
       "      <td>8.0</td>\n",
       "      <td>16.0</td>\n",
       "    </tr>\n",
       "    <tr>\n",
       "      <th>7</th>\n",
       "      <td>0.7</td>\n",
       "      <td>10.0</td>\n",
       "      <td>18.0</td>\n",
       "    </tr>\n",
       "    <tr>\n",
       "      <th>8</th>\n",
       "      <td>0.8</td>\n",
       "      <td>12.0</td>\n",
       "      <td>19.0</td>\n",
       "    </tr>\n",
       "    <tr>\n",
       "      <th>9</th>\n",
       "      <td>0.9</td>\n",
       "      <td>15.0</td>\n",
       "      <td>20.0</td>\n",
       "    </tr>\n",
       "    <tr>\n",
       "      <th>10</th>\n",
       "      <td>1.0</td>\n",
       "      <td>20.0</td>\n",
       "      <td>20.0</td>\n",
       "    </tr>\n",
       "  </tbody>\n",
       "</table>\n",
       "</div>"
      ],
      "text/plain": [
       "      p    q1    q2\n",
       "0   0.0   0.0   0.0\n",
       "1   0.1   0.0   5.0\n",
       "2   0.2   1.0   8.0\n",
       "3   0.3   2.0  10.0\n",
       "4   0.4   4.0  12.0\n",
       "5   0.5   6.0  14.0\n",
       "6   0.6   8.0  16.0\n",
       "7   0.7  10.0  18.0\n",
       "8   0.8  12.0  19.0\n",
       "9   0.9  15.0  20.0\n",
       "10  1.0  20.0  20.0"
      ]
     },
     "metadata": {},
     "output_type": "display_data"
    }
   ],
   "source": [
    "n = 20\n",
    "tdf = DataFrame(index = range(11)).assign(p = lambda df: df.index.values/(len(df)-1))\n",
    "tdf['q1'] = tdf['p'].apply(lambda p: binom.ppf(0.025, n, p))\n",
    "tdf['q2'] = tdf['p'].apply(lambda p: binom.ppf(0.975, n, p))\n",
    "\n",
    "# Lets correct obvious scipy error\n",
    "tdf.loc[0, 'q1'] = 0\n",
    "display(tdf)    "
   ]
  },
  {
   "cell_type": "code",
   "execution_count": 6,
   "metadata": {},
   "outputs": [
    {
     "data": {
      "image/png": "[encoded data removed]",
      "text/plain": [
       "<Figure size 640x480 with 1 Axes>"
      ]
     },
     "metadata": {},
     "output_type": "display_data"
    },
    {
     "data": {
      "text/plain": [
       "<ggplot: (-9223372029302101132)>"
      ]
     },
     "execution_count": 6,
     "metadata": {},
     "output_type": "execute_result"
    }
   ],
   "source": [
    "p = ggplot(tdf)\n",
    "p + geom_segment(aes(x = 'q1', xend = 'q2', y = 'p', yend = 'p')) "
   ]
  },
  {
   "cell_type": "markdown",
   "metadata": {},
   "source": [
    "### Tabulate accepted hypoteses for each observation"
   ]
  },
  {
   "cell_type": "code",
   "execution_count": 7,
   "metadata": {},
   "outputs": [
    {
     "data": {
      "text/html": [
       "<table style=\"display:inline\"><tr><td style=\"text-align:center\">Accepted parameters</td><td style=\"text-align:center\">Extended intervals</td></tr><tr><td style=\"vertical-align:top\"> <table style=\"display:inline\" border=\"1\" class=\"dataframe\">\n",
       "  <thead>\n",
       "    <tr style=\"text-align: right;\">\n",
       "      <th>observed_k</th>\n",
       "      <th>accepted_p</th>\n",
       "    </tr>\n",
       "  </thead>\n",
       "  <tbody>\n",
       "    <tr>\n",
       "      <td>0</td>\n",
       "      <td>0.0</td>\n",
       "    </tr>\n",
       "    <tr>\n",
       "      <td>0</td>\n",
       "      <td>0.1</td>\n",
       "    </tr>\n",
       "    <tr>\n",
       "      <td>1</td>\n",
       "      <td>0.1</td>\n",
       "    </tr>\n",
       "    <tr>\n",
       "      <td>1</td>\n",
       "      <td>0.2</td>\n",
       "    </tr>\n",
       "    <tr>\n",
       "      <td>2</td>\n",
       "      <td>0.1</td>\n",
       "    </tr>\n",
       "  </tbody>\n",
       "</table style=\"display:inline\"></td><td style=\"vertical-align:top\"> <table style=\"display:inline\" border=\"1\" class=\"dataframe\">\n",
       "  <thead>\n",
       "    <tr style=\"text-align: right;\">\n",
       "      <th>observed_k</th>\n",
       "      <th>min</th>\n",
       "      <th>max</th>\n",
       "      <th>maxp</th>\n",
       "      <th>minp</th>\n",
       "    </tr>\n",
       "  </thead>\n",
       "  <tbody>\n",
       "    <tr>\n",
       "      <td>0</td>\n",
       "      <td>0.0</td>\n",
       "      <td>0.1</td>\n",
       "      <td>0.2</td>\n",
       "      <td>-0.1</td>\n",
       "    </tr>\n",
       "    <tr>\n",
       "      <td>1</td>\n",
       "      <td>0.1</td>\n",
       "      <td>0.2</td>\n",
       "      <td>0.3</td>\n",
       "      <td>0.0</td>\n",
       "    </tr>\n",
       "    <tr>\n",
       "      <td>2</td>\n",
       "      <td>0.1</td>\n",
       "      <td>0.3</td>\n",
       "      <td>0.4</td>\n",
       "      <td>0.0</td>\n",
       "    </tr>\n",
       "    <tr>\n",
       "      <td>3</td>\n",
       "      <td>0.1</td>\n",
       "      <td>0.3</td>\n",
       "      <td>0.4</td>\n",
       "      <td>0.0</td>\n",
       "    </tr>\n",
       "    <tr>\n",
       "      <td>4</td>\n",
       "      <td>0.1</td>\n",
       "      <td>0.4</td>\n",
       "      <td>0.5</td>\n",
       "      <td>0.0</td>\n",
       "    </tr>\n",
       "  </tbody>\n",
       "</table style=\"display:inline\"></td></tr></table style=\"display:inline\">"
      ]
     },
     "metadata": {},
     "output_type": "display_data"
    }
   ],
   "source": [
    "df =[None] * 21\n",
    "for k in range(21):\n",
    "    df[k] = DataFrame({'observed_k':k, 'accepted_p': tdf.loc[(tdf['q1'] <= k) & (k<= tdf['q2']), 'p']})\n",
    "df = pd.concat(df, ignore_index=True)\n",
    "\n",
    "\n",
    "# As we use finite grid we must extend the interval to next grid point  \n",
    "sdf = (df.groupby(['observed_k']).aggregate([min, max])\n",
    "       .pipe(lambda df: reset_column_index(df, 0))\n",
    "       .reset_index()\n",
    "       .assign(maxp = lambda df: df['max'] + 0.1)\n",
    "       .assign(minp = lambda df: df['min'] - 0.1))\n",
    "\n",
    "mdisplay([head(df), head(sdf)], ['Accepted parameters', 'Extended intervals'])"
   ]
  },
  {
   "cell_type": "markdown",
   "metadata": {},
   "source": [
    "### Visualisation of the search procedure"
   ]
  },
  {
   "cell_type": "code",
   "execution_count": 8,
   "metadata": {},
   "outputs": [
    {
     "data": {
      "image/png": "[encoded data removed]",
      "text/plain": [
       "<Figure size 640x480 with 1 Axes>"
      ]
     },
     "metadata": {},
     "output_type": "display_data"
    },
    {
     "data": {
      "text/plain": [
       "<ggplot: (7552905620)>"
      ]
     },
     "metadata": {},
     "output_type": "display_data"
    },
    {
     "data": {
      "image/png": "[encoded data removed]",
      "text/plain": [
       "<Figure size 640x480 with 1 Axes>"
      ]
     },
     "metadata": {},
     "output_type": "display_data"
    },
    {
     "data": {
      "text/plain": [
       "<ggplot: (-9223372029301870290)>"
      ]
     },
     "metadata": {},
     "output_type": "display_data"
    }
   ],
   "source": [
    "p = ggplot(tdf)\n",
    "p = p + geom_segment(aes(x = 'q1', xend = 'q2', y = 'p', yend = 'p'), color = 'blue') \n",
    "p = p + geom_point(aes(x = 'observed_k', y = 'accepted_p'), color = 'blue', data = df)\n",
    "p = p + scale_x_continuous(name = '')\n",
    "p = p + scale_y_continuous(name = '', limits=(-0.1, 1.1), breaks = [0, 0.5, 1.0])\n",
    "p.save('bin_conf_intervals_i.pdf', path='results', height=6, width=6, verbose=False)\n",
    "display(p)\n",
    "\n",
    "\n",
    "p = ggplot(df)\n",
    "p = p + geom_segment(aes(x = 'observed_k', xend = 'observed_k', y='minp', yend ='maxp'), color = 'red', data=sdf)\n",
    "p = p + geom_point(aes(x = 'observed_k', y = 'accepted_p'), color = 'blue')\n",
    "p = p + scale_x_continuous(name = '')\n",
    "p = p + scale_y_continuous(name = '', limits=(-0.1, 1.1), breaks = [0, 0.5, 1.0])\n",
    "p.save('bin_conf_intervals_ii.pdf', path='results', height=6, width=6, verbose=False)\n",
    "display(p)"
   ]
  },
  {
   "cell_type": "markdown",
   "metadata": {},
   "source": [
    "## III. What does the significance level mean?\n",
    "\n",
    "The significance level is a subtle concept. Most importantly, **the significance ** "
   ]
  },
  {
   "cell_type": "code",
   "execution_count": null,
   "metadata": {},
   "outputs": [],
   "source": [
    "https://www.statsmodels.org/dev/generated/statsmodels.stats.proportion.proportion_confint.html"
   ]
  },
  {
   "cell_type": "code",
   "execution_count": 10,
   "metadata": {},
   "outputs": [],
   "source": [
    "from statsmodels.stats.proportion import proportion_confint"
   ]
  },
  {
   "cell_type": "code",
   "execution_count": 16,
   "metadata": {},
   "outputs": [],
   "source": []
  },
  {
   "cell_type": "code",
   "execution_count": 97,
   "metadata": {},
   "outputs": [
    {
     "data": {
      "text/html": [
       "<table style=\"display:inline\"><tr><td style=\"text-align:center\">Large intervals</td><td style=\"text-align:center\">Small intervals</td></tr><tr><td style=\"vertical-align:top\"> <table style=\"display:inline\" border=\"1\" class=\"dataframe\">\n",
       "  <thead>\n",
       "    <tr style=\"text-align: right;\">\n",
       "      <th>k</th>\n",
       "      <th>q1</th>\n",
       "      <th>q2</th>\n",
       "      <th>fails</th>\n",
       "      <th>alpha</th>\n",
       "      <th>y</th>\n",
       "    </tr>\n",
       "  </thead>\n",
       "  <tbody>\n",
       "    <tr>\n",
       "      <td>8</td>\n",
       "      <td>0.208933</td>\n",
       "      <td>0.627797</td>\n",
       "      <td>False</td>\n",
       "      <td>$\\alpha =5\\%$</td>\n",
       "      <td>0.025</td>\n",
       "    </tr>\n",
       "    <tr>\n",
       "      <td>5</td>\n",
       "      <td>0.104081</td>\n",
       "      <td>0.474569</td>\n",
       "      <td>True</td>\n",
       "      <td>$\\alpha =5\\%$</td>\n",
       "      <td>0.050</td>\n",
       "    </tr>\n",
       "    <tr>\n",
       "      <td>6</td>\n",
       "      <td>0.139554</td>\n",
       "      <td>0.525431</td>\n",
       "      <td>False</td>\n",
       "      <td>$\\alpha =5\\%$</td>\n",
       "      <td>0.075</td>\n",
       "    </tr>\n",
       "    <tr>\n",
       "      <td>9</td>\n",
       "      <td>0.244259</td>\n",
       "      <td>0.680012</td>\n",
       "      <td>False</td>\n",
       "      <td>$\\alpha =5\\%$</td>\n",
       "      <td>0.100</td>\n",
       "    </tr>\n",
       "    <tr>\n",
       "      <td>10</td>\n",
       "      <td>0.292710</td>\n",
       "      <td>0.707290</td>\n",
       "      <td>False</td>\n",
       "      <td>$\\alpha =5\\%$</td>\n",
       "      <td>0.125</td>\n",
       "    </tr>\n",
       "  </tbody>\n",
       "</table style=\"display:inline\"></td><td style=\"vertical-align:top\"> <table style=\"display:inline\" border=\"1\" class=\"dataframe\">\n",
       "  <thead>\n",
       "    <tr style=\"text-align: right;\">\n",
       "      <th>k</th>\n",
       "      <th>q1</th>\n",
       "      <th>q2</th>\n",
       "      <th>fails</th>\n",
       "      <th>alpha</th>\n",
       "      <th>y</th>\n",
       "    </tr>\n",
       "  </thead>\n",
       "  <tbody>\n",
       "    <tr>\n",
       "      <td>8</td>\n",
       "      <td>0.261447</td>\n",
       "      <td>0.548953</td>\n",
       "      <td>False</td>\n",
       "      <td>$\\alpha =20\\%$</td>\n",
       "      <td>0.025</td>\n",
       "    </tr>\n",
       "    <tr>\n",
       "      <td>5</td>\n",
       "      <td>0.146317</td>\n",
       "      <td>0.402008</td>\n",
       "      <td>True</td>\n",
       "      <td>$\\alpha =20\\%$</td>\n",
       "      <td>0.050</td>\n",
       "    </tr>\n",
       "    <tr>\n",
       "      <td>6</td>\n",
       "      <td>0.180364</td>\n",
       "      <td>0.451047</td>\n",
       "      <td>True</td>\n",
       "      <td>$\\alpha =20\\%$</td>\n",
       "      <td>0.075</td>\n",
       "    </tr>\n",
       "    <tr>\n",
       "      <td>9</td>\n",
       "      <td>0.303198</td>\n",
       "      <td>0.597992</td>\n",
       "      <td>False</td>\n",
       "      <td>$\\alpha =20\\%$</td>\n",
       "      <td>0.100</td>\n",
       "    </tr>\n",
       "    <tr>\n",
       "      <td>10</td>\n",
       "      <td>0.352779</td>\n",
       "      <td>0.647221</td>\n",
       "      <td>False</td>\n",
       "      <td>$\\alpha =20\\%$</td>\n",
       "      <td>0.125</td>\n",
       "    </tr>\n",
       "  </tbody>\n",
       "</table style=\"display:inline\"></td></tr></table style=\"display:inline\">"
      ]
     },
     "metadata": {},
     "output_type": "display_data"
    }
   ],
   "source": [
    "r = 40\n",
    "\n",
    "# Confidence intervals at sihnificance level 5%\n",
    "obs1 = (DataFrame({'k': binom.rvs(n=20, p=0.5, size=r)})\n",
    "        .assign(q1 = lambda df: df['k'].apply(\n",
    "                            lambda k: proportion_confint(k, nobs=n, alpha = 0.05, method = 'binom_test')[0]))\n",
    "        .assign(q2 = lambda df: df['k'].apply(\n",
    "                            lambda k: proportion_confint(k, nobs=n, alpha = 0.05, method = 'binom_test')[1]))\n",
    "        .assign(fails = lambda df: (0.5 < df['q1']) | (df['q2'] < 0.5))\n",
    "        .assign(alpha = r'$\\alpha =5\\%$')\n",
    "        .assign(y = lambda df: (df.index.values + 1)/len(df.index))\n",
    "        )\n",
    "\n",
    "# Confidence intervals at sihnificance level 20%\n",
    "obs2 = (obs1[['k']]\n",
    "        .assign(q1 = lambda df: df['k'].apply(\n",
    "                                lambda k: proportion_confint(k, nobs=n, alpha = 0.20, method = 'binom_test')[0]))\n",
    "        .assign(q2 = lambda df: df['k'].apply(\n",
    "                                lambda k: proportion_confint(k, nobs=n, alpha = 0.20, method = 'binom_test')[1]))\n",
    "        .assign(fails = lambda df: (0.5 < df['q1']) | (df['q2'] < 0.5))\n",
    "        .assign(alpha = r'$\\alpha =20\\%$')\n",
    "        .assign(y = lambda df: (df.index.values + 1)/len(df.index))\n",
    ")\n",
    "\n",
    "mdisplay([head(obs1), head(obs2)], ['Large intervals', 'Small intervals'])"
   ]
  },
  {
   "cell_type": "code",
   "execution_count": 98,
   "metadata": {},
   "outputs": [
    {
     "data": {
      "image/png": "[encoded data removed]",
      "text/plain": [
       "<Figure size 640x480 with 2 Axes>"
      ]
     },
     "metadata": {},
     "output_type": "display_data"
    },
    {
     "data": {
      "text/plain": [
       "<ggplot: (-9223372036570602394)>"
      ]
     },
     "metadata": {},
     "output_type": "display_data"
    }
   ],
   "source": [
    "p = ggplot(pd.concat([obs1, obs2]))\n",
    "p = p + geom_segment(aes(x = 'q1', xend = 'q2', y = 'y', yend='y', color = 'fails'))\n",
    "p = p + facet_wrap(['alpha'])\n",
    "p = p + geom_vline(xintercept = 0.5, size = 1.5)\n",
    "p = p + scale_x_continuous(name = '') + scale_y_continuous(name = '')\n",
    "p = p + scale_color_manual(guide = False, values = ['blue', 'red'])\n",
    "p.save('confidence_intervals_example.pdf', path='results', height=6, width=12, verbose=False)\n",
    "display(p)"
   ]
  },
  {
   "cell_type": "markdown",
   "metadata": {},
   "source": [
    "# Homework  "
   ]
  },
  {
   "cell_type": "code",
   "execution_count": null,
   "metadata": {},
   "outputs": [],
   "source": []
  },
  {
   "cell_type": "code",
   "execution_count": 9,
   "metadata": {},
   "outputs": [],
   "source": [
    "%config IPCompleter.greedy=True"
   ]
  }
 ],
 "metadata": {
  "kernelspec": {
   "display_name": "Python 3",
   "language": "python",
   "name": "python3"
  },
  "language_info": {
   "codemirror_mode": {
    "name": "ipython",
    "version": 3
   },
   "file_extension": ".py",
   "mimetype": "text/x-python",
   "name": "python",
   "nbconvert_exporter": "python",
   "pygments_lexer": "ipython3",
   "version": "3.6.8"
  }
 },
 "nbformat": 4,
 "nbformat_minor": 2
}
