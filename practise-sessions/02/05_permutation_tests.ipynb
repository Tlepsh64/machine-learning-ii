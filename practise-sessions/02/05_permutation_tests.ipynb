{
 "cells": [
  {
   "cell_type": "markdown",
   "metadata": {},
   "source": [
    "# Permutation tests\n"
   ]
  },
  {
   "cell_type": "markdown",
   "metadata": {},
   "source": [
    "# Homework"
   ]
  },
  {
   "cell_type": "markdown",
   "metadata": {},
   "source": [
    "## 5.1 Baseline for linear prediction* (<font color='red'>2p</font>)\n",
    "\n",
    "Take some benchmark dataset for regression where at least some features are discrete.\n",
    "* Train a linear predictor. Estimate the training error. \n",
    "* Train a linear predictor on the data where all the target values are permuted. Estimate the test error on the original dataset. \n",
    "* Train a linear predictor on the data where the target values are permuted inside a group that is defined for some discrete feature. Estimate the test error on the original dataset. \n",
    "\n",
    "Repeat permutations so that you get distributions for the test error. Estimate where the original training error is located inside these distributions and interpret the results. You can also compare the distributions of test errors for two permutation schemes. What does the difference tell you?"
   ]
  },
  {
   "cell_type": "code",
   "execution_count": null,
   "metadata": {},
   "outputs": [],
   "source": []
  }
 ],
 "metadata": {
  "kernelspec": {
   "display_name": "Python 3",
   "language": "python",
   "name": "python3"
  },
  "language_info": {
   "codemirror_mode": {
    "name": "ipython",
    "version": 3
   },
   "file_extension": ".py",
   "mimetype": "text/x-python",
   "name": "python",
   "nbconvert_exporter": "python",
   "pygments_lexer": "ipython3",
   "version": "3.6.8"
  }
 },
 "nbformat": 4,
 "nbformat_minor": 2
}
