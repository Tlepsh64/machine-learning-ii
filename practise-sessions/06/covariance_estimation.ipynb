{
 "cells": [
  {
   "cell_type": "markdown",
   "metadata": {},
   "source": [
    "# Covariance matrix estimation in the presence of missing values\n",
    "\n",
    "There are many strategies to estimate the covariance matrix in the presence of missing values:\n",
    "\n",
    "* mean value imputation\n",
    "* maximum likelihood imputation\n",
    "* pairwise deletion \n",
    "* more complex EM-algorithm based solutions\n",
    "\n",
    "If data is missing completely at random (MCAR) then it is reasonable to compute the covariance matrix by computing pairwise covariances and omit pairs where at least one value is missing.\n",
    "\n",
    "However, this leads to an estimate that is not guaranteed to be positive semi-definite (PSD). A common hack to solve this is to find the nearest PSD matrix. The following notebook combines various internet sources to implement this approach."
   ]
  },
  {
   "cell_type": "code",
   "execution_count": 2,
   "metadata": {},
   "outputs": [],
   "source": [
    "import numpy as np\n",
    "import pandas as pd\n",
    "import numpy.random as rnd\n",
    "import scipy.stats as stats\n",
    "import matplotlib.pyplot as plt\n",
    "import scipy.cluster.hierarchy as hclust \n",
    "import sklearn\n",
    "\n",
    "from pandas import Series\n",
    "from pandas import DataFrame\n",
    "from typing import List,Tuple\n",
    "\n",
    "from pandas import Categorical\n",
    "from pandas.api.types import CategoricalDtype\n",
    "\n",
    "from tqdm import tnrange#, tqdm_notebook\n",
    "from plotnine import *\n",
    "\n",
    "from scipy.stats import norm\n",
    "from scipy.stats import multivariate_normal\n",
    "from scipy.stats import uniform \n",
    "\n",
    "\n",
    "from sklearn.cluster import AgglomerativeClustering\n",
    "\n",
    "# Local imports\n",
    "from common import *\n",
    "from convenience import *"
   ]
  },
  {
   "cell_type": "markdown",
   "metadata": {},
   "source": [
    "## I. Correct implementation of pairwise coefficient computation strategy\n",
    "\n",
    "The corresponding functions exist in `pandas` and `numpy` packages. However, the corresponding implementations differ according to [the documentation](https://github.com/pandas-dev/pandas/issues/16837).\n",
    "Hence, we are going to choose the one that is closest to the GNU R implementation. See comments in [this Stackoverflow discussion](\n",
    "https://stackoverflow.com/questions/8287573/numpy-ma-cov-pairwise-correlations-for-with-missing-values)."
   ]
  },
  {
   "cell_type": "markdown",
   "metadata": {},
   "source": [
    "### Test and target values in the Stackoverflow discussion"
   ]
  },
  {
   "cell_type": "code",
   "execution_count": 3,
   "metadata": {},
   "outputs": [],
   "source": [
    "test = [[np.nan, np.nan, 0.217, 0.562],\n",
    "        [np.nan, np.nan, 0.217, 0.562],\n",
    "        [0.269, 0.0, 0.217, 0.562],\n",
    "        [np.nan, np.nan, 0.217, -0.953],\n",
    "        [np.nan, np.nan, 0.217, -0.788],\n",
    "        [0.75, 0.0, 0.217, 0.326],\n",
    "        [0.207, 0.0, 0.217, 0.814],\n",
    "        [np.nan, np.nan, 0.217, 0.562],\n",
    "        [np.nan, np.nan, 0.217, -0.022],\n",
    "        [np.nan, np.nan, 0.217, 0.562],\n",
    "        [np.nan, np.nan, 0.217, -0.953],\n",
    "        [np.nan, np.nan, 0.217, -0.953],\n",
    "        [0.078, 0.0, 0.217, -0.953],\n",
    "        [np.nan, np.nan, 0.217, -0.953],\n",
    "        [0.078, 0.0, 0.217, 0.562]]\n",
    "\n",
    "target = [[0.0769733, 0, 0, 0.0428294],\n",
    "          [0.0000000, 0, 0, 0.0000000],\n",
    "          [0.0000000, 0, 0, 0.0000000],\n",
    "          [0.0428294, 0, 0, 0.5536484]]"
   ]
  },
  {
   "cell_type": "markdown",
   "metadata": {},
   "source": [
    "### Corresponding code"
   ]
  },
  {
   "cell_type": "code",
   "execution_count": 4,
   "metadata": {},
   "outputs": [
    {
     "data": {
      "text/html": [
       "<div>\n",
       "<style scoped>\n",
       "    .dataframe tbody tr th:only-of-type {\n",
       "        vertical-align: middle;\n",
       "    }\n",
       "\n",
       "    .dataframe tbody tr th {\n",
       "        vertical-align: top;\n",
       "    }\n",
       "\n",
       "    .dataframe thead th {\n",
       "        text-align: right;\n",
       "    }\n",
       "</style>\n",
       "<table border=\"1\" class=\"dataframe\">\n",
       "  <thead>\n",
       "    <tr style=\"text-align: right;\">\n",
       "      <th></th>\n",
       "      <th>0</th>\n",
       "      <th>1</th>\n",
       "      <th>2</th>\n",
       "      <th>3</th>\n",
       "    </tr>\n",
       "  </thead>\n",
       "  <tbody>\n",
       "    <tr>\n",
       "      <th>0</th>\n",
       "      <td>7.697330e-02</td>\n",
       "      <td>0.0</td>\n",
       "      <td>5.392604e-33</td>\n",
       "      <td>4.282940e-02</td>\n",
       "    </tr>\n",
       "    <tr>\n",
       "      <th>1</th>\n",
       "      <td>0.000000e+00</td>\n",
       "      <td>0.0</td>\n",
       "      <td>0.000000e+00</td>\n",
       "      <td>0.000000e+00</td>\n",
       "    </tr>\n",
       "    <tr>\n",
       "      <th>2</th>\n",
       "      <td>5.392604e-33</td>\n",
       "      <td>0.0</td>\n",
       "      <td>3.301594e-33</td>\n",
       "      <td>8.804251e-34</td>\n",
       "    </tr>\n",
       "    <tr>\n",
       "      <th>3</th>\n",
       "      <td>4.282940e-02</td>\n",
       "      <td>0.0</td>\n",
       "      <td>8.804251e-34</td>\n",
       "      <td>5.536484e-01</td>\n",
       "    </tr>\n",
       "  </tbody>\n",
       "</table>\n",
       "</div>"
      ],
      "text/plain": [
       "              0    1             2             3\n",
       "0  7.697330e-02  0.0  5.392604e-33  4.282940e-02\n",
       "1  0.000000e+00  0.0  0.000000e+00  0.000000e+00\n",
       "2  5.392604e-33  0.0  3.301594e-33  8.804251e-34\n",
       "3  4.282940e-02  0.0  8.804251e-34  5.536484e-01"
      ]
     },
     "metadata": {},
     "output_type": "display_data"
    }
   ],
   "source": [
    "maskedarr = np.ma.array(test, mask=np.isnan(test))\n",
    "cov = np.ma.cov(maskedarr,rowvar=False,allow_masked=True)\n",
    "display(DataFrame(np.ma.filled(cov.astype(float), np.nan)))"
   ]
  },
  {
   "cell_type": "markdown",
   "metadata": {},
   "source": [
    "### Corresponding function"
   ]
  },
  {
   "cell_type": "code",
   "execution_count": 5,
   "metadata": {},
   "outputs": [],
   "source": [
    "def pairwise_cov_matrix(X:np.array)-> np.array:\n",
    "    \"\"\"\n",
    "    Computes covariance matrix in the presence of missing values using pairwise covariance estimates.\n",
    "    \n",
    "    Argument:\n",
    "    X – data matrix where observations are in the rows\n",
    "    \n",
    "    Return value:\n",
    "    Covariance matrix that may contain nan values if the number of matching observations is too low\n",
    "    for a particular column pair.\n",
    "    \n",
    "    This implementation is the closest match to GNU R function cov(X, use = \"pairwise\"). \n",
    "    Note that the pandas implementation of the covariance matrix is different. \n",
    "    \"\"\"\n",
    "    \n",
    "    return np.ma.filled(np.ma.cov(np.ma.array(X, mask=np.isnan(X)),\n",
    "                                  rowvar=False, allow_masked=True).astype(float), np.nan)"
   ]
  },
  {
   "cell_type": "code",
   "execution_count": 6,
   "metadata": {},
   "outputs": [
    {
     "data": {
      "text/html": [
       "<div>\n",
       "<style scoped>\n",
       "    .dataframe tbody tr th:only-of-type {\n",
       "        vertical-align: middle;\n",
       "    }\n",
       "\n",
       "    .dataframe tbody tr th {\n",
       "        vertical-align: top;\n",
       "    }\n",
       "\n",
       "    .dataframe thead th {\n",
       "        text-align: right;\n",
       "    }\n",
       "</style>\n",
       "<table border=\"1\" class=\"dataframe\">\n",
       "  <thead>\n",
       "    <tr style=\"text-align: right;\">\n",
       "      <th></th>\n",
       "      <th>0</th>\n",
       "      <th>1</th>\n",
       "      <th>2</th>\n",
       "      <th>3</th>\n",
       "    </tr>\n",
       "  </thead>\n",
       "  <tbody>\n",
       "    <tr>\n",
       "      <th>0</th>\n",
       "      <td>0.000000e+00</td>\n",
       "      <td>0.0</td>\n",
       "      <td>5.392604e-33</td>\n",
       "      <td>-3.469447e-17</td>\n",
       "    </tr>\n",
       "    <tr>\n",
       "      <th>1</th>\n",
       "      <td>0.000000e+00</td>\n",
       "      <td>0.0</td>\n",
       "      <td>0.000000e+00</td>\n",
       "      <td>0.000000e+00</td>\n",
       "    </tr>\n",
       "    <tr>\n",
       "      <th>2</th>\n",
       "      <td>5.392604e-33</td>\n",
       "      <td>0.0</td>\n",
       "      <td>3.301594e-33</td>\n",
       "      <td>8.804251e-34</td>\n",
       "    </tr>\n",
       "    <tr>\n",
       "      <th>3</th>\n",
       "      <td>-3.469447e-17</td>\n",
       "      <td>0.0</td>\n",
       "      <td>8.804251e-34</td>\n",
       "      <td>9.523810e-09</td>\n",
       "    </tr>\n",
       "  </tbody>\n",
       "</table>\n",
       "</div>"
      ],
      "text/plain": [
       "              0    1             2             3\n",
       "0  0.000000e+00  0.0  5.392604e-33 -3.469447e-17\n",
       "1  0.000000e+00  0.0  0.000000e+00  0.000000e+00\n",
       "2  5.392604e-33  0.0  3.301594e-33  8.804251e-34\n",
       "3 -3.469447e-17  0.0  8.804251e-34  9.523810e-09"
      ]
     },
     "metadata": {},
     "output_type": "display_data"
    }
   ],
   "source": [
    "display(DataFrame(pairwise_cov_matrix(test) - target))"
   ]
  },
  {
   "cell_type": "markdown",
   "metadata": {},
   "source": [
    "## II.  Correct implementation of the nearest PSD matrix\n",
    "\n",
    "We take code directly from [the Stackoverflow discussion](https://stackoverflow.com/questions/10939213/how-can-i-calculate-the-nearest-positive-semi-definite-matrix) that also refers to [this blog post](http://statsadventure.blogspot.com/2011/12/non-pd-matrices-in-r-cont.html) for further details."
   ]
  },
  {
   "cell_type": "markdown",
   "metadata": {},
   "source": [
    "### Test and target values in the blog post discussion"
   ]
  },
  {
   "cell_type": "code",
   "execution_count": 7,
   "metadata": {},
   "outputs": [],
   "source": [
    "test = np.array([[1.0, 0.9, 0.7],\n",
    "                 [0.9, 1.0, 0.3],\n",
    "                 [0.7, 0.3, 1.0]])\n",
    "\n",
    "target = np.array([[1.0000000, 0.8940244, 0.6963191],\n",
    "                   [0.8940244, 1.0000000, 0.3009690],\n",
    "                   [0.6963191, 0.3009690, 1.0000000]])"
   ]
  },
  {
   "cell_type": "markdown",
   "metadata": {},
   "source": [
    "### Corresponding function"
   ]
  },
  {
   "cell_type": "code",
   "execution_count": 8,
   "metadata": {},
   "outputs": [],
   "source": [
    "def near_psd_matrix_simple(A,epsilon=0):\n",
    "   n = A.shape[0]\n",
    "   eigval, eigvec = np.linalg.eig(A)\n",
    "   val = np.matrix(np.maximum(eigval,epsilon))\n",
    "   vec = np.matrix(eigvec)\n",
    "   T = 1/(np.multiply(vec,vec) * val.T)\n",
    "   T = np.matrix(np.sqrt(np.diag(np.array(T).reshape((n)) )))\n",
    "   B = T * vec * np.diag(np.array(np.sqrt(val)).reshape((n)))\n",
    "   out = B*B.T\n",
    "   return(out)"
   ]
  },
  {
   "cell_type": "code",
   "execution_count": 9,
   "metadata": {},
   "outputs": [],
   "source": [
    "def near_psd_matrix(x:np.array, epsilon:float=0):\n",
    "    '''\n",
    "    Calculates the nearest postive semi-definite matrix for a correlation/covariance matrix\n",
    "\n",
    "    Parameters\n",
    "    ----------\n",
    "    x : array_like\n",
    "      Covariance/correlation matrix\n",
    "    epsilon : float\n",
    "      Eigenvalue limit (usually set to zero to ensure positive semi-definiteness)\n",
    "\n",
    "    Returns\n",
    "    -------\n",
    "    near_cov : array_like\n",
    "      closest positive semi-definite covariance/correlation matrix\n",
    "\n",
    "    Notes\n",
    "    -----\n",
    "    Document source\n",
    "    http://www.quarchome.org/correlationmatrix.pdf\n",
    "    \n",
    "    Source is directly copied form \n",
    "    https://stackoverflow.com/questions/10939213/how-can-i-calculate-the-nearest-positive-semi-definite-matrix\n",
    "    '''\n",
    "\n",
    "    if min(np.linalg.eigvals(x)) > epsilon:\n",
    "        return x\n",
    "\n",
    "    # Removing scaling factor of covariance matrix\n",
    "    n = x.shape[0]\n",
    "    var_list = np.array([np.sqrt(x[i,i]) for i in range(n)])\n",
    "    y = np.array([[x[i, j]/(var_list[i]*var_list[j]) for i in range(n)] for j in range(n)])\n",
    "\n",
    "    # getting the nearest correlation matrix\n",
    "    eigval, eigvec = np.linalg.eig(y)\n",
    "    val = np.matrix(np.maximum(eigval, epsilon))\n",
    "    vec = np.matrix(eigvec)\n",
    "    T = 1/(np.multiply(vec, vec) * val.T)\n",
    "    T = np.matrix(np.sqrt(np.diag(np.array(T).reshape((n)) )))\n",
    "    B = T * vec * np.diag(np.array(np.sqrt(val)).reshape((n)))\n",
    "    near_corr = B*B.T    \n",
    "\n",
    "    # returning the scaling factors\n",
    "    near_cov = np.array([[near_corr[i, j]*(var_list[i]*var_list[j]) for i in range(n)] for j in range(n)])\n",
    "    return near_cov"
   ]
  },
  {
   "cell_type": "code",
   "execution_count": 10,
   "metadata": {},
   "outputs": [
    {
     "data": {
      "text/html": [
       "<div>\n",
       "<style scoped>\n",
       "    .dataframe tbody tr th:only-of-type {\n",
       "        vertical-align: middle;\n",
       "    }\n",
       "\n",
       "    .dataframe tbody tr th {\n",
       "        vertical-align: top;\n",
       "    }\n",
       "\n",
       "    .dataframe thead th {\n",
       "        text-align: right;\n",
       "    }\n",
       "</style>\n",
       "<table border=\"1\" class=\"dataframe\">\n",
       "  <thead>\n",
       "    <tr style=\"text-align: right;\">\n",
       "      <th></th>\n",
       "      <th>0</th>\n",
       "      <th>1</th>\n",
       "      <th>2</th>\n",
       "    </tr>\n",
       "  </thead>\n",
       "  <tbody>\n",
       "    <tr>\n",
       "      <th>0</th>\n",
       "      <td>-3.330669e-16</td>\n",
       "      <td>8.508599e-09</td>\n",
       "      <td>-3.388561e-08</td>\n",
       "    </tr>\n",
       "    <tr>\n",
       "      <th>1</th>\n",
       "      <td>8.508599e-09</td>\n",
       "      <td>-2.220446e-16</td>\n",
       "      <td>3.610459e-08</td>\n",
       "    </tr>\n",
       "    <tr>\n",
       "      <th>2</th>\n",
       "      <td>-3.388561e-08</td>\n",
       "      <td>3.610459e-08</td>\n",
       "      <td>0.000000e+00</td>\n",
       "    </tr>\n",
       "  </tbody>\n",
       "</table>\n",
       "</div>"
      ],
      "text/plain": [
       "              0             1             2\n",
       "0 -3.330669e-16  8.508599e-09 -3.388561e-08\n",
       "1  8.508599e-09 -2.220446e-16  3.610459e-08\n",
       "2 -3.388561e-08  3.610459e-08  0.000000e+00"
      ]
     },
     "metadata": {},
     "output_type": "display_data"
    },
    {
     "data": {
      "text/html": [
       "<div>\n",
       "<style scoped>\n",
       "    .dataframe tbody tr th:only-of-type {\n",
       "        vertical-align: middle;\n",
       "    }\n",
       "\n",
       "    .dataframe tbody tr th {\n",
       "        vertical-align: top;\n",
       "    }\n",
       "\n",
       "    .dataframe thead th {\n",
       "        text-align: right;\n",
       "    }\n",
       "</style>\n",
       "<table border=\"1\" class=\"dataframe\">\n",
       "  <thead>\n",
       "    <tr style=\"text-align: right;\">\n",
       "      <th></th>\n",
       "      <th>0</th>\n",
       "      <th>1</th>\n",
       "      <th>2</th>\n",
       "    </tr>\n",
       "  </thead>\n",
       "  <tbody>\n",
       "    <tr>\n",
       "      <th>0</th>\n",
       "      <td>-3.330669e-16</td>\n",
       "      <td>8.508599e-09</td>\n",
       "      <td>-3.388561e-08</td>\n",
       "    </tr>\n",
       "    <tr>\n",
       "      <th>1</th>\n",
       "      <td>8.508599e-09</td>\n",
       "      <td>-2.220446e-16</td>\n",
       "      <td>3.610459e-08</td>\n",
       "    </tr>\n",
       "    <tr>\n",
       "      <th>2</th>\n",
       "      <td>-3.388561e-08</td>\n",
       "      <td>3.610459e-08</td>\n",
       "      <td>0.000000e+00</td>\n",
       "    </tr>\n",
       "  </tbody>\n",
       "</table>\n",
       "</div>"
      ],
      "text/plain": [
       "              0             1             2\n",
       "0 -3.330669e-16  8.508599e-09 -3.388561e-08\n",
       "1  8.508599e-09 -2.220446e-16  3.610459e-08\n",
       "2 -3.388561e-08  3.610459e-08  0.000000e+00"
      ]
     },
     "metadata": {},
     "output_type": "display_data"
    }
   ],
   "source": [
    "display(DataFrame(near_psd_matrix(test)-target))\n",
    "display(DataFrame(near_psd_matrix_simple(test)-target))"
   ]
  },
  {
   "cell_type": "markdown",
   "metadata": {},
   "source": [
    "### III. Correct implementation of the covariance matrix with pairwise computation strategy"
   ]
  },
  {
   "cell_type": "code",
   "execution_count": 11,
   "metadata": {},
   "outputs": [],
   "source": [
    "def pairwise_cov_matrix(X:np.array, psd_correction:bool=False, ridge_coeff:float=0)-> np.array:\n",
    "    \"\"\"\n",
    "    Computes covariance matrix in the presence of missing values using pairwise covariance estimates.\n",
    "    \n",
    "    Arguments:\n",
    "    X – data matrix where observations are in the rows\n",
    "    psd_correction – if set, makes the covariance matrix positive semi-definite\n",
    "    ridge_coeff – coefficient to be added to the main diagonal (before psd correction)\n",
    "    \n",
    "    Return value:\n",
    "    Covariance matrix that may contain nan values if the number of matching observations is too low\n",
    "    for a particular column pair. If psd_correction is set, return a matrix that is positive semi-definite\n",
    "    by finding the nearest PSD matrix for the original covariance matrix.  \n",
    "    \n",
    "    This implementation is the closest match to GNU R function cov(X, use = \"pairwise\"). \n",
    "    Note that the pandas implementation of the covariance matrix is different. \n",
    "    \"\"\"\n",
    "    \n",
    "    cov_matrix = np.ma.cov(np.ma.array(X, mask=np.isnan(X)), rowvar=False, allow_masked=True)\n",
    "\n",
    "    if np.ma.is_masked(cov_matrix):\n",
    "        raise Exception(\"Too many missing values\")\n",
    "    \n",
    "    cov_matrix = np.ma.filled(cov_matrix.astype(float), np.nan)\n",
    "    cov_matrix = 0.5 * (cov_matrix + cov_matrix.T) \n",
    "    cov_matrix[np.diag_indices_from(cov_matrix)] += ridge_coeff\n",
    "\n",
    "    if np.linalg.matrix_rank(cov_matrix) != cov_matrix.shape[0]:\n",
    "        raise Exception(\"Covariance matrix is linearly dependent. Increase ridge regularisation parameter\")\n",
    "    \n",
    "    return near_psd_matrix(cov_matrix) "
   ]
  },
  {
   "cell_type": "code",
   "execution_count": 12,
   "metadata": {},
   "outputs": [
    {
     "data": {
      "text/plain": [
       "array([[ 0.02334333,  0.05166667, -0.03166667],\n",
       "       [ 0.05166667,  0.14334333, -0.11833333],\n",
       "       [-0.03166667, -0.11833333,  0.12334333]])"
      ]
     },
     "execution_count": 12,
     "metadata": {},
     "output_type": "execute_result"
    }
   ],
   "source": [
    "pairwise_cov_matrix(test, ridge_coeff=0.00001)"
   ]
  },
  {
   "cell_type": "code",
   "execution_count": null,
   "metadata": {},
   "outputs": [],
   "source": []
  }
 ],
 "metadata": {
  "kernelspec": {
   "display_name": "Python 3",
   "language": "python",
   "name": "python3"
  },
  "language_info": {
   "codemirror_mode": {
    "name": "ipython",
    "version": 3
   },
   "file_extension": ".py",
   "mimetype": "text/x-python",
   "name": "python",
   "nbconvert_exporter": "python",
   "pygments_lexer": "ipython3",
   "version": "3.6.8"
  }
 },
 "nbformat": 4,
 "nbformat_minor": 2
}
